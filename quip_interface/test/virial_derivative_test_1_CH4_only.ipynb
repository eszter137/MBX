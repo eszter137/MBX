{
 "cells": [
  {
   "cell_type": "code",
   "execution_count": 1,
   "metadata": {},
   "outputs": [],
   "source": [
    "import quippy\n",
    "import ase\n",
    "from ase.calculators.calculator import all_changes\n",
    "\n",
    "import logging\n",
    "logging.basicConfig(level=logging.WARNING)"
   ]
  },
  {
   "cell_type": "code",
   "execution_count": 2,
   "metadata": {},
   "outputs": [],
   "source": [
    "import matplotlib as mpl\n",
    "import matplotlib.pyplot as plt\n",
    "import numpy as np"
   ]
  },
  {
   "cell_type": "code",
   "execution_count": 3,
   "metadata": {},
   "outputs": [],
   "source": [
    "import os\n",
    "import sys"
   ]
  },
  {
   "cell_type": "code",
   "execution_count": 4,
   "metadata": {},
   "outputs": [],
   "source": [
    "sys.path.insert(0,\"/home/es732/programs/function_modules/\")\n",
    "import mbx_functions"
   ]
  },
  {
   "cell_type": "code",
   "execution_count": 5,
   "metadata": {},
   "outputs": [
    {
     "name": "stdout",
     "output_type": "stream",
     "text": [
      "/home/es732/programs/MBX/quip_interface/test\n"
     ]
    }
   ],
   "source": [
    "dirpath = os.getcwd()\n",
    "print dirpath"
   ]
  },
  {
   "cell_type": "code",
   "execution_count": 6,
   "metadata": {},
   "outputs": [],
   "source": [
    "from collections import OrderedDict"
   ]
  },
  {
   "cell_type": "code",
   "execution_count": 7,
   "metadata": {},
   "outputs": [],
   "source": [
    "d_list=[0.1,0.01,0.001,0.0001,0.00001,0.000001]"
   ]
  },
  {
   "cell_type": "code",
   "execution_count": 8,
   "metadata": {},
   "outputs": [],
   "source": [
    "version_list=[\"mbx_pbc\",\"mbx_pbc_no_mww_pip\",\"mbx_pbc_no_www_mww\",\"mbx_pbc_no_ww_mw_www_mww\",\n",
    "              \"mbx_pbc_no_ww_mw\",\"mbx_pbc_no_ww\",\"mbx_pbc_no_mw\",\"mbx_pbc_no_ww_www_mww\"]"
   ]
  },
  {
   "cell_type": "code",
   "execution_count": 9,
   "metadata": {},
   "outputs": [],
   "source": [
    "structure_list=[\"corner\",\"central\"]"
   ]
  },
  {
   "cell_type": "code",
   "execution_count": 10,
   "metadata": {},
   "outputs": [],
   "source": [
    "dict_version_d_virial=OrderedDict([(struct,\n",
    "                                    OrderedDict([(version,\n",
    "                                        OrderedDict([(d, [[np.NaN, np.NaN, np.NaN], [np.NaN, np.NaN, np.NaN], [np.NaN, np.NaN, np.NaN]])\n",
    "                                                 for d in d_list]))\n",
    "                                       for version in version_list]))\n",
    "                                    for struct in structure_list])"
   ]
  },
  {
   "cell_type": "code",
   "execution_count": 11,
   "metadata": {},
   "outputs": [],
   "source": [
    "dict_version_model_virial=OrderedDict([(struct,\n",
    "                                        OrderedDict([(version,[[np.NaN, np.NaN, np.NaN], [np.NaN, np.NaN, np.NaN], [np.NaN, np.NaN, np.NaN]])\n",
    "                                       for version in version_list]))\n",
    "                                       for struct in structure_list]) "
   ]
  },
  {
   "cell_type": "code",
   "execution_count": 12,
   "metadata": {},
   "outputs": [],
   "source": [
    "def calculate_numerical_virial_diag(pot, in_atoms, d=1e-2):\n",
    "    ## modified from the function calculate_numerical_stress() at ase/calculators/calculator.py \n",
    "    \"\"\"Calculate numerical stress using finite difference.\"\"\"\n",
    "    pot.reset()\n",
    "\n",
    "    atoms=in_atoms.copy()\n",
    "    stress = np.zeros((3, 3), dtype=float)\n",
    "\n",
    "    cell = atoms.cell.copy()\n",
    "    V = atoms.get_volume()\n",
    "    for i in range(3):\n",
    "        x = np.eye(3)\n",
    "        x[i, i] += d\n",
    "        atoms.set_cell(np.dot(cell, x), scale_atoms=True)\n",
    "        atoms.set_calculator(pot)\n",
    "        eplus = atoms.get_potential_energy()#force_consistent=True)\n",
    "        pot.reset()\n",
    "\n",
    "        x[i, i] -= 2 * d\n",
    "        atoms.set_cell(np.dot(cell, x), scale_atoms=True)\n",
    "        atoms.set_calculator(pot)\n",
    "        eminus = atoms.get_potential_energy()#force_consistent=True)\n",
    "        pot.reset()\n",
    "\n",
    "        stress[i, i] = (eplus - eminus) / (2 * d * V)\n",
    "        x[i, i] += d\n",
    "    atoms.set_cell(cell, scale_atoms=True)\n",
    "    virial= (-stress*atoms.get_volume())\n",
    "    return virial"
   ]
  },
  {
   "cell_type": "code",
   "execution_count": 13,
   "metadata": {},
   "outputs": [],
   "source": [
    "this_root=\"/home/es732/programs/MBX/quip_interface/test/\""
   ]
  },
  {
   "cell_type": "code",
   "execution_count": 14,
   "metadata": {},
   "outputs": [],
   "source": [
    "this_struct=\"phase_clathrate_2x2x2_1_CH4.xyz\"\n",
    "this_at_tmp=quippy.Atoms(this_root+this_struct)\n",
    "dict_pot=mbx_functions.create_mbx_potential_variables(this_at_tmp)"
   ]
  },
  {
   "cell_type": "markdown",
   "metadata": {},
   "source": [
    "## test that energy is consistent"
   ]
  },
  {
   "cell_type": "code",
   "execution_count": 15,
   "metadata": {},
   "outputs": [
    {
     "data": {
      "text/plain": [
       "6"
      ]
     },
     "execution_count": 15,
     "metadata": {},
     "output_type": "execute_result"
    }
   ],
   "source": [
    "this_at_tmp.numbers[138]"
   ]
  },
  {
   "cell_type": "code",
   "execution_count": 16,
   "metadata": {},
   "outputs": [
    {
     "name": "stdout",
     "output_type": "stream",
     "text": [
      "[5.7790244  0.15542982 2.95623668]\n",
      "<type 'numpy.ndarray'>\n"
     ]
    }
   ],
   "source": [
    "pos_ch4_orig=this_at_tmp.positions[138]\n",
    "print pos_ch4_orig\n",
    "print type(pos_ch4_orig)"
   ]
  },
  {
   "cell_type": "code",
   "execution_count": 21,
   "metadata": {},
   "outputs": [],
   "source": [
    "import unwrap_oh2_ch4"
   ]
  },
  {
   "cell_type": "code",
   "execution_count": 32,
   "metadata": {},
   "outputs": [],
   "source": [
    "struct_corner_tmp=this_at_tmp.copy()\n",
    "for i in range(len(struct_corner_tmp)):\n",
    "    struct_corner_tmp.positions[i]=this_at_tmp.positions[i]-pos_ch4_orig\n",
    "\n",
    "struct_corner_tmp.wrap()\n",
    "\n",
    "struct_corner_unwrapped = unwrap_oh2_ch4.unwrap_water_methane_diff_order(ase.Atoms(struct_corner_tmp.copy()))\n",
    "struct_corner = ase.Atoms(struct_corner_unwrapped[\"phase_mw\"] )\n",
    "struct_corner=quippy.Atoms(struct_corner)"
   ]
  },
  {
   "cell_type": "code",
   "execution_count": 33,
   "metadata": {},
   "outputs": [],
   "source": [
    "struct_corner.write(\"phase_clathrate_2x2x2_1_CH4_corner.xyz\")"
   ]
  },
  {
   "cell_type": "code",
   "execution_count": 34,
   "metadata": {},
   "outputs": [
    {
     "data": {
      "text/plain": [
       "array([23.4858, 23.4858, 23.4858])"
      ]
     },
     "execution_count": 34,
     "metadata": {},
     "output_type": "execute_result"
    }
   ],
   "source": [
    "np.diag(this_at_tmp.cell)"
   ]
  },
  {
   "cell_type": "code",
   "execution_count": 35,
   "metadata": {},
   "outputs": [
    {
     "data": {
      "text/plain": [
       "array([ 5.9638756 , 11.58747018,  8.78666332])"
      ]
     },
     "execution_count": 35,
     "metadata": {},
     "output_type": "execute_result"
    }
   ],
   "source": [
    "pos_shift_middle=np.diag(this_at_tmp.cell)*0.5\n",
    "pos_shift_middle-pos_ch4_orig"
   ]
  },
  {
   "cell_type": "code",
   "execution_count": 36,
   "metadata": {},
   "outputs": [],
   "source": [
    "struct_central_tmp=this_at_tmp.copy()\n",
    "for i in range(len(struct_central_tmp)):\n",
    "    struct_central_tmp.positions[i]=this_at_tmp.positions[i]+(pos_shift_middle-pos_ch4_orig)\n",
    "struct_central_tmp.wrap()\n",
    "struct_central_unwrapped = unwrap_oh2_ch4.unwrap_water_methane_diff_order(ase.Atoms(struct_central_tmp.copy()))\n",
    "struct_central = ase.Atoms(struct_central_unwrapped[\"phase_mw\"] )\n",
    "struct_central=quippy.Atoms(struct_central)"
   ]
  },
  {
   "cell_type": "code",
   "execution_count": 37,
   "metadata": {},
   "outputs": [],
   "source": [
    "struct_central.write(\"phase_clathrate_2x2x2_1_CH4_central.xyz\")"
   ]
  },
  {
   "cell_type": "code",
   "execution_count": 38,
   "metadata": {},
   "outputs": [
    {
     "name": "stdout",
     "output_type": "stream",
     "text": [
      "mbx_pbc\n"
     ]
    }
   ],
   "source": [
    "this_version=version_list[0]\n",
    "print this_version\n",
    "pot_MBX = quippy.Potential(\"IP MBXPBC diagonal_virial=F n_monomers_types={\"+\n",
    "                           dict_pot[\"n_monomers_types\"]+\"} nmon=\"+str(dict_pot[\"nmon\"])+\n",
    "                           \" json_file=\"+this_version+\".json\",param_str=\"\")"
   ]
  },
  {
   "cell_type": "code",
   "execution_count": null,
   "metadata": {},
   "outputs": [],
   "source": []
  },
  {
   "cell_type": "code",
   "execution_count": 39,
   "metadata": {},
   "outputs": [],
   "source": [
    "pot_MBX.reset()\n",
    "pot_MBX.calc(struct_corner,energy=True,force=True,virial=True)\n",
    "energy_corner=struct_corner.params[\"energy\"]\n",
    "forces_corner=struct_corner.properties[\"force\"]\n",
    "virial_corner= np.array( struct_corner.params[\"virial\"])"
   ]
  },
  {
   "cell_type": "code",
   "execution_count": 40,
   "metadata": {},
   "outputs": [],
   "source": [
    "pot_MBX.reset()\n",
    "pot_MBX.calc(struct_central,energy=True,force=True,virial=True)\n",
    "energy_central=struct_central.params[\"energy\"]\n",
    "forces_central=struct_central.properties[\"force\"]\n",
    "virial_central= np.array( struct_central.params[\"virial\"])"
   ]
  },
  {
   "cell_type": "code",
   "execution_count": 41,
   "metadata": {},
   "outputs": [
    {
     "data": {
      "text/plain": [
       "-3.4219738154206425e-11"
      ]
     },
     "execution_count": 41,
     "metadata": {},
     "output_type": "execute_result"
    }
   ],
   "source": [
    "energy_corner-energy_central"
   ]
  },
  {
   "cell_type": "code",
   "execution_count": 42,
   "metadata": {},
   "outputs": [
    {
     "data": {
      "text/plain": [
       "FortranArray(5.14441267e-12)"
      ]
     },
     "execution_count": 42,
     "metadata": {},
     "output_type": "execute_result"
    }
   ],
   "source": [
    "np.max(forces_corner-forces_central)"
   ]
  },
  {
   "cell_type": "code",
   "execution_count": 43,
   "metadata": {},
   "outputs": [
    {
     "data": {
      "text/plain": [
       "array([[-1.71951342e-11, -7.25038363e-11,  2.42047132e-11],\n",
       "       [-7.25038363e-11, -2.66027200e-11,  6.20382079e-11],\n",
       "       [ 2.42047132e-11,  6.20382079e-11, -2.09183781e-11]])"
      ]
     },
     "execution_count": 43,
     "metadata": {},
     "output_type": "execute_result"
    }
   ],
   "source": [
    "virial_corner-virial_central"
   ]
  },
  {
   "cell_type": "code",
   "execution_count": null,
   "metadata": {},
   "outputs": [],
   "source": []
  },
  {
   "cell_type": "code",
   "execution_count": null,
   "metadata": {},
   "outputs": [],
   "source": []
  },
  {
   "cell_type": "code",
   "execution_count": null,
   "metadata": {},
   "outputs": [],
   "source": []
  },
  {
   "cell_type": "markdown",
   "metadata": {},
   "source": [
    "## diagonal_virial=F, only 2B mw PIP"
   ]
  },
  {
   "cell_type": "code",
   "execution_count": 44,
   "metadata": {},
   "outputs": [
    {
     "name": "stdout",
     "output_type": "stream",
     "text": [
      "mbx_pbc_no_ww_www_mww\n"
     ]
    }
   ],
   "source": [
    "this_version=version_list[7]\n",
    "print this_version"
   ]
  },
  {
   "cell_type": "code",
   "execution_count": 45,
   "metadata": {},
   "outputs": [],
   "source": [
    "pot_MBX = quippy.Potential(\"IP MBXPBC diagonal_virial=F n_monomers_types={\"+\n",
    "                           dict_pot[\"n_monomers_types\"]+\"} nmon=\"+str(dict_pot[\"nmon\"])+\n",
    "                           \" json_file=\"+this_version+\".json\",param_str=\"\")"
   ]
  },
  {
   "cell_type": "code",
   "execution_count": 46,
   "metadata": {},
   "outputs": [],
   "source": [
    "this_struct=\"corner\"\n",
    "at= struct_corner.copy()"
   ]
  },
  {
   "cell_type": "code",
   "execution_count": 47,
   "metadata": {},
   "outputs": [
    {
     "name": "stdout",
     "output_type": "stream",
     "text": [
      "[[-1130.27919495     2.23644373     4.32139573]\n",
      " [    2.23644373 -1147.06287748     5.36659804]\n",
      " [    4.32139573     5.36659804 -1142.27584258]]\n"
     ]
    }
   ],
   "source": [
    "pot_MBX.reset()\n",
    "pot_MBX.calc(at,virial=True)\n",
    "dict_version_model_virial[this_struct][this_version] = np.array( at.params[\"virial\"])\n",
    "print dict_version_model_virial[this_struct][this_version]"
   ]
  },
  {
   "cell_type": "code",
   "execution_count": 48,
   "metadata": {},
   "outputs": [],
   "source": [
    "for tmp_d in [0.01,0.001,0.0001,0.00001, 0.000001]:#, 0.0000001, 0.00000001, 0.000000001]:\n",
    "    dict_version_d_virial[this_struct][this_version][tmp_d] = calculate_numerical_virial_diag(pot=pot_MBX,in_atoms=this_at_tmp.copy(),d=tmp_d)\n",
    "    "
   ]
  },
  {
   "cell_type": "code",
   "execution_count": 49,
   "metadata": {},
   "outputs": [],
   "source": [
    "this_struct=\"central\"\n",
    "at= struct_central.copy()"
   ]
  },
  {
   "cell_type": "code",
   "execution_count": 50,
   "metadata": {},
   "outputs": [
    {
     "name": "stdout",
     "output_type": "stream",
     "text": [
      "[[-1130.27919495     2.23644373     4.32139573]\n",
      " [    2.23644373 -1147.06287748     5.36659804]\n",
      " [    4.32139573     5.36659804 -1142.27584258]]\n"
     ]
    }
   ],
   "source": [
    "pot_MBX.reset()\n",
    "pot_MBX.calc(at,virial=True)\n",
    "dict_version_model_virial[this_struct][this_version] = np.array( at.params[\"virial\"])\n",
    "print dict_version_model_virial[this_struct][this_version]"
   ]
  },
  {
   "cell_type": "code",
   "execution_count": 51,
   "metadata": {},
   "outputs": [],
   "source": [
    "for tmp_d in [0.01,0.001,0.0001,0.00001, 0.000001]:#, 0.0000001, 0.00000001, 0.000000001]:\n",
    "    dict_version_d_virial[this_struct][this_version][tmp_d] = calculate_numerical_virial_diag(pot=pot_MBX,in_atoms=this_at_tmp.copy(),d=tmp_d)\n",
    "    "
   ]
  },
  {
   "cell_type": "code",
   "execution_count": null,
   "metadata": {},
   "outputs": [],
   "source": []
  },
  {
   "cell_type": "code",
   "execution_count": null,
   "metadata": {},
   "outputs": [],
   "source": []
  },
  {
   "cell_type": "markdown",
   "metadata": {},
   "source": [
    "## Errors in derivative virial / Virial from model (only diagonal)"
   ]
  },
  {
   "cell_type": "markdown",
   "metadata": {},
   "source": [
    "### model without PIPs - except mw"
   ]
  },
  {
   "cell_type": "code",
   "execution_count": 52,
   "metadata": {},
   "outputs": [
    {
     "name": "stdout",
     "output_type": "stream",
     "text": [
      "d = 0.01\n",
      "[-0.00015633 -0.00012878 -0.00017994]\n",
      "d = 0.001\n",
      "[9.11363718e-05 9.86282464e-05 4.55514104e-05]\n",
      "d = 0.0001\n",
      "[9.36141549e-05 1.00897074e-04 4.78069017e-05]\n",
      "d = 1e-05\n",
      "[9.36388565e-05 1.00920072e-04 4.78295843e-05]\n",
      "d = 1e-06\n",
      "[9.36360704e-05 1.00921058e-04 4.78275291e-05]\n"
     ]
    }
   ],
   "source": [
    "this_version=\"mbx_pbc_no_ww_www_mww\"\n",
    "this_struct=\"corner\"\n",
    "for tmp_d in [0.01,0.001,0.0001,0.00001, 0.000001]:#, 0.0000001, 0.00000001, 0.000000001]:\n",
    "    print \"d =\",tmp_d\n",
    "    print np.diag((dict_version_d_virial[this_struct][this_version][tmp_d] -dict_version_model_virial[this_struct][this_version])/dict_version_model_virial[this_struct][this_version])"
   ]
  },
  {
   "cell_type": "code",
   "execution_count": 53,
   "metadata": {},
   "outputs": [
    {
     "name": "stdout",
     "output_type": "stream",
     "text": [
      "d = 0.01\n",
      "[-0.00015633 -0.00012878 -0.00017994]\n",
      "d = 0.001\n",
      "[9.11363718e-05 9.86282464e-05 4.55514104e-05]\n",
      "d = 0.0001\n",
      "[9.36141549e-05 1.00897074e-04 4.78069017e-05]\n",
      "d = 1e-05\n",
      "[9.36388565e-05 1.00920072e-04 4.78295843e-05]\n",
      "d = 1e-06\n",
      "[9.36360704e-05 1.00921058e-04 4.78275291e-05]\n"
     ]
    }
   ],
   "source": [
    "this_version=\"mbx_pbc_no_ww_www_mww\"\n",
    "this_struct=\"central\"\n",
    "for tmp_d in [0.01,0.001,0.0001,0.00001, 0.000001]:#, 0.0000001, 0.00000001, 0.000000001]:\n",
    "    print \"d =\",tmp_d\n",
    "    print np.diag((dict_version_d_virial[this_struct][this_version][tmp_d] -dict_version_model_virial[this_struct][this_version])/dict_version_model_virial[this_struct][this_version])"
   ]
  },
  {
   "cell_type": "code",
   "execution_count": 55,
   "metadata": {},
   "outputs": [
    {
     "name": "stdout",
     "output_type": "stream",
     "text": [
      "d = 0.01\n",
      "[0. 0. 0.]\n",
      "d = 0.001\n",
      "[0. 0. 0.]\n",
      "d = 0.0001\n",
      "[0. 0. 0.]\n",
      "d = 1e-05\n",
      "[0. 0. 0.]\n",
      "d = 1e-06\n",
      "[0. 0. 0.]\n"
     ]
    }
   ],
   "source": [
    "this_version=\"mbx_pbc_no_ww_www_mww\"\n",
    "this_struct1=\"central\"\n",
    "this_struct2=\"corner\"\n",
    "\n",
    "for tmp_d in [0.01,0.001,0.0001,0.00001, 0.000001]:#, 0.0000001, 0.00000001, 0.000000001]:\n",
    "    print \"d =\",tmp_d\n",
    "    print np.diag((dict_version_d_virial[this_struct1][this_version][tmp_d] -dict_version_d_virial[this_struct2][this_version][tmp_d] ))"
   ]
  },
  {
   "cell_type": "code",
   "execution_count": null,
   "metadata": {},
   "outputs": [],
   "source": []
  },
  {
   "cell_type": "code",
   "execution_count": null,
   "metadata": {},
   "outputs": [],
   "source": []
  },
  {
   "cell_type": "code",
   "execution_count": null,
   "metadata": {},
   "outputs": [],
   "source": []
  },
  {
   "cell_type": "code",
   "execution_count": null,
   "metadata": {},
   "outputs": [],
   "source": []
  },
  {
   "cell_type": "code",
   "execution_count": null,
   "metadata": {},
   "outputs": [],
   "source": []
  }
 ],
 "metadata": {
  "kernelspec": {
   "display_name": "Python 2",
   "language": "python",
   "name": "python2"
  },
  "language_info": {
   "codemirror_mode": {
    "name": "ipython",
    "version": 2
   },
   "file_extension": ".py",
   "mimetype": "text/x-python",
   "name": "python",
   "nbconvert_exporter": "python",
   "pygments_lexer": "ipython2",
   "version": "2.7.15"
  }
 },
 "nbformat": 4,
 "nbformat_minor": 2
}
