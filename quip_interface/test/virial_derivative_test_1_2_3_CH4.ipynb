{
 "cells": [
  {
   "cell_type": "code",
   "execution_count": 1,
   "metadata": {},
   "outputs": [],
   "source": [
    "import quippy\n",
    "import ase\n",
    "from ase.calculators.calculator import all_changes\n",
    "\n",
    "import logging\n",
    "logging.basicConfig(level=logging.WARNING)"
   ]
  },
  {
   "cell_type": "code",
   "execution_count": 2,
   "metadata": {},
   "outputs": [],
   "source": [
    "import matplotlib as mpl\n",
    "import matplotlib.pyplot as plt\n",
    "import numpy as np"
   ]
  },
  {
   "cell_type": "code",
   "execution_count": 3,
   "metadata": {},
   "outputs": [],
   "source": [
    "import os\n",
    "import sys"
   ]
  },
  {
   "cell_type": "code",
   "execution_count": 4,
   "metadata": {},
   "outputs": [],
   "source": [
    "sys.path.insert(0,\"/home/es732/programs/function_modules/\")\n",
    "import mbx_functions"
   ]
  },
  {
   "cell_type": "code",
   "execution_count": 5,
   "metadata": {},
   "outputs": [
    {
     "name": "stdout",
     "output_type": "stream",
     "text": [
      "/home/es732/programs/MBX/quip_interface/test\n"
     ]
    }
   ],
   "source": [
    "dirpath = os.getcwd()\n",
    "print dirpath"
   ]
  },
  {
   "cell_type": "code",
   "execution_count": 6,
   "metadata": {},
   "outputs": [],
   "source": [
    "from collections import OrderedDict"
   ]
  },
  {
   "cell_type": "code",
   "execution_count": 7,
   "metadata": {},
   "outputs": [],
   "source": [
    "d_list=[0.1,0.01,0.001,0.0001,0.00001,0.000001]"
   ]
  },
  {
   "cell_type": "code",
   "execution_count": 8,
   "metadata": {},
   "outputs": [],
   "source": [
    "version_list=[\"mbx_pbc\",\"mbx_pbc_no_mww_pip\",\"mbx_pbc_no_www_mww\",\"mbx_pbc_no_ww_mw_www_mww\",\n",
    "              \"mbx_pbc_no_ww_mw\",\"mbx_pbc_no_ww\",\"mbx_pbc_no_mw\",\"mbx_pbc_no_ww_www_mww\"]"
   ]
  },
  {
   "cell_type": "code",
   "execution_count": 9,
   "metadata": {},
   "outputs": [],
   "source": [
    "structure_list=[\"1\",\"2\",\"3\"]"
   ]
  },
  {
   "cell_type": "code",
   "execution_count": 10,
   "metadata": {},
   "outputs": [],
   "source": [
    "dict_version_d_virial=OrderedDict([(struct,\n",
    "                                    OrderedDict([(version,\n",
    "                                        OrderedDict([(d, [[np.NaN, np.NaN, np.NaN], [np.NaN, np.NaN, np.NaN], [np.NaN, np.NaN, np.NaN]])\n",
    "                                                 for d in d_list]))\n",
    "                                       for version in version_list]))\n",
    "                                    for struct in structure_list])"
   ]
  },
  {
   "cell_type": "code",
   "execution_count": 11,
   "metadata": {},
   "outputs": [],
   "source": [
    "dict_version_model_virial=OrderedDict([(struct,\n",
    "                                        OrderedDict([(version,[[np.NaN, np.NaN, np.NaN], [np.NaN, np.NaN, np.NaN], [np.NaN, np.NaN, np.NaN]])\n",
    "                                       for version in version_list]))\n",
    "                                       for struct in structure_list]) "
   ]
  },
  {
   "cell_type": "code",
   "execution_count": 12,
   "metadata": {},
   "outputs": [],
   "source": [
    "def calculate_numerical_virial_diag(pot, in_atoms, d=1e-2):\n",
    "    ## modified from the function calculate_numerical_stress() at ase/calculators/calculator.py \n",
    "    \"\"\"Calculate numerical stress using finite difference.\"\"\"\n",
    "    pot.reset()\n",
    "\n",
    "    atoms=in_atoms.copy()\n",
    "    stress = np.zeros((3, 3), dtype=float)\n",
    "\n",
    "    cell = atoms.cell.copy()\n",
    "    V = atoms.get_volume()\n",
    "    for i in range(3):\n",
    "        x = np.eye(3)\n",
    "        x[i, i] += d\n",
    "        atoms.set_cell(np.dot(cell, x), scale_atoms=True)\n",
    "        atoms.set_calculator(pot)\n",
    "        eplus = atoms.get_potential_energy()#force_consistent=True)\n",
    "        pot.reset()\n",
    "\n",
    "        x[i, i] -= 2 * d\n",
    "        atoms.set_cell(np.dot(cell, x), scale_atoms=True)\n",
    "        atoms.set_calculator(pot)\n",
    "        eminus = atoms.get_potential_energy()#force_consistent=True)\n",
    "        pot.reset()\n",
    "\n",
    "        stress[i, i] = (eplus - eminus) / (2 * d * V)\n",
    "        x[i, i] += d\n",
    "    atoms.set_cell(cell, scale_atoms=True)\n",
    "    virial= (-stress*atoms.get_volume())\n",
    "    return virial"
   ]
  },
  {
   "cell_type": "code",
   "execution_count": 13,
   "metadata": {},
   "outputs": [],
   "source": [
    "this_root=\"/home/es732/programs/MBX/quip_interface/test/\""
   ]
  },
  {
   "cell_type": "code",
   "execution_count": 14,
   "metadata": {},
   "outputs": [],
   "source": [
    "this_struct=\"1\"\n",
    "this_file=\"phase_clathrate_2x2x2_\"+this_struct+\"_CH4.xyz\"\n",
    "this_at_tmp=quippy.Atoms(this_root+this_file)\n",
    "dict_pot=mbx_functions.create_mbx_potential_variables(this_at_tmp)"
   ]
  },
  {
   "cell_type": "markdown",
   "metadata": {},
   "source": [
    "## diagonal_virial=F, only 2B mw PIP"
   ]
  },
  {
   "cell_type": "code",
   "execution_count": 15,
   "metadata": {},
   "outputs": [
    {
     "name": "stdout",
     "output_type": "stream",
     "text": [
      "mbx_pbc_no_ww_www_mww\n"
     ]
    }
   ],
   "source": [
    "this_version=version_list[7]\n",
    "print this_version"
   ]
  },
  {
   "cell_type": "code",
   "execution_count": 16,
   "metadata": {},
   "outputs": [],
   "source": [
    "pot_MBX = quippy.Potential(\"IP MBXPBC diagonal_virial=F n_monomers_types={\"+\n",
    "                           dict_pot[\"n_monomers_types\"]+\"} nmon=\"+str(dict_pot[\"nmon\"])+\n",
    "                           \" json_file=\"+this_version+\".json\",param_str=\"\")"
   ]
  },
  {
   "cell_type": "code",
   "execution_count": 17,
   "metadata": {},
   "outputs": [],
   "source": [
    "\n",
    "at= this_at_tmp.copy()"
   ]
  },
  {
   "cell_type": "code",
   "execution_count": 18,
   "metadata": {},
   "outputs": [
    {
     "name": "stdout",
     "output_type": "stream",
     "text": [
      "[[-1130.27884335     2.23652556     4.3212633 ]\n",
      " [    2.23652556 -1147.06608404     5.36647072]\n",
      " [    4.3212633      5.36647072 -1142.2747285 ]]\n"
     ]
    }
   ],
   "source": [
    "pot_MBX.reset()\n",
    "pot_MBX.calc(at,virial=True)\n",
    "dict_version_model_virial[this_struct][this_version] = np.array( at.params[\"virial\"])\n",
    "print dict_version_model_virial[this_struct][this_version]"
   ]
  },
  {
   "cell_type": "code",
   "execution_count": 19,
   "metadata": {},
   "outputs": [],
   "source": [
    "for tmp_d in [0.001,0.0001,0.00001, 0.000001]:#, 0.0000001, 0.00000001, 0.000000001]:\n",
    "    dict_version_d_virial[this_struct][this_version][tmp_d] = calculate_numerical_virial_diag(pot=pot_MBX,in_atoms=this_at_tmp.copy(),d=tmp_d)\n",
    "    "
   ]
  },
  {
   "cell_type": "markdown",
   "metadata": {},
   "source": [
    "## diagonal_virial=F, no PIPs"
   ]
  },
  {
   "cell_type": "code",
   "execution_count": 20,
   "metadata": {},
   "outputs": [
    {
     "name": "stdout",
     "output_type": "stream",
     "text": [
      "mbx_pbc_no_ww_mw_www_mww\n"
     ]
    }
   ],
   "source": [
    "this_version=version_list[3]\n",
    "print this_version"
   ]
  },
  {
   "cell_type": "code",
   "execution_count": 21,
   "metadata": {},
   "outputs": [],
   "source": [
    "pot_MBX = quippy.Potential(\"IP MBXPBC diagonal_virial=F n_monomers_types={\"+\n",
    "                           dict_pot[\"n_monomers_types\"]+\"} nmon=\"+str(dict_pot[\"nmon\"])+\n",
    "                           \" json_file=\"+this_version+\".json\",param_str=\"\")"
   ]
  },
  {
   "cell_type": "code",
   "execution_count": 22,
   "metadata": {},
   "outputs": [],
   "source": [
    "at = this_at_tmp.copy()"
   ]
  },
  {
   "cell_type": "code",
   "execution_count": 23,
   "metadata": {},
   "outputs": [
    {
     "name": "stdout",
     "output_type": "stream",
     "text": [
      "[[-1131.04480039     2.27380475     4.28009241]\n",
      " [    2.27380475 -1147.73769625     5.45378687]\n",
      " [    4.28009241     5.45378687 -1143.11236183]]\n"
     ]
    }
   ],
   "source": [
    "pot_MBX.reset()\n",
    "pot_MBX.calc(at,virial=True)\n",
    "dict_version_model_virial[this_struct][this_version] = np.array( at.params[\"virial\"])\n",
    "print dict_version_model_virial[this_struct][this_version]"
   ]
  },
  {
   "cell_type": "code",
   "execution_count": 24,
   "metadata": {},
   "outputs": [],
   "source": [
    "for tmp_d in [0.001,0.0001,0.00001, 0.000001]:#, 0.0000001, 0.00000001, 0.000000001]:\n",
    "    dict_version_d_virial[this_struct][this_version][tmp_d] = calculate_numerical_virial_diag(pot=pot_MBX,in_atoms=this_at_tmp.copy(),d=tmp_d)\n",
    "    "
   ]
  },
  {
   "cell_type": "code",
   "execution_count": null,
   "metadata": {},
   "outputs": [],
   "source": []
  },
  {
   "cell_type": "code",
   "execution_count": 31,
   "metadata": {},
   "outputs": [],
   "source": [
    "this_struct=\"2\"\n",
    "this_file=\"phase_clathrate_2x2x2_\"+this_struct+\"_CH4.xyz\"\n",
    "this_at_tmp=quippy.Atoms(this_root+this_file)\n",
    "dict_pot=mbx_functions.create_mbx_potential_variables(this_at_tmp)"
   ]
  },
  {
   "cell_type": "markdown",
   "metadata": {},
   "source": [
    "## diagonal_virial=F, only 2B mw PIP"
   ]
  },
  {
   "cell_type": "code",
   "execution_count": 32,
   "metadata": {},
   "outputs": [
    {
     "name": "stdout",
     "output_type": "stream",
     "text": [
      "mbx_pbc_no_ww_www_mww\n"
     ]
    }
   ],
   "source": [
    "this_version=version_list[7]\n",
    "print this_version"
   ]
  },
  {
   "cell_type": "code",
   "execution_count": 33,
   "metadata": {},
   "outputs": [],
   "source": [
    "pot_MBX = quippy.Potential(\"IP MBXPBC diagonal_virial=F n_monomers_types={\"+\n",
    "                           dict_pot[\"n_monomers_types\"]+\"} nmon=\"+str(dict_pot[\"nmon\"])+\n",
    "                           \" json_file=\"+this_version+\".json\",param_str=\"\")"
   ]
  },
  {
   "cell_type": "code",
   "execution_count": 34,
   "metadata": {},
   "outputs": [],
   "source": [
    "\n",
    "at= this_at_tmp.copy()"
   ]
  },
  {
   "cell_type": "code",
   "execution_count": 35,
   "metadata": {},
   "outputs": [
    {
     "name": "stdout",
     "output_type": "stream",
     "text": [
      "[[-1130.65329757     2.26553728     4.29187905]\n",
      " [    2.26553728 -1147.40649937     5.35703245]\n",
      " [    4.29187905     5.35703245 -1142.61638922]]\n"
     ]
    }
   ],
   "source": [
    "pot_MBX.reset()\n",
    "pot_MBX.calc(at,virial=True)\n",
    "dict_version_model_virial[this_struct][this_version] = np.array( at.params[\"virial\"])\n",
    "print dict_version_model_virial[this_struct][this_version]"
   ]
  },
  {
   "cell_type": "code",
   "execution_count": 36,
   "metadata": {},
   "outputs": [],
   "source": [
    "for tmp_d in [0.001,0.0001,0.00001, 0.000001]:#, 0.0000001, 0.00000001, 0.000000001]:\n",
    "    dict_version_d_virial[this_struct][this_version][tmp_d] = calculate_numerical_virial_diag(pot=pot_MBX,in_atoms=this_at_tmp.copy(),d=tmp_d)\n",
    "    "
   ]
  },
  {
   "cell_type": "markdown",
   "metadata": {},
   "source": [
    "## diagonal_virial=F, no PIPs"
   ]
  },
  {
   "cell_type": "code",
   "execution_count": 37,
   "metadata": {},
   "outputs": [
    {
     "name": "stdout",
     "output_type": "stream",
     "text": [
      "mbx_pbc_no_ww_mw_www_mww\n"
     ]
    }
   ],
   "source": [
    "this_version=version_list[3]\n",
    "print this_version"
   ]
  },
  {
   "cell_type": "code",
   "execution_count": 38,
   "metadata": {},
   "outputs": [],
   "source": [
    "pot_MBX = quippy.Potential(\"IP MBXPBC diagonal_virial=F n_monomers_types={\"+\n",
    "                           dict_pot[\"n_monomers_types\"]+\"} nmon=\"+str(dict_pot[\"nmon\"])+\n",
    "                           \" json_file=\"+this_version+\".json\",param_str=\"\")"
   ]
  },
  {
   "cell_type": "code",
   "execution_count": 39,
   "metadata": {},
   "outputs": [],
   "source": [
    "at = this_at_tmp.copy()"
   ]
  },
  {
   "cell_type": "code",
   "execution_count": 40,
   "metadata": {},
   "outputs": [
    {
     "name": "stdout",
     "output_type": "stream",
     "text": [
      "[[-1132.10877804     2.27977331     4.29292089]\n",
      " [    2.27977331 -1148.77952016     5.4896803 ]\n",
      " [    4.29292089     5.4896803  -1144.25915268]]\n"
     ]
    }
   ],
   "source": [
    "pot_MBX.reset()\n",
    "pot_MBX.calc(at,virial=True)\n",
    "dict_version_model_virial[this_struct][this_version] = np.array( at.params[\"virial\"])\n",
    "print dict_version_model_virial[this_struct][this_version]"
   ]
  },
  {
   "cell_type": "code",
   "execution_count": 41,
   "metadata": {},
   "outputs": [],
   "source": [
    "for tmp_d in [0.001,0.0001,0.00001, 0.000001]:#, 0.0000001, 0.00000001, 0.000000001]:\n",
    "    dict_version_d_virial[this_struct][this_version][tmp_d] = calculate_numerical_virial_diag(pot=pot_MBX,in_atoms=this_at_tmp.copy(),d=tmp_d)\n",
    "    "
   ]
  },
  {
   "cell_type": "code",
   "execution_count": null,
   "metadata": {},
   "outputs": [],
   "source": []
  },
  {
   "cell_type": "code",
   "execution_count": 42,
   "metadata": {},
   "outputs": [],
   "source": [
    "this_struct=\"3\"\n",
    "this_file=\"phase_clathrate_2x2x2_\"+this_struct+\"_CH4.xyz\"\n",
    "this_at_tmp=quippy.Atoms(this_root+this_file)\n",
    "dict_pot=mbx_functions.create_mbx_potential_variables(this_at_tmp)"
   ]
  },
  {
   "cell_type": "markdown",
   "metadata": {},
   "source": [
    "## diagonal_virial=F, only 2B mw PIP"
   ]
  },
  {
   "cell_type": "code",
   "execution_count": 43,
   "metadata": {},
   "outputs": [
    {
     "name": "stdout",
     "output_type": "stream",
     "text": [
      "mbx_pbc_no_ww_www_mww\n"
     ]
    }
   ],
   "source": [
    "this_version=version_list[7]\n",
    "print this_version"
   ]
  },
  {
   "cell_type": "code",
   "execution_count": 44,
   "metadata": {},
   "outputs": [],
   "source": [
    "pot_MBX = quippy.Potential(\"IP MBXPBC diagonal_virial=F n_monomers_types={\"+\n",
    "                           dict_pot[\"n_monomers_types\"]+\"} nmon=\"+str(dict_pot[\"nmon\"])+\n",
    "                           \" json_file=\"+this_version+\".json\",param_str=\"\")"
   ]
  },
  {
   "cell_type": "code",
   "execution_count": 45,
   "metadata": {},
   "outputs": [],
   "source": [
    "\n",
    "at= this_at_tmp.copy()"
   ]
  },
  {
   "cell_type": "code",
   "execution_count": 46,
   "metadata": {},
   "outputs": [
    {
     "name": "stdout",
     "output_type": "stream",
     "text": [
      "[[-1130.95274017     2.26813386     4.31131634]\n",
      " [    2.26813386 -1147.80274147     5.34347151]\n",
      " [    4.31131634     5.34347151 -1142.97238631]]\n"
     ]
    }
   ],
   "source": [
    "pot_MBX.reset()\n",
    "pot_MBX.calc(at,virial=True)\n",
    "dict_version_model_virial[this_struct][this_version] = np.array( at.params[\"virial\"])\n",
    "print dict_version_model_virial[this_struct][this_version]"
   ]
  },
  {
   "cell_type": "code",
   "execution_count": 47,
   "metadata": {},
   "outputs": [],
   "source": [
    "for tmp_d in [0.001,0.0001,0.00001, 0.000001]:#, 0.0000001, 0.00000001, 0.000000001]:\n",
    "    dict_version_d_virial[this_struct][this_version][tmp_d] = calculate_numerical_virial_diag(pot=pot_MBX,in_atoms=this_at_tmp.copy(),d=tmp_d)\n",
    "    "
   ]
  },
  {
   "cell_type": "markdown",
   "metadata": {},
   "source": [
    "## diagonal_virial=F, no PIPs"
   ]
  },
  {
   "cell_type": "code",
   "execution_count": 48,
   "metadata": {},
   "outputs": [
    {
     "name": "stdout",
     "output_type": "stream",
     "text": [
      "mbx_pbc_no_ww_mw_www_mww\n"
     ]
    }
   ],
   "source": [
    "this_version=version_list[3]\n",
    "print this_version"
   ]
  },
  {
   "cell_type": "code",
   "execution_count": 49,
   "metadata": {},
   "outputs": [],
   "source": [
    "pot_MBX = quippy.Potential(\"IP MBXPBC diagonal_virial=F n_monomers_types={\"+\n",
    "                           dict_pot[\"n_monomers_types\"]+\"} nmon=\"+str(dict_pot[\"nmon\"])+\n",
    "                           \" json_file=\"+this_version+\".json\",param_str=\"\")"
   ]
  },
  {
   "cell_type": "code",
   "execution_count": 50,
   "metadata": {},
   "outputs": [],
   "source": [
    "at = this_at_tmp.copy()"
   ]
  },
  {
   "cell_type": "code",
   "execution_count": 51,
   "metadata": {},
   "outputs": [
    {
     "name": "stdout",
     "output_type": "stream",
     "text": [
      "[[-1133.20991473     2.27502635     4.28738731]\n",
      " [    2.27502635 -1149.84385019     5.51453947]\n",
      " [    4.28738731     5.51453947 -1145.31327123]]\n"
     ]
    }
   ],
   "source": [
    "pot_MBX.reset()\n",
    "pot_MBX.calc(at,virial=True)\n",
    "dict_version_model_virial[this_struct][this_version] = np.array( at.params[\"virial\"])\n",
    "print dict_version_model_virial[this_struct][this_version]"
   ]
  },
  {
   "cell_type": "code",
   "execution_count": 53,
   "metadata": {},
   "outputs": [],
   "source": [
    "for tmp_d in [0.001,0.0001,0.00001, 0.000001]:#, 0.0000001, 0.00000001, 0.000000001]:\n",
    "    dict_version_d_virial[this_struct][this_version][tmp_d] = calculate_numerical_virial_diag(pot=pot_MBX,in_atoms=this_at_tmp.copy(),d=tmp_d)\n",
    "    "
   ]
  },
  {
   "cell_type": "code",
   "execution_count": null,
   "metadata": {},
   "outputs": [],
   "source": []
  },
  {
   "cell_type": "markdown",
   "metadata": {},
   "source": [
    "## Errors in derivative virial / Virial from model (only diagonal)"
   ]
  },
  {
   "cell_type": "markdown",
   "metadata": {},
   "source": [
    "## only 2B mw PIP"
   ]
  },
  {
   "cell_type": "code",
   "execution_count": 54,
   "metadata": {},
   "outputs": [
    {
     "name": "stdout",
     "output_type": "stream",
     "text": [
      "1\n",
      "d = 0.001\n",
      "[-0.13863124 -0.16759354 -0.06655558]\n",
      "d = 0.0001\n",
      "[-0.13863696 -0.16758939 -0.06655517]\n",
      "d = 1e-05\n",
      "[-0.13863704 -0.16758948 -0.0665552 ]\n",
      "d = 1e-06\n",
      "[-0.13863699 -0.16758948 -0.06655508]\n",
      "2\n",
      "d = 0.001\n",
      "[-0.14034233 -0.16247301 -0.06108817]\n",
      "d = 0.0001\n",
      "[-0.14035028 -0.16247457 -0.0610892 ]\n",
      "d = 1e-05\n",
      "[-0.14035037 -0.16247466 -0.06108923]\n",
      "d = 1e-06\n",
      "[-0.14035026 -0.16247467 -0.06108919]\n",
      "3\n",
      "d = 0.001\n",
      "[-0.11492473 -0.1624846  -0.08284237]\n",
      "d = 0.0001\n",
      "[-0.11493125 -0.1624893  -0.08284559]\n",
      "d = 1e-05\n",
      "[-0.11493132 -0.1624894  -0.08284563]\n",
      "d = 1e-06\n",
      "[-0.11493127 -0.16248939 -0.08284557]\n"
     ]
    }
   ],
   "source": [
    "this_version1=\"mbx_pbc_no_ww_www_mww\"\n",
    "this_version2=\"mbx_pbc_no_ww_mw_www_mww\"\n",
    "for this_struct in [\"1\",\"2\",\"3\"]:\n",
    "    print this_struct\n",
    "    for tmp_d in [0.001,0.0001,0.00001, 0.000001]:#, 0.0000001, 0.00000001, 0.000000001]:\n",
    "        print \"d =\",tmp_d\n",
    "        v1_numerical = dict_version_d_virial[this_struct][this_version1][tmp_d]\n",
    "        v2_numerical = dict_version_d_virial[this_struct][this_version2][tmp_d]\n",
    "        v1_model = dict_version_model_virial[this_struct][this_version1]\n",
    "        v2_model = dict_version_model_virial[this_struct][this_version2]\n",
    "        difference_numerical = v1_numerical-v2_numerical\n",
    "        difference_model=v1_model-v2_model\n",
    "        print np.diag((difference_numerical -difference_model)/difference_model)"
   ]
  },
  {
   "cell_type": "code",
   "execution_count": null,
   "metadata": {},
   "outputs": [],
   "source": []
  }
 ],
 "metadata": {
  "kernelspec": {
   "display_name": "Python 2",
   "language": "python",
   "name": "python2"
  },
  "language_info": {
   "codemirror_mode": {
    "name": "ipython",
    "version": 2
   },
   "file_extension": ".py",
   "mimetype": "text/x-python",
   "name": "python",
   "nbconvert_exporter": "python",
   "pygments_lexer": "ipython2",
   "version": "2.7.15"
  }
 },
 "nbformat": 4,
 "nbformat_minor": 2
}
