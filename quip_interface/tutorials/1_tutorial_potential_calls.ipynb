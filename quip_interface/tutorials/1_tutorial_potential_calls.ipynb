{
 "cells": [
  {
   "cell_type": "markdown",
   "metadata": {},
   "source": [
    "# MBX usage"
   ]
  },
  {
   "cell_type": "code",
   "execution_count": 1,
   "metadata": {},
   "outputs": [],
   "source": [
    "import quippy\n",
    "import numpy as np\n",
    "import os\n",
    "import matplotlib as mpl\n",
    "import matplotlib.pyplot as plt\n",
    "import StringIO\n",
    "import glob\n",
    "import sys\n",
    "import ase"
   ]
  },
  {
   "cell_type": "code",
   "execution_count": 2,
   "metadata": {},
   "outputs": [],
   "source": [
    "this_dir = os.getcwd()"
   ]
  },
  {
   "cell_type": "code",
   "execution_count": 3,
   "metadata": {},
   "outputs": [],
   "source": [
    "\n",
    "root_mbx_functions=(this_dir.split(\"tutorials\")[0])\n",
    "sys.path.insert(0,root_mbx_functions)\n",
    "import mbx_functions\n",
    "import unwrap_oh2_ch4"
   ]
  },
  {
   "cell_type": "code",
   "execution_count": null,
   "metadata": {},
   "outputs": [],
   "source": []
  },
  {
   "cell_type": "code",
   "execution_count": 4,
   "metadata": {},
   "outputs": [],
   "source": [
    "from CalcMBXnonperiodic import CalcMBX\n",
    "potMBX_non_periodic = CalcMBX()"
   ]
  },
  {
   "cell_type": "code",
   "execution_count": 5,
   "metadata": {},
   "outputs": [],
   "source": [
    "from SuperCellCalcMBX import SuperCellCalcMBX\n",
    "potMBX_periodic = SuperCellCalcMBX()"
   ]
  },
  {
   "cell_type": "markdown",
   "metadata": {},
   "source": [
    "### one can check the possible arguments of the potential assignment as:"
   ]
  },
  {
   "cell_type": "code",
   "execution_count": 6,
   "metadata": {},
   "outputs": [],
   "source": [
    "SuperCellCalcMBX?"
   ]
  },
  {
   "cell_type": "markdown",
   "metadata": {},
   "source": [
    "```Init signature: SuperCellCalcMBX(self, min_box_requirement=24.0, my_json='mbx_pbc.json', **kwargs)\n",
    "```\n",
    "\n",
    "one can specify to use another json file in which different polynomials can be turned off (to use the classical force field's terms instead)\n"
   ]
  },
  {
   "cell_type": "markdown",
   "metadata": {},
   "source": [
    "\n",
    "an example json file:\n",
    "```{\n",
    "   \"Note\" : \"This is a cofiguration file\",\n",
    "   \"MBX\" : {\n",
    "       \"box\" : [50.0,0.0,0.0,0.0,50.0,0.0,0.0,0.0,50.0],\n",
    "       \"twobody_cutoff\"   : 9.0,\n",
    "       \"threebody_cutoff\" : 7.0,\n",
    "       \"max_n_eval_1b\"    : 500,\n",
    "       \"max_n_eval_2b\"    : 500,\n",
    "       \"max_n_eval_3b\"    : 500,\n",
    "       \"dipole_tolerance\" : 1E-16,\n",
    "       \"dipole_max_it\"    : 100,\n",
    "       \"dipole_method\"     : \"cg\",\n",
    "       \"alpha_ewald_elec\" : 0.6,\n",
    "       \"grid_density_elec\" : 2.5,\n",
    "       \"spline_order_elec\" : 6,\n",
    "       \"alpha_ewald_disp\" : 0.6,\n",
    "       \"grid_density_disp\" : 2.5,\n",
    "       \"spline_order_disp\" : 6,\n",
    "       \"ttm_pairs\" : [],\n",
    "       \"ignore_2b_poly\" : [],\n",
    "       \"ignore_3b_poly\" : []\n",
    "   } ,\n",
    "   \"i-pi\" : {\n",
    "       \"port\" : 34543,\n",
    "       \"localhost\" : \"localhost\"\n",
    "   }\n",
    "}\n",
    "```"
   ]
  },
  {
   "cell_type": "markdown",
   "metadata": {},
   "source": [
    "If modifying the json files, one can leave most of the parameters as they are (the lattice will be set to the structures lattice in QUIP, it's just needed so that MBX knows that it's a periodic structure).\n",
    "\n",
    "Certain PIPs can be turned off by modifying the following lines:\n",
    "```\n",
    "       \"ignore_2b_poly\" : [],\n",
    "       \"ignore_3b_poly\" : []\n",
    "```\n",
    "to e.g.:\n",
    "```\n",
    "       \"ignore_2b_poly\" : [],\n",
    "       \"ignore_3b_poly\" : [[\"ch4\",\"h2o\",\"h2o\"]]\n",
    "```\n",
    "in case we would like to test the version without the methane-water-water 3B fit."
   ]
  },
  {
   "cell_type": "markdown",
   "metadata": {},
   "source": [
    "### Calculations with the above defined potentials:"
   ]
  },
  {
   "cell_type": "markdown",
   "metadata": {},
   "source": [
    "#### Non-periodic calls:"
   ]
  },
  {
   "cell_type": "code",
   "execution_count": 7,
   "metadata": {},
   "outputs": [],
   "source": [
    "## read in the Atoms object:\n",
    "at_m1w5 = ase.io.read(\"m1w5_fixed.xyz\")"
   ]
  },
  {
   "cell_type": "markdown",
   "metadata": {},
   "source": [
    "#### make sure the structure's atoms are ordered as OHHOHH...CHHHHCHHHH..OHHOHH.."
   ]
  },
  {
   "cell_type": "code",
   "execution_count": 9,
   "metadata": {},
   "outputs": [
    {
     "data": {
      "text/plain": [
       "Symbols('CH4OH2OH2OH2OH2OH2')"
      ]
     },
     "execution_count": 9,
     "metadata": {},
     "output_type": "execute_result"
    }
   ],
   "source": [
    "at_m1w5.symbols"
   ]
  },
  {
   "cell_type": "code",
   "execution_count": 10,
   "metadata": {},
   "outputs": [],
   "source": [
    "## assign the calculator to the Atoms object:\n",
    "at_m1w5.set_calculator(potMBX_non_periodic)"
   ]
  },
  {
   "cell_type": "code",
   "execution_count": 11,
   "metadata": {},
   "outputs": [
    {
     "name": "stdout",
     "output_type": "stream",
     "text": [
      "-0.4057065229\n"
     ]
    }
   ],
   "source": [
    "## perform energy calculation:\n",
    "e = at_m1w5.get_potential_energy()\n",
    "print e"
   ]
  },
  {
   "cell_type": "markdown",
   "metadata": {},
   "source": [
    "#### Periodic calls"
   ]
  },
  {
   "cell_type": "code",
   "execution_count": 12,
   "metadata": {},
   "outputs": [],
   "source": [
    "## read in the Atoms object:\n",
    "at_clathrate = ase.io.read(\"phase_clathrate.xyz\")"
   ]
  },
  {
   "cell_type": "code",
   "execution_count": 13,
   "metadata": {},
   "outputs": [
    {
     "data": {
      "text/plain": [
       "Symbols('OH2OH2OH2OH2OH2OH2OH2OH2OH2OH2OH2OH2OH2OH2OH2OH2OH2OH2OH2OH2OH2OH2OH2OH2OH2OH2OH2OH2OH2OH2OH2OH2OH2OH2OH2OH2OH2OH2OH2OH2OH2OH2OH2OH2OH2OH2CH4CH4CH4CH4CH4CH4CH4CH4')"
      ]
     },
     "execution_count": 13,
     "metadata": {},
     "output_type": "execute_result"
    }
   ],
   "source": [
    "at_clathrate.symbols"
   ]
  },
  {
   "cell_type": "code",
   "execution_count": 14,
   "metadata": {},
   "outputs": [],
   "source": [
    "## assign the calculator to the Atoms object:\n",
    "at_clathrate.set_calculator(potMBX_periodic)"
   ]
  },
  {
   "cell_type": "code",
   "execution_count": 15,
   "metadata": {},
   "outputs": [
    {
     "name": "stdout",
     "output_type": "stream",
     "text": [
      "-29.0782165281\n"
     ]
    }
   ],
   "source": [
    "## perform energy calculation:\n",
    "e = at_clathrate.get_potential_energy()\n",
    "print e"
   ]
  },
  {
   "cell_type": "code",
   "execution_count": null,
   "metadata": {},
   "outputs": [],
   "source": []
  },
  {
   "cell_type": "markdown",
   "metadata": {},
   "source": [
    "### one can look at the atoms object in ase:"
   ]
  },
  {
   "cell_type": "code",
   "execution_count": 16,
   "metadata": {},
   "outputs": [],
   "source": [
    "from ase.visualize import view"
   ]
  },
  {
   "cell_type": "code",
   "execution_count": 17,
   "metadata": {},
   "outputs": [],
   "source": [
    "view(at_m1w5)"
   ]
  },
  {
   "cell_type": "code",
   "execution_count": 18,
   "metadata": {},
   "outputs": [],
   "source": [
    "view(at_clathrate)"
   ]
  },
  {
   "cell_type": "code",
   "execution_count": null,
   "metadata": {},
   "outputs": [],
   "source": []
  },
  {
   "cell_type": "code",
   "execution_count": 29,
   "metadata": {},
   "outputs": [],
   "source": []
  },
  {
   "cell_type": "code",
   "execution_count": null,
   "metadata": {},
   "outputs": [],
   "source": []
  },
  {
   "cell_type": "code",
   "execution_count": null,
   "metadata": {},
   "outputs": [],
   "source": []
  },
  {
   "cell_type": "markdown",
   "metadata": {},
   "source": [
    "## The following functions are only needed if wanting to call the potential with the quip command line commands"
   ]
  },
  {
   "cell_type": "markdown",
   "metadata": {},
   "source": [
    "### \"Unwrapping\" structures\n",
    "The ase Calculator object takes care of \"unwrapping\" the structure\n",
    "but in case we'd like to use MBX without the ase helper functions,\n",
    "we need an input where the molecules are not cut into halves at the pbc."
   ]
  },
  {
   "cell_type": "code",
   "execution_count": 19,
   "metadata": {},
   "outputs": [],
   "source": [
    "at_clathrate_unwrapped_dict = unwrap_oh2_ch4.unwrap_water_methane(at_clathrate)"
   ]
  },
  {
   "cell_type": "code",
   "execution_count": 20,
   "metadata": {},
   "outputs": [
    {
     "data": {
      "text/plain": [
       "{'phase_m': Atoms(symbols='CH4CH4CH4CH4CH4CH4CH4CH4', pbc=True, cell=[11.7429, 11.7429, 11.7429], map_shift=..., n_neighb=...),\n",
       " 'phase_mw': Atoms(symbols='C8H124O46', pbc=True, cell=[11.7429, 11.7429, 11.7429], map_shift=..., n_neighb=...),\n",
       " 'phase_w': Atoms(symbols='H92O46', pbc=True, cell=[11.7429, 11.7429, 11.7429], map_shift=..., n_neighb=...)}"
      ]
     },
     "execution_count": 20,
     "metadata": {},
     "output_type": "execute_result"
    }
   ],
   "source": [
    "at_clathrate_unwrapped_dict"
   ]
  },
  {
   "cell_type": "code",
   "execution_count": 21,
   "metadata": {},
   "outputs": [],
   "source": [
    "at_clathrate_unwrapped = at_clathrate_unwrapped_dict[\"phase_mw\"]"
   ]
  },
  {
   "cell_type": "code",
   "execution_count": 22,
   "metadata": {},
   "outputs": [],
   "source": [
    "view(at_clathrate_unwrapped)"
   ]
  },
  {
   "cell_type": "code",
   "execution_count": 10,
   "metadata": {},
   "outputs": [],
   "source": [
    "ase.io.write(\"phase_clathrate_unwrapped.xyz\", at_clathrate_unwrapped)"
   ]
  },
  {
   "cell_type": "markdown",
   "metadata": {},
   "source": [
    "### Building supercells\n",
    "MBX needs the Atoms object to have at least 24. A boxlengths.\n",
    "The ase Calculator also builds the supercells of the Atoms object but if needed, we can create an input as:\n",
    "\n",
    "#### Don't forget to firstly unwrap the cell!\n",
    "(The supercell would work but MBX needs the atoms to be ordered according to the molecules)"
   ]
  },
  {
   "cell_type": "code",
   "execution_count": 11,
   "metadata": {},
   "outputs": [
    {
     "data": {
      "text/plain": [
       "array([[11.7429,  0.    ,  0.    ],\n",
       "       [ 0.    , 11.7429,  0.    ],\n",
       "       [ 0.    ,  0.    , 11.7429]])"
      ]
     },
     "execution_count": 11,
     "metadata": {},
     "output_type": "execute_result"
    }
   ],
   "source": [
    "at_clathrate_unwrapped.cell"
   ]
  },
  {
   "cell_type": "code",
   "execution_count": 12,
   "metadata": {},
   "outputs": [],
   "source": [
    "min_box_length=24."
   ]
  },
  {
   "cell_type": "code",
   "execution_count": 13,
   "metadata": {},
   "outputs": [
    {
     "name": "stdout",
     "output_type": "stream",
     "text": [
      "[3, 3, 3]\n"
     ]
    }
   ],
   "source": [
    "lattice = at_clathrate_unwrapped.cell\n",
    "s_i_list =[1,1,1]\n",
    "for i in range(3):\n",
    "    lat_ii=lattice[i][i]\n",
    "    s_i_list[i]= (int(np.ceil(min_box_length/lat_ii)))\n",
    "print s_i_list"
   ]
  },
  {
   "cell_type": "code",
   "execution_count": 14,
   "metadata": {},
   "outputs": [],
   "source": [
    "at_super = at_clathrate_unwrapped.copy()*(s_i_list)"
   ]
  },
  {
   "cell_type": "code",
   "execution_count": 15,
   "metadata": {},
   "outputs": [
    {
     "data": {
      "text/plain": [
       "27"
      ]
     },
     "execution_count": 15,
     "metadata": {},
     "output_type": "execute_result"
    }
   ],
   "source": [
    "len(at_super)/len(at_clathrate_unwrapped)"
   ]
  },
  {
   "cell_type": "code",
   "execution_count": 16,
   "metadata": {},
   "outputs": [],
   "source": [
    "ase.io.write(\"phase_clathrate_unwrapped_supercell.xyz\", at_super)"
   ]
  },
  {
   "cell_type": "markdown",
   "metadata": {},
   "source": [
    "### one can also generate strings needed for potential calls without the python interface:"
   ]
  },
  {
   "cell_type": "code",
   "execution_count": 21,
   "metadata": {},
   "outputs": [
    {
     "data": {
      "text/plain": [
       "{'n_monomers_types': '46_OHH_8_CHHHH', 'nmon': 54}"
      ]
     },
     "execution_count": 21,
     "metadata": {},
     "output_type": "execute_result"
    }
   ],
   "source": [
    "mbx_functions.create_mbx_potential_variables(at_clathrate_unwrapped)"
   ]
  },
  {
   "cell_type": "code",
   "execution_count": 17,
   "metadata": {},
   "outputs": [
    {
     "data": {
      "text/plain": [
       "{'n_monomers_types': '46_OHH_8_CHHHH_46_OHH_8_CHHHH_46_OHH_8_CHHHH_46_OHH_8_CHHHH_46_OHH_8_CHHHH_46_OHH_8_CHHHH_46_OHH_8_CHHHH_46_OHH_8_CHHHH_46_OHH_8_CHHHH_46_OHH_8_CHHHH_46_OHH_8_CHHHH_46_OHH_8_CHHHH_46_OHH_8_CHHHH_46_OHH_8_CHHHH_46_OHH_8_CHHHH_46_OHH_8_CHHHH_46_OHH_8_CHHHH_46_OHH_8_CHHHH_46_OHH_8_CHHHH_46_OHH_8_CHHHH_46_OHH_8_CHHHH_46_OHH_8_CHHHH_46_OHH_8_CHHHH_46_OHH_8_CHHHH_46_OHH_8_CHHHH_46_OHH_8_CHHHH_46_OHH_8_CHHHH',\n",
       " 'nmon': 1458}"
      ]
     },
     "execution_count": 17,
     "metadata": {},
     "output_type": "execute_result"
    }
   ],
   "source": [
    "mbx_functions.create_mbx_potential_variables(at_super)"
   ]
  },
  {
   "cell_type": "code",
   "execution_count": 19,
   "metadata": {},
   "outputs": [
    {
     "data": {
      "text/plain": [
       "4806"
      ]
     },
     "execution_count": 19,
     "metadata": {},
     "output_type": "execute_result"
    }
   ],
   "source": [
    "## number of atoms (needed for lammps):\n",
    "len(at_super)"
   ]
  },
  {
   "cell_type": "code",
   "execution_count": 22,
   "metadata": {},
   "outputs": [
    {
     "data": {
      "text/plain": [
       "178"
      ]
     },
     "execution_count": 22,
     "metadata": {},
     "output_type": "execute_result"
    }
   ],
   "source": [
    "len(at_clathrate_unwrapped)"
   ]
  },
  {
   "cell_type": "markdown",
   "metadata": {},
   "source": [
    "Note: I used a newer version of ase to convert these xyz-s to the lammps's datafile:\n",
    "```\n",
    "import ase                                                                                                                                                                                          \n",
    "\n",
    "from ase.io import lammpsdata                                                                                                                                                                       \n",
    "\n",
    "at_in=ase.io.read(\"/home/es732/mnt/womble0/test_lammps/small_system/phase_clathrate_unwrapped.xyz\")                                                                                                 \n",
    "lammpsdata.write_lammps_data(\"/home/es732/mnt/womble0/test_lammps/small_system/data.mw\",at_in)                                                                                                      \n",
    "\n",
    "at_in=ase.io.read(\"/home/es732/mnt/womble0/test_lammps/supercell//phase_clathrate_unwrapped_supercell.xyz\")                                                                                         \n",
    "lammpsdata.write_lammps_data(\"/home/es732/mnt/womble0/test_lammps/supercell//data.mw\",at_in)                 \n",
    "```"
   ]
  },
  {
   "cell_type": "code",
   "execution_count": null,
   "metadata": {},
   "outputs": [],
   "source": []
  }
 ],
 "metadata": {
  "kernelspec": {
   "display_name": "Python 2",
   "language": "python",
   "name": "python2"
  },
  "language_info": {
   "codemirror_mode": {
    "name": "ipython",
    "version": 2
   },
   "file_extension": ".py",
   "mimetype": "text/x-python",
   "name": "python",
   "nbconvert_exporter": "python",
   "pygments_lexer": "ipython2",
   "version": "2.7.15"
  }
 },
 "nbformat": 4,
 "nbformat_minor": 2
}
