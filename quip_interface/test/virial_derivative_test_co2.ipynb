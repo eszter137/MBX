{
 "cells": [
  {
   "cell_type": "code",
   "execution_count": 1,
   "metadata": {},
   "outputs": [],
   "source": [
    "import quippy\n",
    "import ase\n",
    "from ase.calculators.calculator import all_changes\n",
    "\n",
    "import logging\n",
    "logging.basicConfig(level=logging.WARNING)"
   ]
  },
  {
   "cell_type": "code",
   "execution_count": 2,
   "metadata": {},
   "outputs": [],
   "source": [
    "import matplotlib as mpl\n",
    "import matplotlib.pyplot as plt\n",
    "import numpy as np"
   ]
  },
  {
   "cell_type": "code",
   "execution_count": 3,
   "metadata": {},
   "outputs": [],
   "source": [
    "import os\n",
    "import sys"
   ]
  },
  {
   "cell_type": "code",
   "execution_count": 4,
   "metadata": {},
   "outputs": [],
   "source": [
    "sys.path.insert(0,\"/home/es732/programs/function_modules/\")\n",
    "import mbx_functions"
   ]
  },
  {
   "cell_type": "code",
   "execution_count": 5,
   "metadata": {},
   "outputs": [
    {
     "name": "stdout",
     "output_type": "stream",
     "text": [
      "/home/es732/programs/mbx_tests\n"
     ]
    }
   ],
   "source": [
    "dirpath = os.getcwd()\n",
    "print dirpath"
   ]
  },
  {
   "cell_type": "code",
   "execution_count": 6,
   "metadata": {},
   "outputs": [],
   "source": [
    "from collections import OrderedDict"
   ]
  },
  {
   "cell_type": "code",
   "execution_count": 7,
   "metadata": {},
   "outputs": [],
   "source": [
    "d_list=[0.1,0.01,0.001,0.0001,0.00001,0.000001]"
   ]
  },
  {
   "cell_type": "code",
   "execution_count": 8,
   "metadata": {},
   "outputs": [],
   "source": [
    "version_list=[\"mbx_pbc\",\"mbx_pbc_no_ww_www_co2ww\",\"mbx_pbc_no_co2w\"]"
   ]
  },
  {
   "cell_type": "code",
   "execution_count": 9,
   "metadata": {},
   "outputs": [],
   "source": [
    "dict_version_d_virial=OrderedDict([(version,\n",
    "                                    OrderedDict([(d, [[np.NaN, np.NaN, np.NaN], [np.NaN, np.NaN, np.NaN], [np.NaN, np.NaN, np.NaN]])\n",
    "                                                 for d in d_list]))\n",
    "                                   for version in version_list])"
   ]
  },
  {
   "cell_type": "code",
   "execution_count": 10,
   "metadata": {},
   "outputs": [],
   "source": [
    "dict_version_model_virial=OrderedDict([(version,[[np.NaN, np.NaN, np.NaN], [np.NaN, np.NaN, np.NaN], [np.NaN, np.NaN, np.NaN]])\n",
    "                                   for version in version_list])"
   ]
  },
  {
   "cell_type": "code",
   "execution_count": 11,
   "metadata": {},
   "outputs": [],
   "source": [
    "def calculate_numerical_virial_diag(pot, in_atoms, d=1e-2):\n",
    "    ## modified from the function calculate_numerical_stress() at ase/calculators/calculator.py \n",
    "    \"\"\"Calculate numerical stress using finite difference.\"\"\"\n",
    "\n",
    "    atoms=in_atoms.copy()\n",
    "    stress = np.zeros((3, 3), dtype=float)\n",
    "\n",
    "    cell = atoms.cell.copy()\n",
    "    V = atoms.get_volume()\n",
    "    for i in range(3):\n",
    "        x = np.eye(3)\n",
    "        x[i, i] += d\n",
    "        atoms.set_cell(np.dot(cell, x), scale_atoms=True)\n",
    "        atoms.set_calculator(pot)\n",
    "        eplus = atoms.get_potential_energy()#force_consistent=True)\n",
    "        pot.reset()\n",
    "\n",
    "        x[i, i] -= 2 * d\n",
    "        atoms.set_cell(np.dot(cell, x), scale_atoms=True)\n",
    "        atoms.set_calculator(pot)\n",
    "        eminus = atoms.get_potential_energy()#force_consistent=True)\n",
    "        pot.reset()\n",
    "\n",
    "        stress[i, i] = (eplus - eminus) / (2 * d * V)\n",
    "        x[i, i] += d\n",
    "    atoms.set_cell(cell, scale_atoms=True)\n",
    "    virial= (-stress*atoms.get_volume())\n",
    "    return virial"
   ]
  },
  {
   "cell_type": "code",
   "execution_count": 12,
   "metadata": {},
   "outputs": [],
   "source": [
    "this_root=\"/home/es732/programs/test_genice/CO2/sI/\""
   ]
  },
  {
   "cell_type": "code",
   "execution_count": 13,
   "metadata": {},
   "outputs": [],
   "source": [
    "this_struct=\"sI_co2_cell2x2x2_rand0_ase.xyz\"\n",
    "this_at_tmp=quippy.Atoms(this_root+this_struct)\n",
    "dict_pot=mbx_functions.create_mbx_potential_variables_co2_h2o(this_at_tmp)"
   ]
  },
  {
   "cell_type": "code",
   "execution_count": 14,
   "metadata": {},
   "outputs": [
    {
     "data": {
      "text/plain": [
       "432"
      ]
     },
     "execution_count": 14,
     "metadata": {},
     "output_type": "execute_result"
    }
   ],
   "source": [
    "np.sum(this_at_tmp.numbers==8)-64*2+64"
   ]
  },
  {
   "cell_type": "code",
   "execution_count": 15,
   "metadata": {},
   "outputs": [
    {
     "data": {
      "text/plain": [
       "{'n_monomers_types': '368 OHH 64 COO', 'nmon': 432}"
      ]
     },
     "execution_count": 15,
     "metadata": {},
     "output_type": "execute_result"
    }
   ],
   "source": [
    "dict_pot"
   ]
  },
  {
   "cell_type": "markdown",
   "metadata": {},
   "source": [
    "## full MBX"
   ]
  },
  {
   "cell_type": "code",
   "execution_count": 16,
   "metadata": {},
   "outputs": [
    {
     "name": "stdout",
     "output_type": "stream",
     "text": [
      "mbx_pbc\n"
     ]
    }
   ],
   "source": [
    "this_version=version_list[0]\n",
    "print this_version"
   ]
  },
  {
   "cell_type": "code",
   "execution_count": 17,
   "metadata": {},
   "outputs": [],
   "source": [
    "pot_MBX = quippy.Potential(\"IP MBXPBC diagonal_virial=F n_monomers_types={\"+\n",
    "                           dict_pot[\"n_monomers_types\"]+\"} nmon=\"+str(dict_pot[\"nmon\"])+\n",
    "                           \" json_file=\"+this_version+\".json\",param_str=\"\")"
   ]
  },
  {
   "cell_type": "code",
   "execution_count": 18,
   "metadata": {},
   "outputs": [],
   "source": [
    "at= this_at_tmp.copy()"
   ]
  },
  {
   "cell_type": "code",
   "execution_count": 19,
   "metadata": {},
   "outputs": [
    {
     "name": "stdout",
     "output_type": "stream",
     "text": [
      "[[ 1.47201270e+02  2.80973830e-02  1.46323351e-02]\n",
      " [ 2.80973830e-02  1.46872093e+02 -1.29849463e-01]\n",
      " [ 1.46323351e-02 -1.29849463e-01  4.13338055e+02]]\n"
     ]
    }
   ],
   "source": [
    "pot_MBX.calc(at,virial=True)\n",
    "dict_version_model_virial[this_version] = np.array( at.params[\"virial\"])\n",
    "print dict_version_model_virial[this_version]"
   ]
  },
  {
   "cell_type": "code",
   "execution_count": 20,
   "metadata": {
    "scrolled": false
   },
   "outputs": [],
   "source": [
    "for tmp_d in [0.01,0.001,0.0001]:#,0.00001, 0.000001, 0.0000001, 0.00000001, 0.000000001]:\n",
    "    dict_version_d_virial[this_version][tmp_d] = calculate_numerical_virial_diag(pot=pot_MBX,in_atoms=this_at_tmp.copy(),d=tmp_d)\n",
    "    "
   ]
  },
  {
   "cell_type": "code",
   "execution_count": null,
   "metadata": {},
   "outputs": [],
   "source": []
  },
  {
   "cell_type": "markdown",
   "metadata": {},
   "source": [
    "## diagonal_virial=F, no PIPs except mw 2B"
   ]
  },
  {
   "cell_type": "code",
   "execution_count": 21,
   "metadata": {},
   "outputs": [
    {
     "name": "stdout",
     "output_type": "stream",
     "text": [
      "mbx_pbc_no_ww_www_co2ww\n"
     ]
    }
   ],
   "source": [
    "this_version=version_list[1]\n",
    "print this_version"
   ]
  },
  {
   "cell_type": "code",
   "execution_count": 22,
   "metadata": {},
   "outputs": [],
   "source": [
    "pot_MBX = quippy.Potential(\"IP MBXPBC diagonal_virial=F n_monomers_types={\"+\n",
    "                           dict_pot[\"n_monomers_types\"]+\"} nmon=\"+str(dict_pot[\"nmon\"])+\n",
    "                           \" json_file=\"+this_version+\".json\",param_str=\"\")"
   ]
  },
  {
   "cell_type": "code",
   "execution_count": 23,
   "metadata": {},
   "outputs": [],
   "source": [
    "at= this_at_tmp.copy()"
   ]
  },
  {
   "cell_type": "code",
   "execution_count": 24,
   "metadata": {},
   "outputs": [
    {
     "name": "stdout",
     "output_type": "stream",
     "text": [
      "[[-5.26705602e+02  2.40198305e-01  4.29459541e-01]\n",
      " [ 2.40198305e-01 -5.27674169e+02 -1.98667968e+00]\n",
      " [ 4.29459541e-01 -1.98667968e+00 -2.59694841e+02]]\n"
     ]
    }
   ],
   "source": [
    "pot_MBX.calc(at,virial=True)\n",
    "dict_version_model_virial[this_version] = np.array( at.params[\"virial\"])\n",
    "print dict_version_model_virial[this_version]"
   ]
  },
  {
   "cell_type": "code",
   "execution_count": 25,
   "metadata": {
    "scrolled": false
   },
   "outputs": [],
   "source": [
    "for tmp_d in [0.01,0.001,0.0001]:#,0.00001, 0.000001, 0.0000001, 0.00000001, 0.000000001]:\n",
    "    dict_version_d_virial[this_version][tmp_d] = calculate_numerical_virial_diag(pot=pot_MBX,in_atoms=this_at_tmp.copy(),d=tmp_d)\n",
    "    "
   ]
  },
  {
   "cell_type": "code",
   "execution_count": null,
   "metadata": {},
   "outputs": [],
   "source": []
  },
  {
   "cell_type": "markdown",
   "metadata": {},
   "source": [
    "## full MBX - no 2B CO2 - water PIP"
   ]
  },
  {
   "cell_type": "code",
   "execution_count": 16,
   "metadata": {},
   "outputs": [
    {
     "name": "stdout",
     "output_type": "stream",
     "text": [
      "mbx_pbc_no_co2w\n"
     ]
    }
   ],
   "source": [
    "this_version=version_list[2]\n",
    "print this_version"
   ]
  },
  {
   "cell_type": "code",
   "execution_count": 17,
   "metadata": {},
   "outputs": [],
   "source": [
    "pot_MBX = quippy.Potential(\"IP MBXPBC diagonal_virial=F n_monomers_types={\"+\n",
    "                           dict_pot[\"n_monomers_types\"]+\"} nmon=\"+str(dict_pot[\"nmon\"])+\n",
    "                           \" json_file=\"+this_version+\".json\",param_str=\"\")"
   ]
  },
  {
   "cell_type": "code",
   "execution_count": 18,
   "metadata": {},
   "outputs": [],
   "source": [
    "at= this_at_tmp.copy()"
   ]
  },
  {
   "cell_type": "code",
   "execution_count": 19,
   "metadata": {},
   "outputs": [
    {
     "name": "stdout",
     "output_type": "stream",
     "text": [
      "[[ 1.26240897e+02  1.17775182e-01  3.99142492e-01]\n",
      " [ 1.17775182e-01  1.25875417e+02 -3.97774287e-01]\n",
      " [ 3.99142492e-01 -3.97774287e-01  3.17334846e+02]]\n"
     ]
    }
   ],
   "source": [
    "pot_MBX.calc(at,virial=True)\n",
    "dict_version_model_virial[this_version] = np.array( at.params[\"virial\"])\n",
    "print dict_version_model_virial[this_version]"
   ]
  },
  {
   "cell_type": "code",
   "execution_count": 20,
   "metadata": {
    "scrolled": false
   },
   "outputs": [],
   "source": [
    "for tmp_d in [0.01,0.001,0.0001]:#,0.00001, 0.000001, 0.0000001, 0.00000001, 0.000000001]:\n",
    "    dict_version_d_virial[this_version][tmp_d] = calculate_numerical_virial_diag(pot=pot_MBX,in_atoms=this_at_tmp.copy(),d=tmp_d)\n",
    "    "
   ]
  },
  {
   "cell_type": "code",
   "execution_count": null,
   "metadata": {},
   "outputs": [],
   "source": []
  },
  {
   "cell_type": "code",
   "execution_count": null,
   "metadata": {},
   "outputs": [],
   "source": []
  },
  {
   "cell_type": "code",
   "execution_count": 21,
   "metadata": {},
   "outputs": [
    {
     "data": {
      "text/plain": [
       "['mbx_pbc', 'mbx_pbc_no_ww_www_co2ww', 'mbx_pbc_no_co2w']"
      ]
     },
     "execution_count": 21,
     "metadata": {},
     "output_type": "execute_result"
    }
   ],
   "source": [
    "version_list"
   ]
  },
  {
   "cell_type": "code",
   "execution_count": null,
   "metadata": {},
   "outputs": [],
   "source": []
  },
  {
   "cell_type": "markdown",
   "metadata": {},
   "source": [
    "## Errors in derivative virial / Virial from model (only diagonal)"
   ]
  },
  {
   "cell_type": "code",
   "execution_count": 29,
   "metadata": {},
   "outputs": [
    {
     "name": "stdout",
     "output_type": "stream",
     "text": [
      "mbx_pbc\n",
      "d = 0.01\n",
      "[ 0.02594839  0.0258328  -0.0050292 ]\n",
      "d = 0.001\n",
      "[ 0.02186442  0.02181484 -0.01278746]\n",
      "d = 0.0001\n",
      "[ 0.02182292  0.02177529 -0.01286562]\n"
     ]
    }
   ],
   "source": [
    "this_version=version_list[0]\n",
    "print this_version\n",
    "for tmp_d in [0.01,0.001,0.0001]:#,0.00001, 0.000001, 0.0000001, 0.00000001, 0.000000001]:\n",
    "    print \"d =\",tmp_d\n",
    "    print np.diag((dict_version_d_virial[this_version][tmp_d] -dict_version_model_virial[this_version])/dict_version_model_virial[this_version])"
   ]
  },
  {
   "cell_type": "code",
   "execution_count": 30,
   "metadata": {},
   "outputs": [
    {
     "name": "stdout",
     "output_type": "stream",
     "text": [
      "mbx_pbc_no_ww_www_co2ww\n",
      "d = 0.01\n",
      "[-0.00682638 -0.00677712  0.0088574 ]\n",
      "d = 0.001\n",
      "[-0.00610615 -0.00606797  0.02036226]\n",
      "d = 0.0001\n",
      "[-0.00609894 -0.00606087  0.02047737]\n"
     ]
    }
   ],
   "source": [
    "this_version=version_list[1]\n",
    "print this_version\n",
    "for tmp_d in [0.01,0.001,0.0001]:#,0.00001, 0.000001, 0.0000001, 0.00000001, 0.000000001]:\n",
    "    print \"d =\",tmp_d\n",
    "    print np.diag((dict_version_d_virial[this_version][tmp_d] -dict_version_model_virial[this_version])/dict_version_model_virial[this_version])"
   ]
  },
  {
   "cell_type": "code",
   "execution_count": 22,
   "metadata": {},
   "outputs": [
    {
     "name": "stdout",
     "output_type": "stream",
     "text": [
      "mbx_pbc_no_co2w\n",
      "d = 0.01\n",
      "[0.00423306 0.00415526 0.00942343]\n",
      "d = 0.001\n",
      "[4.30507154e-05 4.07830231e-05 9.49324528e-05]\n",
      "d = 0.0001\n",
      "[3.86627140e-07 3.75731806e-07 9.31906840e-07]\n"
     ]
    }
   ],
   "source": [
    "this_version=version_list[2]\n",
    "print this_version\n",
    "for tmp_d in [0.01,0.001,0.0001]:#,0.00001, 0.000001, 0.0000001, 0.00000001, 0.000000001]:\n",
    "    print \"d =\",tmp_d\n",
    "    print np.diag((dict_version_d_virial[this_version][tmp_d] -dict_version_model_virial[this_version])/dict_version_model_virial[this_version])"
   ]
  },
  {
   "cell_type": "code",
   "execution_count": null,
   "metadata": {},
   "outputs": [],
   "source": []
  },
  {
   "cell_type": "code",
   "execution_count": null,
   "metadata": {},
   "outputs": [],
   "source": []
  },
  {
   "cell_type": "code",
   "execution_count": null,
   "metadata": {},
   "outputs": [],
   "source": []
  },
  {
   "cell_type": "code",
   "execution_count": null,
   "metadata": {},
   "outputs": [],
   "source": []
  }
 ],
 "metadata": {
  "kernelspec": {
   "display_name": "Python 2",
   "language": "python",
   "name": "python2"
  },
  "language_info": {
   "codemirror_mode": {
    "name": "ipython",
    "version": 2
   },
   "file_extension": ".py",
   "mimetype": "text/x-python",
   "name": "python",
   "nbconvert_exporter": "python",
   "pygments_lexer": "ipython2",
   "version": "2.7.15"
  }
 },
 "nbformat": 4,
 "nbformat_minor": 2
}
