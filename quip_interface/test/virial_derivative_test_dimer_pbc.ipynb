{
 "cells": [
  {
   "cell_type": "code",
   "execution_count": 1,
   "metadata": {},
   "outputs": [],
   "source": [
    "import quippy\n",
    "import ase\n",
    "from ase.calculators.calculator import all_changes\n",
    "\n",
    "import logging\n",
    "logging.basicConfig(level=logging.WARNING)"
   ]
  },
  {
   "cell_type": "code",
   "execution_count": 2,
   "metadata": {},
   "outputs": [],
   "source": [
    "import matplotlib as mpl\n",
    "import matplotlib.pyplot as plt\n",
    "import numpy as np"
   ]
  },
  {
   "cell_type": "code",
   "execution_count": 3,
   "metadata": {},
   "outputs": [],
   "source": [
    "import os\n",
    "import sys"
   ]
  },
  {
   "cell_type": "code",
   "execution_count": 4,
   "metadata": {},
   "outputs": [],
   "source": [
    "sys.path.insert(0,\"/home/es732/programs/function_modules/\")\n",
    "import mbx_functions"
   ]
  },
  {
   "cell_type": "code",
   "execution_count": 5,
   "metadata": {},
   "outputs": [
    {
     "name": "stdout",
     "output_type": "stream",
     "text": [
      "/home/es732/programs/MBX/quip_interface/test\n"
     ]
    }
   ],
   "source": [
    "dirpath = os.getcwd()\n",
    "print dirpath"
   ]
  },
  {
   "cell_type": "code",
   "execution_count": 6,
   "metadata": {},
   "outputs": [],
   "source": [
    "from collections import OrderedDict"
   ]
  },
  {
   "cell_type": "code",
   "execution_count": 7,
   "metadata": {},
   "outputs": [],
   "source": [
    "d_list=[0.1,0.01,0.001,0.0001,0.00001,0.000001]"
   ]
  },
  {
   "cell_type": "code",
   "execution_count": 8,
   "metadata": {},
   "outputs": [],
   "source": [
    "version_list=[\"mbx_pbc\",\"mbx_pbc_no_mww_pip\",\"mbx_pbc_no_www_mww\",\"mbx_pbc_no_ww_mw_www_mww\",\n",
    "              \"mbx_pbc_no_ww_mw\",\"mbx_pbc_no_ww\",\"mbx_pbc_no_mw\"]"
   ]
  },
  {
   "cell_type": "code",
   "execution_count": 9,
   "metadata": {},
   "outputs": [],
   "source": [
    "dict_version_d_virial=OrderedDict([(version,\n",
    "                                    OrderedDict([(d, [[np.NaN, np.NaN, np.NaN], [np.NaN, np.NaN, np.NaN], [np.NaN, np.NaN, np.NaN]])\n",
    "                                                 for d in d_list]))\n",
    "                                   for version in version_list])"
   ]
  },
  {
   "cell_type": "code",
   "execution_count": 10,
   "metadata": {},
   "outputs": [],
   "source": [
    "dict_version_model_virial=OrderedDict([(version,[[np.NaN, np.NaN, np.NaN], [np.NaN, np.NaN, np.NaN], [np.NaN, np.NaN, np.NaN]])\n",
    "                                   for version in version_list])"
   ]
  },
  {
   "cell_type": "code",
   "execution_count": 11,
   "metadata": {},
   "outputs": [],
   "source": [
    "def calculate_numerical_virial_diag(pot, in_atoms, d=1e-2):\n",
    "    ## modified from the function calculate_numerical_stress() at ase/calculators/calculator.py \n",
    "    \"\"\"Calculate numerical stress using finite difference.\"\"\"\n",
    "\n",
    "    atoms=in_atoms.copy()\n",
    "    stress = np.zeros((3, 3), dtype=float)\n",
    "\n",
    "    cell = atoms.cell.copy()\n",
    "    V = atoms.get_volume()\n",
    "    for i in range(3):\n",
    "        x = np.eye(3)\n",
    "        x[i, i] += d\n",
    "        atoms.set_cell(np.dot(cell, x), scale_atoms=True)\n",
    "        atoms.set_calculator(pot)\n",
    "        eplus = atoms.get_potential_energy()#force_consistent=True)\n",
    "        pot.reset()\n",
    "\n",
    "        x[i, i] -= 2 * d\n",
    "        atoms.set_cell(np.dot(cell, x), scale_atoms=True)\n",
    "        atoms.set_calculator(pot)\n",
    "        eminus = atoms.get_potential_energy()#force_consistent=True)\n",
    "        pot.reset()\n",
    "\n",
    "        stress[i, i] = (eplus - eminus) / (2 * d * V)\n",
    "        x[i, i] += d\n",
    "    atoms.set_cell(cell, scale_atoms=True)\n",
    "    virial= (-stress*atoms.get_volume())\n",
    "    return virial"
   ]
  },
  {
   "cell_type": "code",
   "execution_count": 13,
   "metadata": {},
   "outputs": [],
   "source": [
    "this_root=\"/home/es732/programs/MBX/quip_interface/test/\""
   ]
  },
  {
   "cell_type": "code",
   "execution_count": 14,
   "metadata": {},
   "outputs": [],
   "source": [
    "this_struct=\"dimer_pbc_test.xyz\"\n",
    "this_at_tmp=quippy.Atoms(this_root+this_struct)\n",
    "dict_pot=mbx_functions.create_mbx_potential_variables(this_at_tmp)"
   ]
  },
  {
   "cell_type": "code",
   "execution_count": 64,
   "metadata": {},
   "outputs": [
    {
     "data": {
      "text/plain": [
       "3.5400759766759005"
      ]
     },
     "execution_count": 64,
     "metadata": {},
     "output_type": "execute_result"
    }
   ],
   "source": [
    "this_at_tmp.get_distance(0,5)"
   ]
  },
  {
   "cell_type": "markdown",
   "metadata": {},
   "source": [
    "## diagonal_virial=F, no PIPs"
   ]
  },
  {
   "cell_type": "code",
   "execution_count": 15,
   "metadata": {},
   "outputs": [
    {
     "name": "stdout",
     "output_type": "stream",
     "text": [
      "mbx_pbc_no_ww_mw_www_mww\n"
     ]
    }
   ],
   "source": [
    "this_version=version_list[3]\n",
    "print this_version"
   ]
  },
  {
   "cell_type": "code",
   "execution_count": 16,
   "metadata": {},
   "outputs": [],
   "source": [
    "pot_MBX = quippy.Potential(\"IP MBXPBC diagonal_virial=F n_monomers_types={\"+\n",
    "                           dict_pot[\"n_monomers_types\"]+\"} nmon=\"+str(dict_pot[\"nmon\"])+\n",
    "                           \" json_file=\"+this_version+\".json\",param_str=\"\")"
   ]
  },
  {
   "cell_type": "code",
   "execution_count": 17,
   "metadata": {},
   "outputs": [],
   "source": [
    "at= this_at_tmp.copy()"
   ]
  },
  {
   "cell_type": "code",
   "execution_count": 18,
   "metadata": {},
   "outputs": [
    {
     "name": "stdout",
     "output_type": "stream",
     "text": [
      "[[-1.43232229 -0.20591496  1.22131836]\n",
      " [-0.20591496 -1.72251679  0.46415493]\n",
      " [ 1.22131836  0.46415493 -2.34800644]]\n"
     ]
    }
   ],
   "source": [
    "pot_MBX.calc(at,virial=True)\n",
    "dict_version_model_virial[this_version] = np.array( at.params[\"virial\"])\n",
    "print dict_version_model_virial[this_version]"
   ]
  },
  {
   "cell_type": "code",
   "execution_count": 19,
   "metadata": {
    "scrolled": false
   },
   "outputs": [],
   "source": [
    "for tmp_d in [0.01,0.001,0.0001]:#,0.00001, 0.000001, 0.0000001, 0.00000001, 0.000000001]:\n",
    "    dict_version_d_virial[this_version][tmp_d] = calculate_numerical_virial_diag(pot=pot_MBX,in_atoms=this_at_tmp.copy(),d=tmp_d)\n",
    "    "
   ]
  },
  {
   "cell_type": "markdown",
   "metadata": {},
   "source": [
    "## diagonal_virial=F, no 3b PIPs"
   ]
  },
  {
   "cell_type": "code",
   "execution_count": 20,
   "metadata": {},
   "outputs": [
    {
     "name": "stdout",
     "output_type": "stream",
     "text": [
      "mbx_pbc_no_www_mww\n"
     ]
    }
   ],
   "source": [
    "this_version=version_list[2]\n",
    "print this_version"
   ]
  },
  {
   "cell_type": "code",
   "execution_count": 21,
   "metadata": {},
   "outputs": [],
   "source": [
    "pot_MBX = quippy.Potential(\"IP MBXPBC diagonal_virial=F n_monomers_types={\"+\n",
    "                           dict_pot[\"n_monomers_types\"]+\"} nmon=\"+str(dict_pot[\"nmon\"])+\n",
    "                           \" json_file=\"+this_version+\".json\",param_str=\"\")"
   ]
  },
  {
   "cell_type": "code",
   "execution_count": 22,
   "metadata": {},
   "outputs": [],
   "source": [
    "at= this_at_tmp.copy()"
   ]
  },
  {
   "cell_type": "code",
   "execution_count": 23,
   "metadata": {},
   "outputs": [
    {
     "name": "stdout",
     "output_type": "stream",
     "text": [
      "[[-1.41801525 -0.19417328  1.21840974]\n",
      " [-0.19417328 -1.70201764  0.46224119]\n",
      " [ 1.21840974  0.46224119 -2.33576414]]\n"
     ]
    }
   ],
   "source": [
    "pot_MBX.calc(at,virial=True)\n",
    "dict_version_model_virial[this_version] = np.array( at.params[\"virial\"])\n",
    "print dict_version_model_virial[this_version]"
   ]
  },
  {
   "cell_type": "code",
   "execution_count": 24,
   "metadata": {},
   "outputs": [],
   "source": [
    "for tmp_d in [0.01,0.001,0.0001]:#,0.00001, 0.000001, 0.0000001, 0.00000001, 0.000000001]:\n",
    "    dict_version_d_virial[this_version][tmp_d] = calculate_numerical_virial_diag(pot=pot_MBX,in_atoms=this_at_tmp.copy(),d=tmp_d)\n",
    "    "
   ]
  },
  {
   "cell_type": "code",
   "execution_count": null,
   "metadata": {},
   "outputs": [],
   "source": []
  },
  {
   "cell_type": "markdown",
   "metadata": {},
   "source": [
    "## diagonal_virial=F, full MBX"
   ]
  },
  {
   "cell_type": "code",
   "execution_count": 55,
   "metadata": {},
   "outputs": [
    {
     "name": "stdout",
     "output_type": "stream",
     "text": [
      "mbx_pbc\n"
     ]
    }
   ],
   "source": [
    "this_version=version_list[0]\n",
    "print this_version"
   ]
  },
  {
   "cell_type": "code",
   "execution_count": 56,
   "metadata": {},
   "outputs": [],
   "source": [
    "pot_MBX = quippy.Potential(\"IP MBXPBC diagonal_virial=F n_monomers_types={\"+\n",
    "                           dict_pot[\"n_monomers_types\"]+\"} nmon=\"+str(dict_pot[\"nmon\"])+\n",
    "                           \" json_file=\"+this_version+\".json\",param_str=\"\")"
   ]
  },
  {
   "cell_type": "code",
   "execution_count": 57,
   "metadata": {},
   "outputs": [],
   "source": [
    "at= this_at_tmp.copy()"
   ]
  },
  {
   "cell_type": "code",
   "execution_count": 58,
   "metadata": {},
   "outputs": [
    {
     "name": "stdout",
     "output_type": "stream",
     "text": [
      "[[-1.41801525 -0.19417328  1.21840974]\n",
      " [-0.19417328 -1.70201764  0.46224119]\n",
      " [ 1.21840974  0.46224119 -2.33576414]]\n"
     ]
    }
   ],
   "source": [
    "pot_MBX.calc(at,virial=True)\n",
    "dict_version_model_virial[this_version] = np.array( at.params[\"virial\"])\n",
    "print dict_version_model_virial[this_version]"
   ]
  },
  {
   "cell_type": "code",
   "execution_count": 60,
   "metadata": {
    "scrolled": false
   },
   "outputs": [],
   "source": [
    "for tmp_d in [0.1,0.01,0.001,0.0001,0.00001, 0.000001]: #, 0.0000001, 0.00000001, 0.000000001]:\n",
    "    dict_version_d_virial[this_version][tmp_d] = calculate_numerical_virial_diag(pot=pot_MBX,in_atoms=this_at_tmp.copy(),d=tmp_d)\n",
    "    "
   ]
  },
  {
   "cell_type": "markdown",
   "metadata": {},
   "source": [
    "## diagonal_virial=F, no 2b PIPs"
   ]
  },
  {
   "cell_type": "code",
   "execution_count": 30,
   "metadata": {},
   "outputs": [
    {
     "name": "stdout",
     "output_type": "stream",
     "text": [
      "mbx_pbc_no_ww_mw\n"
     ]
    }
   ],
   "source": [
    "this_version=version_list[4]\n",
    "print this_version"
   ]
  },
  {
   "cell_type": "code",
   "execution_count": 31,
   "metadata": {},
   "outputs": [],
   "source": [
    "pot_MBX = quippy.Potential(\"IP MBXPBC diagonal_virial=F n_monomers_types={\"+\n",
    "                           dict_pot[\"n_monomers_types\"]+\"} nmon=\"+str(dict_pot[\"nmon\"])+\n",
    "                           \" json_file=\"+this_version+\".json\",param_str=\"\")"
   ]
  },
  {
   "cell_type": "code",
   "execution_count": 32,
   "metadata": {},
   "outputs": [],
   "source": [
    "at= this_at_tmp.copy()"
   ]
  },
  {
   "cell_type": "code",
   "execution_count": 33,
   "metadata": {},
   "outputs": [
    {
     "name": "stdout",
     "output_type": "stream",
     "text": [
      "[[-1.43232229 -0.20591496  1.22131836]\n",
      " [-0.20591496 -1.72251679  0.46415493]\n",
      " [ 1.22131836  0.46415493 -2.34800644]]\n"
     ]
    }
   ],
   "source": [
    "pot_MBX.calc(at,virial=True)\n",
    "dict_version_model_virial[this_version] = np.array( at.params[\"virial\"])\n",
    "print dict_version_model_virial[this_version]"
   ]
  },
  {
   "cell_type": "code",
   "execution_count": 34,
   "metadata": {},
   "outputs": [],
   "source": [
    "for tmp_d in [0.01,0.001,0.0001]:#,0.00001, 0.000001, 0.0000001, 0.00000001, 0.000000001]:\n",
    "    dict_version_d_virial[this_version][tmp_d] = calculate_numerical_virial_diag(pot=pot_MBX,in_atoms=this_at_tmp.copy(),d=tmp_d)\n",
    "    "
   ]
  },
  {
   "cell_type": "code",
   "execution_count": 35,
   "metadata": {},
   "outputs": [],
   "source": [
    "for tmp_d in [0.00001,0.000001]:#,0.00001, 0.000001, 0.0000001, 0.00000001, 0.000000001]:\n",
    "    dict_version_d_virial[this_version][tmp_d] = calculate_numerical_virial_diag(pot=pot_MBX,in_atoms=this_at_tmp.copy(),d=tmp_d)\n",
    "    "
   ]
  },
  {
   "cell_type": "markdown",
   "metadata": {},
   "source": [
    "## diagonal_virial=F, no ww 2b PIPs"
   ]
  },
  {
   "cell_type": "code",
   "execution_count": 36,
   "metadata": {},
   "outputs": [
    {
     "name": "stdout",
     "output_type": "stream",
     "text": [
      "mbx_pbc_no_ww\n"
     ]
    }
   ],
   "source": [
    "this_version=version_list[5]\n",
    "print this_version"
   ]
  },
  {
   "cell_type": "code",
   "execution_count": 37,
   "metadata": {},
   "outputs": [],
   "source": [
    "pot_MBX = quippy.Potential(\"IP MBXPBC diagonal_virial=F n_monomers_types={\"+\n",
    "                           dict_pot[\"n_monomers_types\"]+\"} nmon=\"+str(dict_pot[\"nmon\"])+\n",
    "                           \" json_file=\"+this_version+\".json\",param_str=\"\")"
   ]
  },
  {
   "cell_type": "code",
   "execution_count": 38,
   "metadata": {},
   "outputs": [],
   "source": [
    "at= this_at_tmp.copy()"
   ]
  },
  {
   "cell_type": "code",
   "execution_count": 39,
   "metadata": {},
   "outputs": [
    {
     "name": "stdout",
     "output_type": "stream",
     "text": [
      "[[-1.41801525 -0.19417328  1.21840974]\n",
      " [-0.19417328 -1.70201764  0.46224119]\n",
      " [ 1.21840974  0.46224119 -2.33576414]]\n"
     ]
    }
   ],
   "source": [
    "pot_MBX.calc(at,virial=True)\n",
    "dict_version_model_virial[this_version] = np.array( at.params[\"virial\"])\n",
    "print dict_version_model_virial[this_version]"
   ]
  },
  {
   "cell_type": "code",
   "execution_count": 40,
   "metadata": {},
   "outputs": [],
   "source": [
    "for tmp_d in [0.01,0.001,0.0001]:#,0.00001, 0.000001, 0.0000001, 0.00000001, 0.000000001]:\n",
    "    dict_version_d_virial[this_version][tmp_d] = calculate_numerical_virial_diag(pot=pot_MBX,in_atoms=this_at_tmp.copy(),d=tmp_d)\n",
    "    "
   ]
  },
  {
   "cell_type": "code",
   "execution_count": 41,
   "metadata": {},
   "outputs": [],
   "source": [
    "for tmp_d in [0.00001,0.000001]:#,0.00001, 0.000001, 0.0000001, 0.00000001, 0.000000001]:\n",
    "    dict_version_d_virial[this_version][tmp_d] = calculate_numerical_virial_diag(pot=pot_MBX,in_atoms=this_at_tmp.copy(),d=tmp_d)\n",
    "    "
   ]
  },
  {
   "cell_type": "markdown",
   "metadata": {},
   "source": [
    "## diagonal_virial=F, no mw 2b PIPs"
   ]
  },
  {
   "cell_type": "code",
   "execution_count": 42,
   "metadata": {},
   "outputs": [
    {
     "name": "stdout",
     "output_type": "stream",
     "text": [
      "mbx_pbc_no_mw\n"
     ]
    }
   ],
   "source": [
    "this_version=version_list[6]\n",
    "print this_version"
   ]
  },
  {
   "cell_type": "code",
   "execution_count": 43,
   "metadata": {},
   "outputs": [],
   "source": [
    "pot_MBX = quippy.Potential(\"IP MBXPBC diagonal_virial=F n_monomers_types={\"+\n",
    "                           dict_pot[\"n_monomers_types\"]+\"} nmon=\"+str(dict_pot[\"nmon\"])+\n",
    "                           \" json_file=\"+this_version+\".json\",param_str=\"\")"
   ]
  },
  {
   "cell_type": "code",
   "execution_count": 44,
   "metadata": {},
   "outputs": [],
   "source": [
    "at= this_at_tmp.copy()"
   ]
  },
  {
   "cell_type": "code",
   "execution_count": 45,
   "metadata": {},
   "outputs": [
    {
     "name": "stdout",
     "output_type": "stream",
     "text": [
      "[[-1.43232229 -0.20591496  1.22131836]\n",
      " [-0.20591496 -1.72251679  0.46415493]\n",
      " [ 1.22131836  0.46415493 -2.34800644]]\n"
     ]
    }
   ],
   "source": [
    "pot_MBX.calc(at,virial=True)\n",
    "dict_version_model_virial[this_version] = np.array( at.params[\"virial\"])\n",
    "print dict_version_model_virial[this_version]"
   ]
  },
  {
   "cell_type": "code",
   "execution_count": 46,
   "metadata": {},
   "outputs": [],
   "source": [
    "for tmp_d in [0.01,0.001,0.0001]:#,0.00001, 0.000001, 0.0000001, 0.00000001, 0.000000001]:\n",
    "    dict_version_d_virial[this_version][tmp_d] = calculate_numerical_virial_diag(pot=pot_MBX,in_atoms=this_at_tmp.copy(),d=tmp_d)\n",
    "    "
   ]
  },
  {
   "cell_type": "code",
   "execution_count": 47,
   "metadata": {},
   "outputs": [],
   "source": [
    "for tmp_d in [0.00001,0.000001]:#,0.00001, 0.000001, 0.0000001, 0.00000001, 0.000000001]:\n",
    "    dict_version_d_virial[this_version][tmp_d] = calculate_numerical_virial_diag(pot=pot_MBX,in_atoms=this_at_tmp.copy(),d=tmp_d)\n",
    "    "
   ]
  },
  {
   "cell_type": "code",
   "execution_count": null,
   "metadata": {},
   "outputs": [],
   "source": []
  },
  {
   "cell_type": "code",
   "execution_count": null,
   "metadata": {},
   "outputs": [],
   "source": []
  },
  {
   "cell_type": "code",
   "execution_count": null,
   "metadata": {},
   "outputs": [],
   "source": []
  },
  {
   "cell_type": "code",
   "execution_count": null,
   "metadata": {},
   "outputs": [],
   "source": []
  },
  {
   "cell_type": "code",
   "execution_count": 48,
   "metadata": {},
   "outputs": [
    {
     "data": {
      "text/plain": [
       "['mbx_pbc',\n",
       " 'mbx_pbc_no_mww_pip',\n",
       " 'mbx_pbc_no_www_mww',\n",
       " 'mbx_pbc_no_ww_mw_www_mww',\n",
       " 'mbx_pbc_no_ww_mw',\n",
       " 'mbx_pbc_no_ww',\n",
       " 'mbx_pbc_no_mw']"
      ]
     },
     "execution_count": 48,
     "metadata": {},
     "output_type": "execute_result"
    }
   ],
   "source": [
    "version_list"
   ]
  },
  {
   "cell_type": "code",
   "execution_count": null,
   "metadata": {},
   "outputs": [],
   "source": []
  },
  {
   "cell_type": "markdown",
   "metadata": {},
   "source": [
    "## Errors in derivative virial / Virial from model (only diagonal)"
   ]
  },
  {
   "cell_type": "markdown",
   "metadata": {},
   "source": [
    "### full model"
   ]
  },
  {
   "cell_type": "code",
   "execution_count": 61,
   "metadata": {},
   "outputs": [
    {
     "name": "stdout",
     "output_type": "stream",
     "text": [
      "d = 0.01\n",
      "[-0.0005575  -0.00173787 -0.00100369]\n",
      "d = 0.001\n",
      "[-5.57626378e-06 -1.73759756e-05 -1.00379589e-05]\n",
      "d = 0.0001\n",
      "[-5.56147834e-08 -1.65912594e-07 -1.18610387e-07]\n",
      "d = 1e-05\n",
      "[-8.20622058e-08  1.52606284e-07  1.56066000e-08]\n",
      "d = 1e-06\n",
      "[-2.23213218e-06  3.63523234e-07 -7.92234396e-07]\n"
     ]
    }
   ],
   "source": [
    "this_version=\"mbx_pbc\"\n",
    "for tmp_d in [0.01,0.001,0.0001,0.00001, 0.000001]:#, 0.0000001, 0.00000001, 0.000000001]:\n",
    "    print \"d =\",tmp_d\n",
    "    print np.diag((dict_version_d_virial[this_version][tmp_d] -dict_version_model_virial[this_version])/dict_version_model_virial[this_version])"
   ]
  },
  {
   "cell_type": "markdown",
   "metadata": {},
   "source": [
    "### model without PIPs"
   ]
  },
  {
   "cell_type": "code",
   "execution_count": 50,
   "metadata": {},
   "outputs": [
    {
     "name": "stdout",
     "output_type": "stream",
     "text": [
      "d = 0.01\n",
      "[-0.00051398 -0.00172035 -0.00099964]\n",
      "d = 0.001\n",
      "[-5.14114554e-06 -1.72009058e-05 -9.99751432e-06]\n",
      "d = 0.0001\n",
      "[-5.13546360e-08 -1.64194957e-07 -1.18161675e-07]\n"
     ]
    }
   ],
   "source": [
    "this_version=\"mbx_pbc_no_ww_mw_www_mww\"\n",
    "for tmp_d in [0.01,0.001,0.0001]:#,0.00001, 0.000001, 0.0000001, 0.00000001, 0.000000001]:\n",
    "    print \"d =\",tmp_d\n",
    "    print np.diag((dict_version_d_virial[this_version][tmp_d] -dict_version_model_virial[this_version])/dict_version_model_virial[this_version])"
   ]
  },
  {
   "cell_type": "markdown",
   "metadata": {},
   "source": [
    "### model without 2B PIPs"
   ]
  },
  {
   "cell_type": "code",
   "execution_count": 51,
   "metadata": {
    "scrolled": true
   },
   "outputs": [
    {
     "name": "stdout",
     "output_type": "stream",
     "text": [
      "d = 0.01\n",
      "[-0.00051398 -0.00172035 -0.00099964]\n",
      "d = 0.001\n",
      "[-5.14114554e-06 -1.72009058e-05 -9.99751432e-06]\n",
      "d = 0.0001\n",
      "[-5.13546360e-08 -1.64194957e-07 -1.18161675e-07]\n",
      "d = 1e-05\n",
      "[-8.12211124e-08  1.50225397e-07  1.52266101e-08]\n",
      "d = 1e-06\n",
      "[-2.21144971e-06  3.56305919e-07 -7.84254712e-07]\n"
     ]
    }
   ],
   "source": [
    "this_version=\"mbx_pbc_no_ww_mw\"\n",
    "for tmp_d in [0.01,0.001,0.0001,0.00001, 0.000001]:#, 0.0000001, 0.00000001, 0.000000001]:\n",
    "    print \"d =\",tmp_d\n",
    "    print np.diag((dict_version_d_virial[this_version][tmp_d] -dict_version_model_virial[this_version])/dict_version_model_virial[this_version])"
   ]
  },
  {
   "cell_type": "markdown",
   "metadata": {},
   "source": [
    "### model without 3B PIPs"
   ]
  },
  {
   "cell_type": "code",
   "execution_count": 52,
   "metadata": {
    "scrolled": true
   },
   "outputs": [
    {
     "name": "stdout",
     "output_type": "stream",
     "text": [
      "d = 0.01\n",
      "[-0.0005575  -0.00173787 -0.00100369]\n",
      "d = 0.001\n",
      "[-5.57626378e-06 -1.73759756e-05 -1.00379589e-05]\n",
      "d = 0.0001\n",
      "[-5.56147834e-08 -1.65912594e-07 -1.18610387e-07]\n",
      "d = 1e-05\n",
      "[nan nan nan]\n",
      "d = 1e-06\n",
      "[nan nan nan]\n"
     ]
    }
   ],
   "source": [
    "this_version=\"mbx_pbc_no_www_mww\"\n",
    "for tmp_d in [0.01,0.001,0.0001,0.00001, 0.000001]:#, 0.0000001, 0.00000001, 0.000000001]:\n",
    "    print \"d =\",tmp_d\n",
    "    print np.diag((dict_version_d_virial[this_version][tmp_d] -dict_version_model_virial[this_version])/dict_version_model_virial[this_version])"
   ]
  },
  {
   "cell_type": "markdown",
   "metadata": {},
   "source": [
    "### model without 2B ww PIPs"
   ]
  },
  {
   "cell_type": "code",
   "execution_count": 53,
   "metadata": {
    "scrolled": true
   },
   "outputs": [
    {
     "name": "stdout",
     "output_type": "stream",
     "text": [
      "d = 0.01\n",
      "[-0.0005575  -0.00173787 -0.00100369]\n",
      "d = 0.001\n",
      "[-5.57626378e-06 -1.73759756e-05 -1.00379589e-05]\n",
      "d = 0.0001\n",
      "[-5.56147834e-08 -1.65912594e-07 -1.18610387e-07]\n",
      "d = 1e-05\n",
      "[-8.20622058e-08  1.52606284e-07  1.56066000e-08]\n",
      "d = 1e-06\n",
      "[-2.23213218e-06  3.63523234e-07 -7.92234396e-07]\n"
     ]
    }
   ],
   "source": [
    "this_version=\"mbx_pbc_no_ww\"\n",
    "for tmp_d in [0.01,0.001,0.0001,0.00001, 0.000001]:#, 0.0000001, 0.00000001, 0.000000001]:\n",
    "    print \"d =\",tmp_d\n",
    "    print np.diag((dict_version_d_virial[this_version][tmp_d] -dict_version_model_virial[this_version])/dict_version_model_virial[this_version])"
   ]
  },
  {
   "cell_type": "markdown",
   "metadata": {},
   "source": [
    "### model without 2B mw PIPs"
   ]
  },
  {
   "cell_type": "code",
   "execution_count": 54,
   "metadata": {
    "scrolled": true
   },
   "outputs": [
    {
     "name": "stdout",
     "output_type": "stream",
     "text": [
      "d = 0.01\n",
      "[-0.00051398 -0.00172035 -0.00099964]\n",
      "d = 0.001\n",
      "[-5.14114554e-06 -1.72009058e-05 -9.99751432e-06]\n",
      "d = 0.0001\n",
      "[-5.13546360e-08 -1.64194957e-07 -1.18161675e-07]\n",
      "d = 1e-05\n",
      "[-8.12211124e-08  1.50225397e-07  1.52266101e-08]\n",
      "d = 1e-06\n",
      "[-2.21144971e-06  3.56305919e-07 -7.84254712e-07]\n"
     ]
    }
   ],
   "source": [
    "this_version=\"mbx_pbc_no_mw\"\n",
    "for tmp_d in [0.01,0.001,0.0001,0.00001, 0.000001]:#, 0.0000001, 0.00000001, 0.000000001]:\n",
    "    print \"d =\",tmp_d\n",
    "    print np.diag((dict_version_d_virial[this_version][tmp_d] -dict_version_model_virial[this_version])/dict_version_model_virial[this_version])"
   ]
  },
  {
   "cell_type": "code",
   "execution_count": null,
   "metadata": {},
   "outputs": [],
   "source": []
  },
  {
   "cell_type": "code",
   "execution_count": null,
   "metadata": {},
   "outputs": [],
   "source": []
  },
  {
   "cell_type": "code",
   "execution_count": null,
   "metadata": {},
   "outputs": [],
   "source": []
  },
  {
   "cell_type": "code",
   "execution_count": null,
   "metadata": {},
   "outputs": [],
   "source": []
  },
  {
   "cell_type": "code",
   "execution_count": null,
   "metadata": {},
   "outputs": [],
   "source": []
  },
  {
   "cell_type": "code",
   "execution_count": null,
   "metadata": {},
   "outputs": [],
   "source": []
  },
  {
   "cell_type": "code",
   "execution_count": null,
   "metadata": {},
   "outputs": [],
   "source": []
  }
 ],
 "metadata": {
  "kernelspec": {
   "display_name": "Python 2",
   "language": "python",
   "name": "python2"
  },
  "language_info": {
   "codemirror_mode": {
    "name": "ipython",
    "version": 2
   },
   "file_extension": ".py",
   "mimetype": "text/x-python",
   "name": "python",
   "nbconvert_exporter": "python",
   "pygments_lexer": "ipython2",
   "version": "2.7.15"
  }
 },
 "nbformat": 4,
 "nbformat_minor": 2
}
