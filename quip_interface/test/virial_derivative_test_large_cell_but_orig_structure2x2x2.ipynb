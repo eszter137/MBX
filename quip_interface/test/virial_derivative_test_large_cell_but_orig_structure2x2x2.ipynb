{
 "cells": [
  {
   "cell_type": "code",
   "execution_count": 1,
   "metadata": {},
   "outputs": [],
   "source": [
    "import quippy\n",
    "import ase\n",
    "from ase.calculators.calculator import all_changes\n",
    "\n",
    "import logging\n",
    "logging.basicConfig(level=logging.WARNING)"
   ]
  },
  {
   "cell_type": "code",
   "execution_count": 2,
   "metadata": {},
   "outputs": [],
   "source": [
    "import matplotlib as mpl\n",
    "import matplotlib.pyplot as plt\n",
    "import numpy as np"
   ]
  },
  {
   "cell_type": "code",
   "execution_count": 3,
   "metadata": {},
   "outputs": [],
   "source": [
    "import os\n",
    "import sys"
   ]
  },
  {
   "cell_type": "code",
   "execution_count": 4,
   "metadata": {},
   "outputs": [],
   "source": [
    "sys.path.insert(0,\"/home/es732/programs/function_modules/\")\n",
    "import mbx_functions"
   ]
  },
  {
   "cell_type": "code",
   "execution_count": 5,
   "metadata": {},
   "outputs": [
    {
     "name": "stdout",
     "output_type": "stream",
     "text": [
      "/home/es732/programs/MBX/quip_interface/test\n"
     ]
    }
   ],
   "source": [
    "dirpath = os.getcwd()\n",
    "print dirpath"
   ]
  },
  {
   "cell_type": "code",
   "execution_count": 6,
   "metadata": {},
   "outputs": [],
   "source": [
    "from collections import OrderedDict"
   ]
  },
  {
   "cell_type": "code",
   "execution_count": 7,
   "metadata": {},
   "outputs": [],
   "source": [
    "d_list=[0.1,0.01,0.001,0.0001,0.00001,0.000001]"
   ]
  },
  {
   "cell_type": "code",
   "execution_count": 8,
   "metadata": {},
   "outputs": [],
   "source": [
    "version_list=[\"mbx_pbc\",\"mbx_pbc_no_mww_pip\",\"mbx_pbc_no_www_mww\",\"mbx_pbc_no_ww_mw_www_mww\",\n",
    "              \"mbx_pbc_no_ww_mw\",\"mbx_pbc_no_ww\",\"mbx_pbc_no_mw\"]"
   ]
  },
  {
   "cell_type": "code",
   "execution_count": 9,
   "metadata": {},
   "outputs": [],
   "source": [
    "dict_version_d_virial=OrderedDict([(version,\n",
    "                                    OrderedDict([(d, [[np.NaN, np.NaN, np.NaN], [np.NaN, np.NaN, np.NaN], [np.NaN, np.NaN, np.NaN]])\n",
    "                                                 for d in d_list]))\n",
    "                                   for version in version_list])"
   ]
  },
  {
   "cell_type": "code",
   "execution_count": 10,
   "metadata": {},
   "outputs": [],
   "source": [
    "dict_version_model_virial=OrderedDict([(version,[[np.NaN, np.NaN, np.NaN], [np.NaN, np.NaN, np.NaN], [np.NaN, np.NaN, np.NaN]])\n",
    "                                   for version in version_list])"
   ]
  },
  {
   "cell_type": "code",
   "execution_count": 11,
   "metadata": {},
   "outputs": [],
   "source": [
    "def calculate_numerical_virial_diag(pot, in_atoms, d=1e-2):\n",
    "    ## modified from the function calculate_numerical_stress() at ase/calculators/calculator.py \n",
    "    \"\"\"Calculate numerical stress using finite difference.\"\"\"\n",
    "\n",
    "    atoms=in_atoms.copy()\n",
    "    stress = np.zeros((3, 3), dtype=float)\n",
    "\n",
    "    cell = atoms.cell.copy()\n",
    "    V = atoms.get_volume()\n",
    "    for i in range(3):\n",
    "        x = np.eye(3)\n",
    "        x[i, i] += d\n",
    "        atoms.set_cell(np.dot(cell, x), scale_atoms=True)\n",
    "        atoms.set_calculator(pot)\n",
    "        eplus = atoms.get_potential_energy()#force_consistent=True)\n",
    "        pot.reset()\n",
    "\n",
    "        x[i, i] -= 2 * d\n",
    "        atoms.set_cell(np.dot(cell, x), scale_atoms=True)\n",
    "        atoms.set_calculator(pot)\n",
    "        eminus = atoms.get_potential_energy()#force_consistent=True)\n",
    "        pot.reset()\n",
    "\n",
    "        stress[i, i] = (eplus - eminus) / (2 * d * V)\n",
    "        x[i, i] += d\n",
    "    atoms.set_cell(cell, scale_atoms=True)\n",
    "    virial= (-stress*atoms.get_volume())\n",
    "    return virial"
   ]
  },
  {
   "cell_type": "code",
   "execution_count": 12,
   "metadata": {},
   "outputs": [],
   "source": [
    "this_root=\"/home/es732/programs/mbx_tests/single_point/pbc/clathrate/\""
   ]
  },
  {
   "cell_type": "code",
   "execution_count": 13,
   "metadata": {},
   "outputs": [],
   "source": [
    "this_struct=\"phase_clathrate_2x2x2\"\n",
    "this_at_tmp=quippy.Atoms(this_root+\"11.74290/\"+this_struct+\".xyz\")\n",
    "this_at_tmp.set_cell(np.eye(3)*50.)\n",
    "dict_pot=mbx_functions.create_mbx_potential_variables(this_at_tmp)"
   ]
  },
  {
   "cell_type": "code",
   "execution_count": 14,
   "metadata": {},
   "outputs": [
    {
     "data": {
      "text/plain": [
       "FortranArray([[50.,  0.,  0.],\n",
       "              [ 0., 50.,  0.],\n",
       "              [ 0.,  0., 50.]])"
      ]
     },
     "execution_count": 14,
     "metadata": {},
     "output_type": "execute_result"
    }
   ],
   "source": [
    "this_at_tmp.lattice"
   ]
  },
  {
   "cell_type": "markdown",
   "metadata": {},
   "source": [
    "## diagonal_virial=F, no PIPs"
   ]
  },
  {
   "cell_type": "code",
   "execution_count": 15,
   "metadata": {},
   "outputs": [
    {
     "name": "stdout",
     "output_type": "stream",
     "text": [
      "mbx_pbc_no_ww_mw_www_mww\n"
     ]
    }
   ],
   "source": [
    "this_version=version_list[3]\n",
    "print this_version"
   ]
  },
  {
   "cell_type": "code",
   "execution_count": 16,
   "metadata": {},
   "outputs": [],
   "source": [
    "pot_MBX = quippy.Potential(\"IP MBXPBC diagonal_virial=F n_monomers_types={\"+\n",
    "                           dict_pot[\"n_monomers_types\"]+\"} nmon=\"+str(dict_pot[\"nmon\"])+\n",
    "                           \" json_file=\"+this_version+\".json\",param_str=\"\")"
   ]
  },
  {
   "cell_type": "code",
   "execution_count": 17,
   "metadata": {},
   "outputs": [],
   "source": [
    "at= this_at_tmp.copy()"
   ]
  },
  {
   "cell_type": "code",
   "execution_count": 18,
   "metadata": {},
   "outputs": [
    {
     "name": "stdout",
     "output_type": "stream",
     "text": [
      "[[-1073.80920385    21.69910986    20.51525099]\n",
      " [   21.69910986 -1077.35753592    28.61648701]\n",
      " [   20.51525099    28.61648701 -1089.69986688]]\n"
     ]
    }
   ],
   "source": [
    "pot_MBX.calc(at,virial=True)\n",
    "dict_version_model_virial[this_version] = np.array( at.params[\"virial\"])\n",
    "print dict_version_model_virial[this_version]"
   ]
  },
  {
   "cell_type": "code",
   "execution_count": 19,
   "metadata": {},
   "outputs": [],
   "source": [
    "np.savetxt(\"test.txt\",dict_version_model_virial[this_version])"
   ]
  },
  {
   "cell_type": "code",
   "execution_count": 29,
   "metadata": {},
   "outputs": [],
   "source": [
    "this_at_tmp.write(\"test.xyz\")"
   ]
  },
  {
   "cell_type": "code",
   "execution_count": 20,
   "metadata": {
    "scrolled": false
   },
   "outputs": [],
   "source": [
    "for tmp_d in [0.01,0.001,0.0001]:#,0.00001, 0.000001, 0.0000001, 0.00000001, 0.000000001]:\n",
    "    dict_version_d_virial[this_version][tmp_d] = calculate_numerical_virial_diag(pot=pot_MBX,in_atoms=this_at_tmp.copy(),d=tmp_d)\n",
    "    "
   ]
  },
  {
   "cell_type": "code",
   "execution_count": null,
   "metadata": {},
   "outputs": [],
   "source": []
  },
  {
   "cell_type": "markdown",
   "metadata": {},
   "source": [
    "## diagonal_virial=F, full MBX"
   ]
  },
  {
   "cell_type": "code",
   "execution_count": 53,
   "metadata": {},
   "outputs": [
    {
     "name": "stdout",
     "output_type": "stream",
     "text": [
      "mbx_pbc\n"
     ]
    }
   ],
   "source": [
    "this_version=version_list[0]\n",
    "print this_version"
   ]
  },
  {
   "cell_type": "code",
   "execution_count": 54,
   "metadata": {},
   "outputs": [],
   "source": [
    "pot_MBX = quippy.Potential(\"IP MBXPBC diagonal_virial=F n_monomers_types={\"+\n",
    "                           dict_pot[\"n_monomers_types\"]+\"} nmon=\"+str(dict_pot[\"nmon\"])+\n",
    "                           \" json_file=\"+this_version+\".json\",param_str=\"\")"
   ]
  },
  {
   "cell_type": "code",
   "execution_count": 55,
   "metadata": {},
   "outputs": [],
   "source": [
    "at= this_at_tmp.copy()"
   ]
  },
  {
   "cell_type": "code",
   "execution_count": 24,
   "metadata": {},
   "outputs": [
    {
     "name": "stdout",
     "output_type": "stream",
     "text": [
      "[[-249.06631645   -8.67955405   -9.35353365]\n",
      " [  -8.67955405 -255.80913537   -9.74435778]\n",
      " [  -9.35353365   -9.74435778 -252.20803778]]\n"
     ]
    }
   ],
   "source": [
    "pot_MBX.calc(at,virial=True)\n",
    "dict_version_model_virial[this_version] = np.array( at.params[\"virial\"])\n",
    "print dict_version_model_virial[this_version]"
   ]
  },
  {
   "cell_type": "code",
   "execution_count": 25,
   "metadata": {
    "scrolled": false
   },
   "outputs": [],
   "source": [
    "for tmp_d in [0.1,0.01,0.001,0.0001]:#,0.00001, 0.000001, 0.0000001, 0.00000001, 0.000000001]:\n",
    "    dict_version_d_virial[this_version][tmp_d] = calculate_numerical_virial_diag(pot=pot_MBX,in_atoms=this_at_tmp.copy(),d=tmp_d)\n",
    "    "
   ]
  },
  {
   "cell_type": "code",
   "execution_count": 56,
   "metadata": {},
   "outputs": [],
   "source": [
    "for tmp_d in [0.00001, 0.000001]:#, 0.0000001, 0.00000001, 0.000000001]:\n",
    "    dict_version_d_virial[this_version][tmp_d] = calculate_numerical_virial_diag(pot=pot_MBX,in_atoms=this_at_tmp.copy(),d=tmp_d)\n",
    "    "
   ]
  },
  {
   "cell_type": "markdown",
   "metadata": {},
   "source": [
    "## diagonal_virial=F, no 3b PIPs"
   ]
  },
  {
   "cell_type": "code",
   "execution_count": 30,
   "metadata": {},
   "outputs": [
    {
     "name": "stdout",
     "output_type": "stream",
     "text": [
      "mbx_pbc_no_www_mww\n"
     ]
    }
   ],
   "source": [
    "this_version=version_list[2]\n",
    "print this_version"
   ]
  },
  {
   "cell_type": "code",
   "execution_count": 31,
   "metadata": {},
   "outputs": [],
   "source": [
    "pot_MBX = quippy.Potential(\"IP MBXPBC diagonal_virial=F n_monomers_types={\"+\n",
    "                           dict_pot[\"n_monomers_types\"]+\"} nmon=\"+str(dict_pot[\"nmon\"])+\n",
    "                           \" json_file=\"+this_version+\".json\",param_str=\"\")"
   ]
  },
  {
   "cell_type": "code",
   "execution_count": 32,
   "metadata": {},
   "outputs": [],
   "source": [
    "at= this_at_tmp.copy()"
   ]
  },
  {
   "cell_type": "code",
   "execution_count": 33,
   "metadata": {},
   "outputs": [
    {
     "name": "stdout",
     "output_type": "stream",
     "text": [
      "[[-266.05005826   -9.18689015   -7.97998036]\n",
      " [  -9.18689015 -271.57603558  -11.17364313]\n",
      " [  -7.97998036  -11.17364313 -268.5041102 ]]\n"
     ]
    }
   ],
   "source": [
    "pot_MBX.calc(at,virial=True)\n",
    "dict_version_model_virial[this_version] = np.array( at.params[\"virial\"])\n",
    "print dict_version_model_virial[this_version]"
   ]
  },
  {
   "cell_type": "code",
   "execution_count": 34,
   "metadata": {},
   "outputs": [],
   "source": [
    "for tmp_d in [0.01,0.001,0.0001]:#,0.00001, 0.000001, 0.0000001, 0.00000001, 0.000000001]:\n",
    "    dict_version_d_virial[this_version][tmp_d] = calculate_numerical_virial_diag(pot=pot_MBX,in_atoms=this_at_tmp.copy(),d=tmp_d)\n",
    "    "
   ]
  },
  {
   "cell_type": "code",
   "execution_count": null,
   "metadata": {},
   "outputs": [],
   "source": []
  },
  {
   "cell_type": "markdown",
   "metadata": {},
   "source": [
    "## diagonal_virial=F, no 2b PIPs"
   ]
  },
  {
   "cell_type": "code",
   "execution_count": 35,
   "metadata": {},
   "outputs": [
    {
     "name": "stdout",
     "output_type": "stream",
     "text": [
      "mbx_pbc_no_ww_mw\n"
     ]
    }
   ],
   "source": [
    "this_version=version_list[4]\n",
    "print this_version"
   ]
  },
  {
   "cell_type": "code",
   "execution_count": 36,
   "metadata": {},
   "outputs": [],
   "source": [
    "pot_MBX = quippy.Potential(\"IP MBXPBC diagonal_virial=F n_monomers_types={\"+\n",
    "                           dict_pot[\"n_monomers_types\"]+\"} nmon=\"+str(dict_pot[\"nmon\"])+\n",
    "                           \" json_file=\"+this_version+\".json\",param_str=\"\")"
   ]
  },
  {
   "cell_type": "code",
   "execution_count": 37,
   "metadata": {},
   "outputs": [],
   "source": [
    "at= this_at_tmp.copy()"
   ]
  },
  {
   "cell_type": "code",
   "execution_count": 38,
   "metadata": {},
   "outputs": [
    {
     "name": "stdout",
     "output_type": "stream",
     "text": [
      "[[-1056.82546205    22.20644597    19.1416977 ]\n",
      " [   22.20644597 -1061.59063572    30.04577237]\n",
      " [   19.1416977     30.04577237 -1073.40379446]]\n"
     ]
    }
   ],
   "source": [
    "pot_MBX.calc(at,virial=True)\n",
    "dict_version_model_virial[this_version] = np.array( at.params[\"virial\"])\n",
    "print dict_version_model_virial[this_version]"
   ]
  },
  {
   "cell_type": "code",
   "execution_count": 39,
   "metadata": {},
   "outputs": [],
   "source": [
    "for tmp_d in [0.01,0.001,0.0001]:#,0.00001, 0.000001, 0.0000001, 0.00000001, 0.000000001]:\n",
    "    dict_version_d_virial[this_version][tmp_d] = calculate_numerical_virial_diag(pot=pot_MBX,in_atoms=this_at_tmp.copy(),d=tmp_d)\n",
    "    "
   ]
  },
  {
   "cell_type": "code",
   "execution_count": 40,
   "metadata": {},
   "outputs": [],
   "source": [
    "for tmp_d in [0.00001,0.000001]:#,0.00001, 0.000001, 0.0000001, 0.00000001, 0.000000001]:\n",
    "    dict_version_d_virial[this_version][tmp_d] = calculate_numerical_virial_diag(pot=pot_MBX,in_atoms=this_at_tmp.copy(),d=tmp_d)\n",
    "    "
   ]
  },
  {
   "cell_type": "markdown",
   "metadata": {},
   "source": [
    "## diagonal_virial=F, no mw 2b PIPs"
   ]
  },
  {
   "cell_type": "code",
   "execution_count": 41,
   "metadata": {},
   "outputs": [
    {
     "name": "stdout",
     "output_type": "stream",
     "text": [
      "mbx_pbc_no_mw\n"
     ]
    }
   ],
   "source": [
    "this_version=version_list[6]\n",
    "print this_version"
   ]
  },
  {
   "cell_type": "code",
   "execution_count": 42,
   "metadata": {},
   "outputs": [],
   "source": [
    "pot_MBX = quippy.Potential(\"IP MBXPBC diagonal_virial=F n_monomers_types={\"+\n",
    "                           dict_pot[\"n_monomers_types\"]+\"} nmon=\"+str(dict_pot[\"nmon\"])+\n",
    "                           \" json_file=\"+this_version+\".json\",param_str=\"\")"
   ]
  },
  {
   "cell_type": "code",
   "execution_count": 43,
   "metadata": {},
   "outputs": [],
   "source": [
    "at= this_at_tmp.copy()"
   ]
  },
  {
   "cell_type": "code",
   "execution_count": 44,
   "metadata": {},
   "outputs": [
    {
     "name": "stdout",
     "output_type": "stream",
     "text": [
      "[[-284.45293315   -8.90231248   -9.12952282]\n",
      " [  -8.90231248 -291.71378904   -9.08627096]\n",
      " [  -9.12952282   -9.08627096 -288.83887944]]\n"
     ]
    }
   ],
   "source": [
    "pot_MBX.calc(at,virial=True)\n",
    "dict_version_model_virial[this_version] = np.array( at.params[\"virial\"])\n",
    "print dict_version_model_virial[this_version]"
   ]
  },
  {
   "cell_type": "code",
   "execution_count": 45,
   "metadata": {},
   "outputs": [],
   "source": [
    "for tmp_d in [0.01,0.001,0.0001]:#,0.00001, 0.000001, 0.0000001, 0.00000001, 0.000000001]:\n",
    "    dict_version_d_virial[this_version][tmp_d] = calculate_numerical_virial_diag(pot=pot_MBX,in_atoms=this_at_tmp.copy(),d=tmp_d)\n",
    "    "
   ]
  },
  {
   "cell_type": "code",
   "execution_count": 46,
   "metadata": {},
   "outputs": [],
   "source": [
    "for tmp_d in [0.00001,0.000001]:#,0.00001, 0.000001, 0.0000001, 0.00000001, 0.000000001]:\n",
    "    dict_version_d_virial[this_version][tmp_d] = calculate_numerical_virial_diag(pot=pot_MBX,in_atoms=this_at_tmp.copy(),d=tmp_d)\n",
    "    "
   ]
  },
  {
   "cell_type": "code",
   "execution_count": null,
   "metadata": {},
   "outputs": [],
   "source": []
  },
  {
   "cell_type": "code",
   "execution_count": null,
   "metadata": {},
   "outputs": [],
   "source": []
  },
  {
   "cell_type": "code",
   "execution_count": null,
   "metadata": {},
   "outputs": [],
   "source": []
  },
  {
   "cell_type": "code",
   "execution_count": null,
   "metadata": {},
   "outputs": [],
   "source": []
  },
  {
   "cell_type": "code",
   "execution_count": 47,
   "metadata": {},
   "outputs": [
    {
     "data": {
      "text/plain": [
       "['mbx_pbc',\n",
       " 'mbx_pbc_no_mww_pip',\n",
       " 'mbx_pbc_no_www_mww',\n",
       " 'mbx_pbc_no_ww_mw_www_mww',\n",
       " 'mbx_pbc_no_ww_mw',\n",
       " 'mbx_pbc_no_ww',\n",
       " 'mbx_pbc_no_mw']"
      ]
     },
     "execution_count": 47,
     "metadata": {},
     "output_type": "execute_result"
    }
   ],
   "source": [
    "version_list"
   ]
  },
  {
   "cell_type": "code",
   "execution_count": null,
   "metadata": {},
   "outputs": [],
   "source": []
  },
  {
   "cell_type": "markdown",
   "metadata": {},
   "source": [
    "## Errors in derivative virial / Virial from model (only diagonal)"
   ]
  },
  {
   "cell_type": "markdown",
   "metadata": {},
   "source": [
    "### full model"
   ]
  },
  {
   "cell_type": "code",
   "execution_count": 57,
   "metadata": {},
   "outputs": [
    {
     "name": "stdout",
     "output_type": "stream",
     "text": [
      "d = 0.01\n",
      "[0.00642574 0.00646207 0.00581412]\n",
      "d = 0.001\n",
      "[0.00912306 0.00904669 0.00839041]\n",
      "d = 0.0001\n",
      "[0.0091498  0.00907314 0.00841578]\n",
      "d = 1e-05\n",
      "[0.00915007 0.00907338 0.00841604]\n",
      "d = 1e-06\n",
      "[0.00914994 0.0090733  0.00841618]\n"
     ]
    }
   ],
   "source": [
    "this_version=\"mbx_pbc\"\n",
    "for tmp_d in [0.01,0.001,0.0001,0.00001, 0.000001]: #, 0.0000001, 0.00000001, 0.000000001]:\n",
    "    print \"d =\",tmp_d\n",
    "    print np.diag((dict_version_d_virial[this_version][tmp_d] -dict_version_model_virial[this_version])/dict_version_model_virial[this_version])"
   ]
  },
  {
   "cell_type": "markdown",
   "metadata": {},
   "source": [
    "### model without PIPs"
   ]
  },
  {
   "cell_type": "code",
   "execution_count": 27,
   "metadata": {},
   "outputs": [
    {
     "name": "stdout",
     "output_type": "stream",
     "text": [
      "d = 0.01\n",
      "[-0.00042727 -0.00041367 -0.00037826]\n",
      "d = 0.001\n",
      "[-4.28322649e-06 -4.10937794e-06 -3.80407531e-06]\n",
      "d = 0.0001\n",
      "[-4.32183075e-08 -4.13607599e-08 -3.79029714e-08]\n"
     ]
    }
   ],
   "source": [
    "this_version=\"mbx_pbc_no_ww_mw_www_mww\"\n",
    "for tmp_d in [0.01,0.001,0.0001]:#,0.00001, 0.000001, 0.0000001, 0.00000001, 0.000000001]:\n",
    "    print \"d =\",tmp_d\n",
    "    print np.diag((dict_version_d_virial[this_version][tmp_d] -dict_version_model_virial[this_version])/dict_version_model_virial[this_version])"
   ]
  },
  {
   "cell_type": "markdown",
   "metadata": {},
   "source": [
    "### model without 2B PIPs"
   ]
  },
  {
   "cell_type": "code",
   "execution_count": 48,
   "metadata": {
    "scrolled": true
   },
   "outputs": [
    {
     "name": "stdout",
     "output_type": "stream",
     "text": [
      "d = 0.01\n",
      "[-0.00041203 -0.00040184 -0.00037433]\n",
      "d = 0.001\n",
      "[-3.97920066e-06 -4.18341124e-06 -3.62223334e-06]\n",
      "d = 0.0001\n",
      "[-4.02749893e-08 -4.04159547e-08 -3.90183055e-08]\n",
      "d = 1e-05\n",
      "[-3.54045932e-10 -7.69515896e-10  7.33288738e-10]\n",
      "d = 1e-06\n",
      "[-2.41117416e-08 -7.81878271e-09  3.10878005e-08]\n"
     ]
    }
   ],
   "source": [
    "this_version=\"mbx_pbc_no_ww_mw\"\n",
    "for tmp_d in [0.01,0.001,0.0001,0.00001, 0.000001]:#, 0.0000001, 0.00000001, 0.000000001]:\n",
    "    print \"d =\",tmp_d\n",
    "    print np.diag((dict_version_d_virial[this_version][tmp_d] -dict_version_model_virial[this_version])/dict_version_model_virial[this_version])"
   ]
  },
  {
   "cell_type": "markdown",
   "metadata": {},
   "source": [
    "### model without 3B PIPs"
   ]
  },
  {
   "cell_type": "code",
   "execution_count": 49,
   "metadata": {
    "scrolled": true
   },
   "outputs": [
    {
     "name": "stdout",
     "output_type": "stream",
     "text": [
      "d = 0.01\n",
      "[0.00592773 0.00601662 0.00542256]\n",
      "d = 0.001\n",
      "[0.00853919 0.00852151 0.00788022]\n",
      "d = 0.0001\n",
      "[0.00856569 0.00854637 0.00790502]\n",
      "d = 1e-05\n",
      "[nan nan nan]\n",
      "d = 1e-06\n",
      "[nan nan nan]\n"
     ]
    }
   ],
   "source": [
    "this_version=\"mbx_pbc_no_www_mww\"\n",
    "for tmp_d in [0.01,0.001,0.0001,0.00001, 0.000001]:#, 0.0000001, 0.00000001, 0.000000001]:\n",
    "    print \"d =\",tmp_d\n",
    "    print np.diag((dict_version_d_virial[this_version][tmp_d] -dict_version_model_virial[this_version])/dict_version_model_virial[this_version])"
   ]
  },
  {
   "cell_type": "markdown",
   "metadata": {},
   "source": [
    "### model without 2B mw PIPs"
   ]
  },
  {
   "cell_type": "code",
   "execution_count": 52,
   "metadata": {
    "scrolled": true
   },
   "outputs": [
    {
     "name": "stdout",
     "output_type": "stream",
     "text": [
      "d = 0.01\n",
      "[-0.00233483 -0.00223544 -0.00221574]\n",
      "d = 0.001\n",
      "[-2.28829745e-05 -2.28836205e-05 -2.16770921e-05]\n",
      "d = 0.0001\n",
      "[-2.31092921e-07 -2.16580897e-07 -2.20848923e-07]\n",
      "d = 1e-05\n",
      "[-2.99619241e-09 -9.61934959e-09 -1.36800386e-09]\n",
      "d = 1e-06\n",
      "[-1.16661874e-07 -8.18345542e-08  1.16938165e-07]\n"
     ]
    }
   ],
   "source": [
    "this_version=\"mbx_pbc_no_mw\"\n",
    "for tmp_d in [0.01,0.001,0.0001,0.00001, 0.000001]:#, 0.0000001, 0.00000001, 0.000000001]:\n",
    "    print \"d =\",tmp_d\n",
    "    print np.diag((dict_version_d_virial[this_version][tmp_d] -dict_version_model_virial[this_version])/dict_version_model_virial[this_version])"
   ]
  },
  {
   "cell_type": "code",
   "execution_count": null,
   "metadata": {},
   "outputs": [],
   "source": []
  },
  {
   "cell_type": "code",
   "execution_count": null,
   "metadata": {},
   "outputs": [],
   "source": []
  },
  {
   "cell_type": "code",
   "execution_count": null,
   "metadata": {},
   "outputs": [],
   "source": []
  },
  {
   "cell_type": "code",
   "execution_count": null,
   "metadata": {},
   "outputs": [],
   "source": []
  },
  {
   "cell_type": "code",
   "execution_count": null,
   "metadata": {},
   "outputs": [],
   "source": []
  },
  {
   "cell_type": "code",
   "execution_count": null,
   "metadata": {},
   "outputs": [],
   "source": []
  },
  {
   "cell_type": "code",
   "execution_count": null,
   "metadata": {},
   "outputs": [],
   "source": []
  }
 ],
 "metadata": {
  "kernelspec": {
   "display_name": "Python 2",
   "language": "python",
   "name": "python2"
  },
  "language_info": {
   "codemirror_mode": {
    "name": "ipython",
    "version": 2
   },
   "file_extension": ".py",
   "mimetype": "text/x-python",
   "name": "python",
   "nbconvert_exporter": "python",
   "pygments_lexer": "ipython2",
   "version": "2.7.15"
  }
 },
 "nbformat": 4,
 "nbformat_minor": 2
}
