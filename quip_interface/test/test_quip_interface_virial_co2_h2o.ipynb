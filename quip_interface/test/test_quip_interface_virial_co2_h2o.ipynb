{
 "cells": [
  {
   "cell_type": "code",
   "execution_count": 1,
   "metadata": {},
   "outputs": [],
   "source": [
    "import quippy\n",
    "import ase\n",
    "from ase.calculators.calculator import all_changes\n",
    "\n",
    "import logging\n",
    "logging.basicConfig(level=logging.WARNING)"
   ]
  },
  {
   "cell_type": "code",
   "execution_count": 2,
   "metadata": {},
   "outputs": [],
   "source": [
    "import matplotlib as mpl\n",
    "import matplotlib.pyplot as plt\n",
    "import numpy as np"
   ]
  },
  {
   "cell_type": "code",
   "execution_count": 3,
   "metadata": {},
   "outputs": [],
   "source": [
    "import os\n",
    "import sys"
   ]
  },
  {
   "cell_type": "code",
   "execution_count": 4,
   "metadata": {},
   "outputs": [],
   "source": [
    "sys.path.insert(0,\"/home/es732/programs/function_modules/\")\n",
    "import mbx_functions"
   ]
  },
  {
   "cell_type": "code",
   "execution_count": 5,
   "metadata": {},
   "outputs": [
    {
     "name": "stdout",
     "output_type": "stream",
     "text": [
      "/home/es732/programs/MBX/quip_interface/test\n"
     ]
    }
   ],
   "source": [
    "dirpath = os.getcwd()\n",
    "print dirpath"
   ]
  },
  {
   "cell_type": "code",
   "execution_count": 6,
   "metadata": {},
   "outputs": [],
   "source": [
    "from collections import OrderedDict"
   ]
  },
  {
   "cell_type": "code",
   "execution_count": 7,
   "metadata": {},
   "outputs": [],
   "source": [
    "version_list=[\"mbx_pbc\",\"mbx_pbc_no_ww_www_co2ww\",\"mbx_pbc_no_co2w\"]"
   ]
  },
  {
   "cell_type": "code",
   "execution_count": 8,
   "metadata": {},
   "outputs": [],
   "source": [
    "dict_version_model_virial=OrderedDict([(version,[[np.NaN, np.NaN, np.NaN], [np.NaN, np.NaN, np.NaN], [np.NaN, np.NaN, np.NaN]])\n",
    "                                   for version in version_list])"
   ]
  },
  {
   "cell_type": "code",
   "execution_count": 9,
   "metadata": {},
   "outputs": [],
   "source": [
    "dict_version_model_energy=OrderedDict([(version,np.NaN) for version in version_list])"
   ]
  },
  {
   "cell_type": "code",
   "execution_count": 10,
   "metadata": {},
   "outputs": [],
   "source": [
    "dict_version_fortran_model_virial=OrderedDict([(version,[[np.NaN, np.NaN, np.NaN], [np.NaN, np.NaN, np.NaN], [np.NaN, np.NaN, np.NaN]])\n",
    "                                   for version in version_list])"
   ]
  },
  {
   "cell_type": "code",
   "execution_count": 11,
   "metadata": {},
   "outputs": [],
   "source": [
    "dict_version_fortran_model_energy=OrderedDict([(version,np.NaN) for version in version_list])"
   ]
  },
  {
   "cell_type": "code",
   "execution_count": 49,
   "metadata": {},
   "outputs": [],
   "source": [
    "dict_version_single_point_virial=OrderedDict([(version,[[np.NaN, np.NaN, np.NaN], [np.NaN, np.NaN, np.NaN], [np.NaN, np.NaN, np.NaN]])\n",
    "                                   for version in version_list])"
   ]
  },
  {
   "cell_type": "code",
   "execution_count": 50,
   "metadata": {},
   "outputs": [],
   "source": [
    "dict_version_single_point_energy=OrderedDict([(version,np.NaN) for version in version_list])"
   ]
  },
  {
   "cell_type": "code",
   "execution_count": null,
   "metadata": {},
   "outputs": [],
   "source": []
  },
  {
   "cell_type": "code",
   "execution_count": 12,
   "metadata": {},
   "outputs": [],
   "source": [
    "this_root=\"/home/es732/programs/test_genice/CO2/sI/\""
   ]
  },
  {
   "cell_type": "code",
   "execution_count": 13,
   "metadata": {},
   "outputs": [],
   "source": [
    "this_struct=\"sI_co2_cell2x2x2_rand0_ase.xyz\"\n",
    "this_at_tmp=quippy.Atoms(this_root+this_struct)\n",
    "dict_pot=mbx_functions.create_mbx_potential_variables_co2_h2o(this_at_tmp)"
   ]
  },
  {
   "cell_type": "code",
   "execution_count": 14,
   "metadata": {},
   "outputs": [
    {
     "data": {
      "text/plain": [
       "432"
      ]
     },
     "execution_count": 14,
     "metadata": {},
     "output_type": "execute_result"
    }
   ],
   "source": [
    "np.sum(this_at_tmp.numbers==8)-64*2+64"
   ]
  },
  {
   "cell_type": "code",
   "execution_count": 15,
   "metadata": {},
   "outputs": [
    {
     "data": {
      "text/plain": [
       "{'n_monomers_types': '368 OHH 64 COO', 'nmon': 432}"
      ]
     },
     "execution_count": 15,
     "metadata": {},
     "output_type": "execute_result"
    }
   ],
   "source": [
    "dict_pot"
   ]
  },
  {
   "cell_type": "markdown",
   "metadata": {},
   "source": [
    "## full MBX"
   ]
  },
  {
   "cell_type": "code",
   "execution_count": 21,
   "metadata": {},
   "outputs": [
    {
     "name": "stdout",
     "output_type": "stream",
     "text": [
      "mbx_pbc\n"
     ]
    }
   ],
   "source": [
    "this_version=version_list[0]\n",
    "print this_version"
   ]
  },
  {
   "cell_type": "code",
   "execution_count": 22,
   "metadata": {},
   "outputs": [],
   "source": [
    "pot_MBX = quippy.Potential(\"IP MBXPBC diagonal_virial=F n_monomers_types={\"+\n",
    "                           dict_pot[\"n_monomers_types\"]+\"} nmon=\"+str(dict_pot[\"nmon\"])+\n",
    "                           \" json_file=\"+this_version+\".json\",param_str=\"\")"
   ]
  },
  {
   "cell_type": "code",
   "execution_count": 23,
   "metadata": {},
   "outputs": [],
   "source": [
    "at= this_at_tmp.copy()"
   ]
  },
  {
   "cell_type": "code",
   "execution_count": 24,
   "metadata": {},
   "outputs": [
    {
     "name": "stdout",
     "output_type": "stream",
     "text": [
      "[[ 1.47201270e+02  2.80973830e-02  1.46323351e-02]\n",
      " [ 2.80973830e-02  1.46872093e+02 -1.29849463e-01]\n",
      " [ 1.46323351e-02 -1.29849463e-01  4.13338055e+02]]\n"
     ]
    }
   ],
   "source": [
    "pot_MBX.calc(at,virial=True)\n",
    "dict_version_model_virial[this_version] = np.array( at.params[\"virial\"])\n",
    "print dict_version_model_virial[this_version]"
   ]
  },
  {
   "cell_type": "code",
   "execution_count": 25,
   "metadata": {},
   "outputs": [
    {
     "name": "stdout",
     "output_type": "stream",
     "text": [
      "-229.340390325\n",
      "[[0. 0. 0.]\n",
      " [0. 0. 0.]\n",
      " [0. 0. 0.]]\n"
     ]
    }
   ],
   "source": [
    "pot_MBX.calc(at,energy=True,virial=True)\n",
    "print at.energy\n",
    "print np.array( at.params[\"virial\"])-dict_version_model_virial[this_version]"
   ]
  },
  {
   "cell_type": "code",
   "execution_count": 26,
   "metadata": {},
   "outputs": [],
   "source": [
    "dict_version_model_energy[this_version] =at.params[\"energy\"]\n"
   ]
  },
  {
   "cell_type": "code",
   "execution_count": null,
   "metadata": {},
   "outputs": [],
   "source": []
  },
  {
   "cell_type": "code",
   "execution_count": null,
   "metadata": {},
   "outputs": [],
   "source": []
  },
  {
   "cell_type": "code",
   "execution_count": 27,
   "metadata": {},
   "outputs": [
    {
     "name": "stdout",
     "output_type": "stream",
     "text": [
      "[[ 3.39454195e+03  6.47941051e-01  3.37429665e-01]\n",
      " [ 6.47941051e-01  3.38695095e+03 -2.99439979e+00]\n",
      " [ 3.37429665e-01 -2.99439979e+00  9.53180205e+03]]\n"
     ]
    }
   ],
   "source": [
    "print  dict_version_model_virial[this_version]/quippy.units.KCAL_MOL"
   ]
  },
  {
   "cell_type": "code",
   "execution_count": 28,
   "metadata": {},
   "outputs": [],
   "source": [
    "dict_version_fortran_model_virial[\"mbx_pbc\"]=np.array([[3394.5391542125399 ,0.64789637185251880, 0.33740238917508236],\n",
    "                                                       [0.64789637185251880,  3386.9480678837554, -2.9944082890992618],\n",
    "                                                       [0.33740238917508236, -2.9944082890992618, 9531.7992736620254]])*quippy.units.KCAL_MOL"
   ]
  },
  {
   "cell_type": "code",
   "execution_count": 29,
   "metadata": {},
   "outputs": [],
   "source": [
    "dict_version_fortran_model_energy[\"mbx_pbc\"]=-5288.7150127307032*quippy.units.KCAL_MOL"
   ]
  },
  {
   "cell_type": "code",
   "execution_count": 52,
   "metadata": {},
   "outputs": [],
   "source": [
    "dict_version_single_point_virial[\"mbx_pbc\"]=np.array([[ 3.394541952877991e+03 , 6.479410507076393e-01 , 3.374296652847555e-01], \n",
    "                                                      [6.479410507076393e-01 , 3.386950951965182e+03 , -2.994399786073444e+00] ,\n",
    "                                                      [3.374296652847555e-01 , -2.994399786073444e+00 , 9.531802052230920e+03]])*quippy.units.KCAL_MOL"
   ]
  },
  {
   "cell_type": "code",
   "execution_count": 53,
   "metadata": {},
   "outputs": [],
   "source": [
    "dict_version_single_point_energy[\"mbx_pbc\"]=-5288.72*quippy.units.KCAL_MOL"
   ]
  },
  {
   "cell_type": "code",
   "execution_count": null,
   "metadata": {},
   "outputs": [],
   "source": []
  },
  {
   "cell_type": "markdown",
   "metadata": {},
   "source": [
    "## fortran vs. python"
   ]
  },
  {
   "cell_type": "code",
   "execution_count": 55,
   "metadata": {},
   "outputs": [
    {
     "data": {
      "text/plain": [
       "array([[-8.24460410e-07, -6.89551234e-05, -8.08349487e-05],\n",
       "       [-6.89551234e-05, -8.51527367e-07,  2.83964281e-06],\n",
       "       [-8.08349487e-05,  2.83964281e-06, -2.91505098e-07]])"
      ]
     },
     "execution_count": 55,
     "metadata": {},
     "output_type": "execute_result"
    }
   ],
   "source": [
    "(dict_version_fortran_model_virial[\"mbx_pbc\"]-dict_version_model_virial[\"mbx_pbc\"])/dict_version_model_virial[\"mbx_pbc\"]"
   ]
  },
  {
   "cell_type": "code",
   "execution_count": 56,
   "metadata": {},
   "outputs": [
    {
     "data": {
      "text/plain": [
       "-1.3134418424669002e-08"
      ]
     },
     "execution_count": 56,
     "metadata": {},
     "output_type": "execute_result"
    }
   ],
   "source": [
    "(dict_version_fortran_model_energy[\"mbx_pbc\"]-dict_version_model_energy[\"mbx_pbc\"])/dict_version_model_energy[\"mbx_pbc\"]"
   ]
  },
  {
   "cell_type": "markdown",
   "metadata": {},
   "source": [
    "## fortran vs. single_point"
   ]
  },
  {
   "cell_type": "code",
   "execution_count": 57,
   "metadata": {},
   "outputs": [
    {
     "data": {
      "text/plain": [
       "array([[-8.24460410e-07, -6.89551234e-05, -8.08349487e-05],\n",
       "       [-6.89551234e-05, -8.51527367e-07,  2.83964281e-06],\n",
       "       [-8.08349487e-05,  2.83964281e-06, -2.91505098e-07]])"
      ]
     },
     "execution_count": 57,
     "metadata": {},
     "output_type": "execute_result"
    }
   ],
   "source": [
    "(dict_version_fortran_model_virial[\"mbx_pbc\"]-dict_version_single_point_virial [\"mbx_pbc\"])/dict_version_single_point_virial[\"mbx_pbc\"]"
   ]
  },
  {
   "cell_type": "code",
   "execution_count": 58,
   "metadata": {},
   "outputs": [
    {
     "data": {
      "text/plain": [
       "-9.430011982614963e-07"
      ]
     },
     "execution_count": 58,
     "metadata": {},
     "output_type": "execute_result"
    }
   ],
   "source": [
    "(dict_version_fortran_model_energy[\"mbx_pbc\"]-dict_version_single_point_energy[\"mbx_pbc\"])/dict_version_single_point_energy[\"mbx_pbc\"]"
   ]
  },
  {
   "cell_type": "code",
   "execution_count": null,
   "metadata": {},
   "outputs": [],
   "source": []
  },
  {
   "cell_type": "code",
   "execution_count": null,
   "metadata": {},
   "outputs": [],
   "source": []
  },
  {
   "cell_type": "code",
   "execution_count": null,
   "metadata": {},
   "outputs": [],
   "source": []
  },
  {
   "cell_type": "markdown",
   "metadata": {},
   "source": [
    "## diagonal_virial=F, no PIPs except mw 2B"
   ]
  },
  {
   "cell_type": "code",
   "execution_count": 32,
   "metadata": {},
   "outputs": [
    {
     "name": "stdout",
     "output_type": "stream",
     "text": [
      "mbx_pbc_no_ww_www_co2ww\n"
     ]
    }
   ],
   "source": [
    "this_version=version_list[1]\n",
    "print this_version"
   ]
  },
  {
   "cell_type": "code",
   "execution_count": 33,
   "metadata": {},
   "outputs": [],
   "source": [
    "pot_MBX = quippy.Potential(\"IP MBXPBC diagonal_virial=F n_monomers_types={\"+\n",
    "                           dict_pot[\"n_monomers_types\"]+\"} nmon=\"+str(dict_pot[\"nmon\"])+\n",
    "                           \" json_file=\"+this_version+\".json\",param_str=\"\")"
   ]
  },
  {
   "cell_type": "code",
   "execution_count": 34,
   "metadata": {},
   "outputs": [],
   "source": [
    "at= this_at_tmp.copy()"
   ]
  },
  {
   "cell_type": "code",
   "execution_count": 35,
   "metadata": {},
   "outputs": [
    {
     "name": "stdout",
     "output_type": "stream",
     "text": [
      "[[-5.26705602e+02  2.40198305e-01  4.29459541e-01]\n",
      " [ 2.40198305e-01 -5.27674169e+02 -1.98667968e+00]\n",
      " [ 4.29459541e-01 -1.98667968e+00 -2.59694841e+02]]\n"
     ]
    }
   ],
   "source": [
    "pot_MBX.calc(at,virial=True,energy=True)\n",
    "dict_version_model_virial[this_version] = np.array( at.params[\"virial\"])\n",
    "dict_version_model_energy[this_version] =  at.params[\"energy\"]\n",
    "\n",
    "print dict_version_model_virial[this_version]"
   ]
  },
  {
   "cell_type": "code",
   "execution_count": 36,
   "metadata": {},
   "outputs": [],
   "source": [
    "dict_version_fortran_model_energy[\"mbx_pbc_no_ww_www_co2ww\"]=-10299.854656551084*quippy.units.KCAL_MOL"
   ]
  },
  {
   "cell_type": "code",
   "execution_count": 37,
   "metadata": {},
   "outputs": [],
   "source": [
    "dict_version_fortran_model_virial[\"mbx_pbc_no_ww_www_co2ww\"]=np.array([[-12146.117419954695,5.5390551892580904,9.9035525087171532],\n",
    "                                                                       [5.5390551892580904,-12168.453235692657,-45.813889630451854],\n",
    "                                                                       [9.9035525087171532,-45.813889630451854,-5988.7029654433718]])*quippy.units.KCAL_MOL"
   ]
  },
  {
   "cell_type": "code",
   "execution_count": 63,
   "metadata": {},
   "outputs": [],
   "source": [
    "dict_version_single_point_virial[\"mbx_pbc_no_ww_www_co2ww\"]=np.array([[-1.214611981198882e+04 , 5.539104534173878e+00 , 9.903572358641975e+00 ],\n",
    "                                                                      [ 5.539104534173878e+00 , -1.216845549786064e+04 , -4.581392203901115e+01 ], \n",
    "                                                                      [9.903572358641975e+00 , -4.581392203901115e+01 , -5.988705355078668e+03 ]])*quippy.units.KCAL_MOL"
   ]
  },
  {
   "cell_type": "code",
   "execution_count": 64,
   "metadata": {},
   "outputs": [],
   "source": [
    "dict_version_single_point_energy[\"mbx_pbc_no_ww_www_co2ww\"]=-10299.9*quippy.units.KCAL_MOL"
   ]
  },
  {
   "cell_type": "code",
   "execution_count": null,
   "metadata": {},
   "outputs": [],
   "source": []
  },
  {
   "cell_type": "code",
   "execution_count": null,
   "metadata": {},
   "outputs": [],
   "source": []
  },
  {
   "cell_type": "markdown",
   "metadata": {},
   "source": [
    "## fortran vs. python"
   ]
  },
  {
   "cell_type": "code",
   "execution_count": 65,
   "metadata": {},
   "outputs": [
    {
     "data": {
      "text/plain": [
       "-1.9778607582625518e-07"
      ]
     },
     "execution_count": 65,
     "metadata": {},
     "output_type": "execute_result"
    }
   ],
   "source": [
    "(dict_version_fortran_model_energy[\"mbx_pbc_no_ww_www_co2ww\"]-dict_version_model_energy[\"mbx_pbc_no_ww_www_co2ww\"])/dict_version_model_energy[\"mbx_pbc_no_ww_www_co2ww\"]"
   ]
  },
  {
   "cell_type": "code",
   "execution_count": 66,
   "metadata": {},
   "outputs": [
    {
     "data": {
      "text/plain": [
       "array([[-1.96938130e-07, -8.90846444e-06, -2.00431966e-06],\n",
       "       [-8.90846444e-06, -1.85904282e-07, -7.07395435e-07],\n",
       "       [-2.00431966e-06, -7.07395435e-07, -3.99023688e-07]])"
      ]
     },
     "execution_count": 66,
     "metadata": {},
     "output_type": "execute_result"
    }
   ],
   "source": [
    "(dict_version_fortran_model_virial[\"mbx_pbc_no_ww_www_co2ww\"]-dict_version_model_virial[\"mbx_pbc_no_ww_www_co2ww\"])/dict_version_model_virial[\"mbx_pbc_no_ww_www_co2ww\"]"
   ]
  },
  {
   "cell_type": "markdown",
   "metadata": {},
   "source": [
    "## fortran vs. single_point"
   ]
  },
  {
   "cell_type": "code",
   "execution_count": 67,
   "metadata": {},
   "outputs": [
    {
     "data": {
      "text/plain": [
       "array([[-1.96938130e-07, -8.90846444e-06, -2.00431966e-06],\n",
       "       [-8.90846444e-06, -1.85904282e-07, -7.07395435e-07],\n",
       "       [-2.00431966e-06, -7.07395435e-07, -3.99023688e-07]])"
      ]
     },
     "execution_count": 67,
     "metadata": {},
     "output_type": "execute_result"
    }
   ],
   "source": [
    "(dict_version_fortran_model_virial[\"mbx_pbc_no_ww_www_co2ww\"]-dict_version_single_point_virial [\"mbx_pbc_no_ww_www_co2ww\"])/dict_version_single_point_virial[\"mbx_pbc_no_ww_www_co2ww\"]"
   ]
  },
  {
   "cell_type": "code",
   "execution_count": 68,
   "metadata": {},
   "outputs": [
    {
     "data": {
      "text/plain": [
       "-4.402319334764841e-06"
      ]
     },
     "execution_count": 68,
     "metadata": {},
     "output_type": "execute_result"
    }
   ],
   "source": [
    "(dict_version_fortran_model_energy[\"mbx_pbc_no_ww_www_co2ww\"]-dict_version_single_point_energy[\"mbx_pbc_no_ww_www_co2ww\"])/dict_version_single_point_energy[\"mbx_pbc_no_ww_www_co2ww\"]"
   ]
  },
  {
   "cell_type": "code",
   "execution_count": null,
   "metadata": {},
   "outputs": [],
   "source": []
  },
  {
   "cell_type": "markdown",
   "metadata": {},
   "source": [
    "## full MBX - no 2B CO2 - water PIP"
   ]
  },
  {
   "cell_type": "code",
   "execution_count": 40,
   "metadata": {},
   "outputs": [
    {
     "name": "stdout",
     "output_type": "stream",
     "text": [
      "mbx_pbc_no_co2w\n"
     ]
    }
   ],
   "source": [
    "this_version=version_list[2]\n",
    "print this_version"
   ]
  },
  {
   "cell_type": "code",
   "execution_count": 41,
   "metadata": {},
   "outputs": [],
   "source": [
    "pot_MBX = quippy.Potential(\"IP MBXPBC diagonal_virial=F n_monomers_types={\"+\n",
    "                           dict_pot[\"n_monomers_types\"]+\"} nmon=\"+str(dict_pot[\"nmon\"])+\n",
    "                           \" json_file=\"+this_version+\".json\",param_str=\"\")"
   ]
  },
  {
   "cell_type": "code",
   "execution_count": 42,
   "metadata": {},
   "outputs": [],
   "source": [
    "at= this_at_tmp.copy()"
   ]
  },
  {
   "cell_type": "code",
   "execution_count": 43,
   "metadata": {},
   "outputs": [
    {
     "name": "stdout",
     "output_type": "stream",
     "text": [
      "[[ 1.26240897e+02  1.17775182e-01  3.99142492e-01]\n",
      " [ 1.17775182e-01  1.25875417e+02 -3.97774287e-01]\n",
      " [ 3.99142492e-01 -3.97774287e-01  3.17334846e+02]]\n"
     ]
    }
   ],
   "source": [
    "pot_MBX.calc(at,virial=True,energy=True)\n",
    "dict_version_model_virial[this_version] = np.array( at.params[\"virial\"])\n",
    "dict_version_model_energy[this_version] =at.params[\"energy\"]\n",
    "\n",
    "print dict_version_model_virial[this_version]"
   ]
  },
  {
   "cell_type": "code",
   "execution_count": 44,
   "metadata": {},
   "outputs": [],
   "source": [
    "dict_version_fortran_model_energy[\"mbx_pbc_no_co2w\"]=-5385.7929701596913*quippy.units.KCAL_MOL"
   ]
  },
  {
   "cell_type": "code",
   "execution_count": 45,
   "metadata": {},
   "outputs": [],
   "source": [
    "dict_version_fortran_model_virial[\"mbx_pbc_no_co2w\"]=np.array([[2911.1819970827237,        2.7159200409817572,        9.2044141214315971],\n",
    "                                                               [2.7159200409817572,        2902.7537707302527,       -9.1729030536742542],\n",
    "                                                               [9.2044141214315971,       -9.1729030536742542,        7317.9131847538456]])*quippy.units.KCAL_MOL"
   ]
  },
  {
   "cell_type": "code",
   "execution_count": 59,
   "metadata": {},
   "outputs": [],
   "source": [
    "dict_version_single_point_virial[\"mbx_pbc_no_co2w\"]=np.array([[2.911184274803405e+03 , 2.715960239967526e+00, 9.204444597340984e+00] , \n",
    "                                                              [2.715960239967526e+00 , 2.902756092713413e+03 , -9.172893052672137e+00], \n",
    "                                                              [9.204444597340984e+00 , -9.172893052672137e+00 , 7.317915461213778e+03 ]])*quippy.units.KCAL_MOL"
   ]
  },
  {
   "cell_type": "code",
   "execution_count": 60,
   "metadata": {},
   "outputs": [],
   "source": [
    "dict_version_single_point_energy[\"mbx_pbc_no_co2w\"]=-5385.79*quippy.units.KCAL_MOL"
   ]
  },
  {
   "cell_type": "code",
   "execution_count": null,
   "metadata": {},
   "outputs": [],
   "source": []
  },
  {
   "cell_type": "markdown",
   "metadata": {},
   "source": [
    "## fortran vs. python"
   ]
  },
  {
   "cell_type": "code",
   "execution_count": 46,
   "metadata": {},
   "outputs": [
    {
     "data": {
      "text/plain": [
       "-3.076269923878184e-08"
      ]
     },
     "execution_count": 46,
     "metadata": {},
     "output_type": "execute_result"
    }
   ],
   "source": [
    "(dict_version_fortran_model_energy[\"mbx_pbc_no_co2w\"]-dict_version_model_energy[\"mbx_pbc_no_co2w\"])/dict_version_model_energy[\"mbx_pbc_no_co2w\"]"
   ]
  },
  {
   "cell_type": "code",
   "execution_count": 47,
   "metadata": {},
   "outputs": [
    {
     "data": {
      "text/plain": [
       "array([[-7.82403471e-07, -1.48010214e-05, -3.31099927e-06],\n",
       "       [-1.48010214e-05, -7.99923619e-07,  1.09027785e-06],\n",
       "       [-3.31099927e-06,  1.09027785e-06, -3.11080382e-07]])"
      ]
     },
     "execution_count": 47,
     "metadata": {},
     "output_type": "execute_result"
    }
   ],
   "source": [
    "(dict_version_fortran_model_virial[\"mbx_pbc_no_co2w\"]-dict_version_model_virial[\"mbx_pbc_no_co2w\"])/dict_version_model_virial[\"mbx_pbc_no_co2w\"]"
   ]
  },
  {
   "cell_type": "code",
   "execution_count": 48,
   "metadata": {},
   "outputs": [
    {
     "data": {
      "text/plain": [
       "array([[-9.87713163e-05, -1.74319300e-06, -1.32156050e-06],\n",
       "       [-1.74319300e-06, -1.00690719e-04, -4.33684495e-07],\n",
       "       [-1.32156050e-06, -4.33684495e-07, -9.87166451e-05]])"
      ]
     },
     "execution_count": 48,
     "metadata": {},
     "output_type": "execute_result"
    }
   ],
   "source": [
    "(dict_version_fortran_model_virial[\"mbx_pbc_no_co2w\"]-dict_version_model_virial[\"mbx_pbc_no_co2w\"])"
   ]
  },
  {
   "cell_type": "code",
   "execution_count": null,
   "metadata": {},
   "outputs": [],
   "source": []
  },
  {
   "cell_type": "code",
   "execution_count": null,
   "metadata": {},
   "outputs": [],
   "source": []
  },
  {
   "cell_type": "markdown",
   "metadata": {},
   "source": [
    "## fortran vs. single_point"
   ]
  },
  {
   "cell_type": "code",
   "execution_count": 61,
   "metadata": {},
   "outputs": [
    {
     "data": {
      "text/plain": [
       "array([[-7.82403471e-07, -1.48010214e-05, -3.31099927e-06],\n",
       "       [-1.48010214e-05, -7.99923620e-07,  1.09027785e-06],\n",
       "       [-3.31099927e-06,  1.09027785e-06, -3.11080382e-07]])"
      ]
     },
     "execution_count": 61,
     "metadata": {},
     "output_type": "execute_result"
    }
   ],
   "source": [
    "(dict_version_fortran_model_virial[\"mbx_pbc_no_co2w\"]-dict_version_single_point_virial [\"mbx_pbc_no_co2w\"])/dict_version_single_point_virial[\"mbx_pbc_no_co2w\"]"
   ]
  },
  {
   "cell_type": "code",
   "execution_count": 62,
   "metadata": {},
   "outputs": [
    {
     "data": {
      "text/plain": [
       "5.514807840536607e-07"
      ]
     },
     "execution_count": 62,
     "metadata": {},
     "output_type": "execute_result"
    }
   ],
   "source": [
    "(dict_version_fortran_model_energy[\"mbx_pbc_no_co2w\"]-dict_version_single_point_energy[\"mbx_pbc_no_co2w\"])/dict_version_single_point_energy[\"mbx_pbc_no_co2w\"]"
   ]
  },
  {
   "cell_type": "code",
   "execution_count": null,
   "metadata": {},
   "outputs": [],
   "source": []
  },
  {
   "cell_type": "code",
   "execution_count": null,
   "metadata": {},
   "outputs": [],
   "source": []
  }
 ],
 "metadata": {
  "kernelspec": {
   "display_name": "Python 2",
   "language": "python",
   "name": "python2"
  },
  "language_info": {
   "codemirror_mode": {
    "name": "ipython",
    "version": 2
   },
   "file_extension": ".py",
   "mimetype": "text/x-python",
   "name": "python",
   "nbconvert_exporter": "python",
   "pygments_lexer": "ipython2",
   "version": "2.7.15"
  }
 },
 "nbformat": 4,
 "nbformat_minor": 2
}
