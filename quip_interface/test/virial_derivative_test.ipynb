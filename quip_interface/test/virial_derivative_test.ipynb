{
 "cells": [
  {
   "cell_type": "code",
   "execution_count": 1,
   "metadata": {},
   "outputs": [],
   "source": [
    "import quippy\n",
    "import ase\n",
    "from ase.calculators.calculator import all_changes\n",
    "\n",
    "import logging\n",
    "logging.basicConfig(level=logging.WARNING)"
   ]
  },
  {
   "cell_type": "code",
   "execution_count": 2,
   "metadata": {},
   "outputs": [],
   "source": [
    "import matplotlib as mpl\n",
    "import matplotlib.pyplot as plt\n",
    "import numpy as np"
   ]
  },
  {
   "cell_type": "code",
   "execution_count": 3,
   "metadata": {},
   "outputs": [],
   "source": [
    "import os\n",
    "import sys"
   ]
  },
  {
   "cell_type": "code",
   "execution_count": 4,
   "metadata": {},
   "outputs": [],
   "source": [
    "sys.path.insert(0,\"/home/es732/programs/function_modules/\")\n",
    "import mbx_functions"
   ]
  },
  {
   "cell_type": "code",
   "execution_count": 5,
   "metadata": {},
   "outputs": [
    {
     "name": "stdout",
     "output_type": "stream",
     "text": [
      "/home/es732/programs/mbx_tests\n"
     ]
    }
   ],
   "source": [
    "dirpath = os.getcwd()\n",
    "print dirpath"
   ]
  },
  {
   "cell_type": "code",
   "execution_count": 6,
   "metadata": {},
   "outputs": [],
   "source": [
    "from collections import OrderedDict"
   ]
  },
  {
   "cell_type": "code",
   "execution_count": 9,
   "metadata": {},
   "outputs": [],
   "source": [
    "d_list=[0.1,0.01,0.001,0.0001,0.00001,0.000001]"
   ]
  },
  {
   "cell_type": "code",
   "execution_count": 65,
   "metadata": {},
   "outputs": [],
   "source": [
    "version_list=[\"mbx_pbc\",\"mbx_pbc_no_mww_pip\",\"mbx_pbc_no_www_mww\",\"mbx_pbc_no_ww_mw_www_mww\",\n",
    "              \"mbx_pbc_no_ww_mw\",\"mbx_pbc_no_ww\",\"mbx_pbc_no_mw\"]"
   ]
  },
  {
   "cell_type": "code",
   "execution_count": 66,
   "metadata": {},
   "outputs": [],
   "source": [
    "dict_version_d_virial=OrderedDict([(version,\n",
    "                                    OrderedDict([(d, [[np.NaN, np.NaN, np.NaN], [np.NaN, np.NaN, np.NaN], [np.NaN, np.NaN, np.NaN]])\n",
    "                                                 for d in d_list]))\n",
    "                                   for version in version_list])"
   ]
  },
  {
   "cell_type": "code",
   "execution_count": 67,
   "metadata": {},
   "outputs": [],
   "source": [
    "dict_version_model_virial=OrderedDict([(version,[[np.NaN, np.NaN, np.NaN], [np.NaN, np.NaN, np.NaN], [np.NaN, np.NaN, np.NaN]])\n",
    "                                   for version in version_list])"
   ]
  },
  {
   "cell_type": "code",
   "execution_count": 68,
   "metadata": {},
   "outputs": [],
   "source": [
    "def calculate_numerical_virial_diag(pot, in_atoms, d=1e-2):\n",
    "    ## modified from the function calculate_numerical_stress() at ase/calculators/calculator.py \n",
    "    \"\"\"Calculate numerical stress using finite difference.\"\"\"\n",
    "\n",
    "    atoms=in_atoms.copy()\n",
    "    stress = np.zeros((3, 3), dtype=float)\n",
    "\n",
    "    cell = atoms.cell.copy()\n",
    "    V = atoms.get_volume()\n",
    "    for i in range(3):\n",
    "        x = np.eye(3)\n",
    "        x[i, i] += d\n",
    "        atoms.set_cell(np.dot(cell, x), scale_atoms=True)\n",
    "        atoms.set_calculator(pot)\n",
    "        eplus = atoms.get_potential_energy()#force_consistent=True)\n",
    "        pot.reset()\n",
    "\n",
    "        x[i, i] -= 2 * d\n",
    "        atoms.set_cell(np.dot(cell, x), scale_atoms=True)\n",
    "        atoms.set_calculator(pot)\n",
    "        eminus = atoms.get_potential_energy()#force_consistent=True)\n",
    "        pot.reset()\n",
    "\n",
    "        stress[i, i] = (eplus - eminus) / (2 * d * V)\n",
    "        x[i, i] += d\n",
    "    atoms.set_cell(cell, scale_atoms=True)\n",
    "    virial= (-stress*atoms.get_volume())\n",
    "    return virial"
   ]
  },
  {
   "cell_type": "code",
   "execution_count": 69,
   "metadata": {},
   "outputs": [],
   "source": [
    "this_root=\"/home/es732/programs/mbx_tests/single_point/pbc/clathrate/\""
   ]
  },
  {
   "cell_type": "code",
   "execution_count": 70,
   "metadata": {},
   "outputs": [],
   "source": [
    "this_struct=\"phase_clathrate_2x2x2\"\n",
    "this_at_tmp=quippy.Atoms(this_root+\"11.74290/\"+this_struct+\".xyz\")\n",
    "dict_pot=mbx_functions.create_mbx_potential_variables(this_at_tmp)"
   ]
  },
  {
   "cell_type": "code",
   "execution_count": null,
   "metadata": {},
   "outputs": [],
   "source": []
  },
  {
   "cell_type": "markdown",
   "metadata": {},
   "source": [
    "## diagonal_virial=F, no PIPs"
   ]
  },
  {
   "cell_type": "code",
   "execution_count": 16,
   "metadata": {},
   "outputs": [
    {
     "name": "stdout",
     "output_type": "stream",
     "text": [
      "mbx_pbc_no_ww_mw_www_mww\n"
     ]
    }
   ],
   "source": [
    "this_version=version_list[3]\n",
    "print this_version"
   ]
  },
  {
   "cell_type": "code",
   "execution_count": 17,
   "metadata": {},
   "outputs": [],
   "source": [
    "pot_MBX = quippy.Potential(\"IP MBXPBC diagonal_virial=F n_monomers_types={\"+\n",
    "                           dict_pot[\"n_monomers_types\"]+\"} nmon=\"+str(dict_pot[\"nmon\"])+\n",
    "                           \" json_file=\"+this_version+\".json\",param_str=\"\")"
   ]
  },
  {
   "cell_type": "code",
   "execution_count": 18,
   "metadata": {},
   "outputs": [],
   "source": [
    "at= this_at_tmp.copy()"
   ]
  },
  {
   "cell_type": "code",
   "execution_count": 19,
   "metadata": {},
   "outputs": [
    {
     "name": "stdout",
     "output_type": "stream",
     "text": [
      "[[-1201.36578723     1.92256555     4.35904139]\n",
      " [    1.92256555 -1218.03530776     5.64420666]\n",
      " [    4.35904139     5.64420666 -1213.85989147]]\n"
     ]
    }
   ],
   "source": [
    "pot_MBX.calc(at,virial=True)\n",
    "dict_version_model_virial[this_version] = np.array( at.params[\"virial\"])\n",
    "print dict_version_model_virial[this_version]"
   ]
  },
  {
   "cell_type": "code",
   "execution_count": 20,
   "metadata": {
    "scrolled": false
   },
   "outputs": [],
   "source": [
    "for tmp_d in [0.01,0.001,0.0001]:#,0.00001, 0.000001, 0.0000001, 0.00000001, 0.000000001]:\n",
    "    dict_version_d_virial[this_version][tmp_d] = calculate_numerical_virial_diag(pot=pot_MBX,in_atoms=this_at_tmp.copy(),d=tmp_d)\n",
    "    "
   ]
  },
  {
   "cell_type": "markdown",
   "metadata": {},
   "source": [
    "## diagonal_virial=F, no 3b PIPs"
   ]
  },
  {
   "cell_type": "code",
   "execution_count": 21,
   "metadata": {},
   "outputs": [
    {
     "name": "stdout",
     "output_type": "stream",
     "text": [
      "mbx_pbc_no_www_mww\n"
     ]
    }
   ],
   "source": [
    "this_version=version_list[2]\n",
    "print this_version"
   ]
  },
  {
   "cell_type": "code",
   "execution_count": 22,
   "metadata": {},
   "outputs": [],
   "source": [
    "pot_MBX = quippy.Potential(\"IP MBXPBC diagonal_virial=F n_monomers_types={\"+\n",
    "                           dict_pot[\"n_monomers_types\"]+\"} nmon=\"+str(dict_pot[\"nmon\"])+\n",
    "                           \" json_file=\"+this_version+\".json\",param_str=\"\")"
   ]
  },
  {
   "cell_type": "code",
   "execution_count": 23,
   "metadata": {},
   "outputs": [],
   "source": [
    "at= this_at_tmp.copy()"
   ]
  },
  {
   "cell_type": "code",
   "execution_count": 24,
   "metadata": {},
   "outputs": [
    {
     "name": "stdout",
     "output_type": "stream",
     "text": [
      "[[-2.49062583e+02  9.19533564e-01  1.05273100e-01]\n",
      " [ 9.19533564e-01 -2.47789626e+02 -2.06715905e+00]\n",
      " [ 1.05273100e-01 -2.06715905e+00 -2.46279058e+02]]\n"
     ]
    }
   ],
   "source": [
    "pot_MBX.calc(at,virial=True)\n",
    "dict_version_model_virial[this_version] = np.array( at.params[\"virial\"])\n",
    "print dict_version_model_virial[this_version]"
   ]
  },
  {
   "cell_type": "code",
   "execution_count": 25,
   "metadata": {},
   "outputs": [],
   "source": [
    "for tmp_d in [0.01,0.001,0.0001]:#,0.00001, 0.000001, 0.0000001, 0.00000001, 0.000000001]:\n",
    "    dict_version_d_virial[this_version][tmp_d] = calculate_numerical_virial_diag(pot=pot_MBX,in_atoms=this_at_tmp.copy(),d=tmp_d)\n",
    "    "
   ]
  },
  {
   "cell_type": "code",
   "execution_count": null,
   "metadata": {},
   "outputs": [],
   "source": []
  },
  {
   "cell_type": "markdown",
   "metadata": {},
   "source": [
    "## diagonal_virial=F, full MBX"
   ]
  },
  {
   "cell_type": "code",
   "execution_count": 26,
   "metadata": {},
   "outputs": [
    {
     "name": "stdout",
     "output_type": "stream",
     "text": [
      "mbx_pbc\n"
     ]
    }
   ],
   "source": [
    "this_version=version_list[0]\n",
    "print this_version"
   ]
  },
  {
   "cell_type": "code",
   "execution_count": 27,
   "metadata": {},
   "outputs": [],
   "source": [
    "pot_MBX = quippy.Potential(\"IP MBXPBC diagonal_virial=F n_monomers_types={\"+\n",
    "                           dict_pot[\"n_monomers_types\"]+\"} nmon=\"+str(dict_pot[\"nmon\"])+\n",
    "                           \" json_file=\"+this_version+\".json\",param_str=\"\")"
   ]
  },
  {
   "cell_type": "code",
   "execution_count": 28,
   "metadata": {},
   "outputs": [],
   "source": [
    "at= this_at_tmp.copy()"
   ]
  },
  {
   "cell_type": "code",
   "execution_count": 29,
   "metadata": {},
   "outputs": [
    {
     "name": "stdout",
     "output_type": "stream",
     "text": [
      "[[-2.20669283e+02 -1.73001699e-01 -5.79919607e-01]\n",
      " [-1.73001699e-01 -2.20094017e+02 -2.49964680e-01]\n",
      " [-5.79919607e-01 -2.49964680e-01 -2.19885250e+02]]\n"
     ]
    }
   ],
   "source": [
    "pot_MBX.calc(at,virial=True)\n",
    "dict_version_model_virial[this_version] = np.array( at.params[\"virial\"])\n",
    "print dict_version_model_virial[this_version]"
   ]
  },
  {
   "cell_type": "code",
   "execution_count": 30,
   "metadata": {
    "scrolled": false
   },
   "outputs": [],
   "source": [
    "for tmp_d in [0.1,0.01,0.001,0.0001]:#,0.00001, 0.000001, 0.0000001, 0.00000001, 0.000000001]:\n",
    "    dict_version_d_virial[this_version][tmp_d] = calculate_numerical_virial_diag(pot=pot_MBX,in_atoms=this_at_tmp.copy(),d=tmp_d)\n",
    "    "
   ]
  },
  {
   "cell_type": "markdown",
   "metadata": {},
   "source": [
    "## diagonal_virial=F, no 2b PIPs"
   ]
  },
  {
   "cell_type": "code",
   "execution_count": 50,
   "metadata": {},
   "outputs": [
    {
     "name": "stdout",
     "output_type": "stream",
     "text": [
      "mbx_pbc_no_ww_mw\n"
     ]
    }
   ],
   "source": [
    "this_version=version_list[4]\n",
    "print this_version"
   ]
  },
  {
   "cell_type": "code",
   "execution_count": 51,
   "metadata": {},
   "outputs": [],
   "source": [
    "pot_MBX = quippy.Potential(\"IP MBXPBC diagonal_virial=F n_monomers_types={\"+\n",
    "                           dict_pot[\"n_monomers_types\"]+\"} nmon=\"+str(dict_pot[\"nmon\"])+\n",
    "                           \" json_file=\"+this_version+\".json\",param_str=\"\")"
   ]
  },
  {
   "cell_type": "code",
   "execution_count": 52,
   "metadata": {},
   "outputs": [],
   "source": [
    "at= this_at_tmp.copy()"
   ]
  },
  {
   "cell_type": "code",
   "execution_count": 35,
   "metadata": {},
   "outputs": [
    {
     "name": "stdout",
     "output_type": "stream",
     "text": [
      "[[-1.17297249e+03  8.30030288e-01  3.67384868e+00]\n",
      " [ 8.30030288e-01 -1.19033970e+03  7.46140103e+00]\n",
      " [ 3.67384868e+00  7.46140103e+00 -1.18746608e+03]]\n"
     ]
    }
   ],
   "source": [
    "pot_MBX.calc(at,virial=True)\n",
    "dict_version_model_virial[this_version] = np.array( at.params[\"virial\"])\n",
    "print dict_version_model_virial[this_version]"
   ]
  },
  {
   "cell_type": "code",
   "execution_count": 36,
   "metadata": {},
   "outputs": [],
   "source": [
    "for tmp_d in [0.01,0.001,0.0001]:#,0.00001, 0.000001, 0.0000001, 0.00000001, 0.000000001]:\n",
    "    dict_version_d_virial[this_version][tmp_d] = calculate_numerical_virial_diag(pot=pot_MBX,in_atoms=this_at_tmp.copy(),d=tmp_d)\n",
    "    "
   ]
  },
  {
   "cell_type": "code",
   "execution_count": 53,
   "metadata": {},
   "outputs": [],
   "source": [
    "for tmp_d in [0.00001,0.000001]:#,0.00001, 0.000001, 0.0000001, 0.00000001, 0.000000001]:\n",
    "    dict_version_d_virial[this_version][tmp_d] = calculate_numerical_virial_diag(pot=pot_MBX,in_atoms=this_at_tmp.copy(),d=tmp_d)\n",
    "    "
   ]
  },
  {
   "cell_type": "markdown",
   "metadata": {},
   "source": [
    "## diagonal_virial=F, no ww 2b PIPs"
   ]
  },
  {
   "cell_type": "code",
   "execution_count": 72,
   "metadata": {},
   "outputs": [
    {
     "name": "stdout",
     "output_type": "stream",
     "text": [
      "mbx_pbc_no_ww\n"
     ]
    }
   ],
   "source": [
    "this_version=version_list[5]\n",
    "print this_version"
   ]
  },
  {
   "cell_type": "code",
   "execution_count": 73,
   "metadata": {},
   "outputs": [],
   "source": [
    "pot_MBX = quippy.Potential(\"IP MBXPBC diagonal_virial=F n_monomers_types={\"+\n",
    "                           dict_pot[\"n_monomers_types\"]+\"} nmon=\"+str(dict_pot[\"nmon\"])+\n",
    "                           \" json_file=\"+this_version+\".json\",param_str=\"\")"
   ]
  },
  {
   "cell_type": "code",
   "execution_count": 74,
   "metadata": {},
   "outputs": [],
   "source": [
    "at= this_at_tmp.copy()"
   ]
  },
  {
   "cell_type": "code",
   "execution_count": 75,
   "metadata": {},
   "outputs": [
    {
     "name": "stdout",
     "output_type": "stream",
     "text": [
      "[[-1118.07116494     1.49497428     3.35028786]\n",
      " [    1.49497428 -1135.65251189     6.57353867]\n",
      " [    3.35028786     6.57353867 -1132.19948817]]\n"
     ]
    }
   ],
   "source": [
    "pot_MBX.calc(at,virial=True)\n",
    "dict_version_model_virial[this_version] = np.array( at.params[\"virial\"])\n",
    "print dict_version_model_virial[this_version]"
   ]
  },
  {
   "cell_type": "code",
   "execution_count": 76,
   "metadata": {},
   "outputs": [],
   "source": [
    "for tmp_d in [0.01,0.001,0.0001]:#,0.00001, 0.000001, 0.0000001, 0.00000001, 0.000000001]:\n",
    "    dict_version_d_virial[this_version][tmp_d] = calculate_numerical_virial_diag(pot=pot_MBX,in_atoms=this_at_tmp.copy(),d=tmp_d)\n",
    "    "
   ]
  },
  {
   "cell_type": "code",
   "execution_count": 77,
   "metadata": {},
   "outputs": [],
   "source": [
    "for tmp_d in [0.00001,0.000001]:#,0.00001, 0.000001, 0.0000001, 0.00000001, 0.000000001]:\n",
    "    dict_version_d_virial[this_version][tmp_d] = calculate_numerical_virial_diag(pot=pot_MBX,in_atoms=this_at_tmp.copy(),d=tmp_d)\n",
    "    "
   ]
  },
  {
   "cell_type": "markdown",
   "metadata": {},
   "source": [
    "## diagonal_virial=F, no mw 2b PIPs"
   ]
  },
  {
   "cell_type": "code",
   "execution_count": 78,
   "metadata": {},
   "outputs": [
    {
     "name": "stdout",
     "output_type": "stream",
     "text": [
      "mbx_pbc_no_mw\n"
     ]
    }
   ],
   "source": [
    "this_version=version_list[6]\n",
    "print this_version"
   ]
  },
  {
   "cell_type": "code",
   "execution_count": 79,
   "metadata": {},
   "outputs": [],
   "source": [
    "pot_MBX = quippy.Potential(\"IP MBXPBC diagonal_virial=F n_monomers_types={\"+\n",
    "                           dict_pot[\"n_monomers_types\"]+\"} nmon=\"+str(dict_pot[\"nmon\"])+\n",
    "                           \" json_file=\"+this_version+\".json\",param_str=\"\")"
   ]
  },
  {
   "cell_type": "code",
   "execution_count": 80,
   "metadata": {},
   "outputs": [],
   "source": [
    "at= this_at_tmp.copy()"
   ]
  },
  {
   "cell_type": "code",
   "execution_count": 81,
   "metadata": {},
   "outputs": [
    {
     "name": "stdout",
     "output_type": "stream",
     "text": [
      "[[-2.75570605e+02 -8.37945692e-01 -2.56358785e-01]\n",
      " [-8.37945692e-01 -2.74781203e+02  6.37897674e-01]\n",
      " [-2.56358785e-01  6.37897674e-01 -2.75151845e+02]]\n"
     ]
    }
   ],
   "source": [
    "pot_MBX.calc(at,virial=True)\n",
    "dict_version_model_virial[this_version] = np.array( at.params[\"virial\"])\n",
    "print dict_version_model_virial[this_version]"
   ]
  },
  {
   "cell_type": "code",
   "execution_count": 82,
   "metadata": {},
   "outputs": [],
   "source": [
    "for tmp_d in [0.01,0.001,0.0001]:#,0.00001, 0.000001, 0.0000001, 0.00000001, 0.000000001]:\n",
    "    dict_version_d_virial[this_version][tmp_d] = calculate_numerical_virial_diag(pot=pot_MBX,in_atoms=this_at_tmp.copy(),d=tmp_d)\n",
    "    "
   ]
  },
  {
   "cell_type": "code",
   "execution_count": 83,
   "metadata": {},
   "outputs": [],
   "source": [
    "for tmp_d in [0.00001,0.000001]:#,0.00001, 0.000001, 0.0000001, 0.00000001, 0.000000001]:\n",
    "    dict_version_d_virial[this_version][tmp_d] = calculate_numerical_virial_diag(pot=pot_MBX,in_atoms=this_at_tmp.copy(),d=tmp_d)\n",
    "    "
   ]
  },
  {
   "cell_type": "code",
   "execution_count": null,
   "metadata": {},
   "outputs": [],
   "source": []
  },
  {
   "cell_type": "code",
   "execution_count": null,
   "metadata": {},
   "outputs": [],
   "source": []
  },
  {
   "cell_type": "code",
   "execution_count": null,
   "metadata": {},
   "outputs": [],
   "source": []
  },
  {
   "cell_type": "code",
   "execution_count": null,
   "metadata": {},
   "outputs": [],
   "source": []
  },
  {
   "cell_type": "code",
   "execution_count": 84,
   "metadata": {},
   "outputs": [
    {
     "data": {
      "text/plain": [
       "['mbx_pbc',\n",
       " 'mbx_pbc_no_mww_pip',\n",
       " 'mbx_pbc_no_www_mww',\n",
       " 'mbx_pbc_no_ww_mw_www_mww',\n",
       " 'mbx_pbc_no_ww_mw',\n",
       " 'mbx_pbc_no_ww',\n",
       " 'mbx_pbc_no_mw']"
      ]
     },
     "execution_count": 84,
     "metadata": {},
     "output_type": "execute_result"
    }
   ],
   "source": [
    "version_list"
   ]
  },
  {
   "cell_type": "code",
   "execution_count": null,
   "metadata": {},
   "outputs": [],
   "source": []
  },
  {
   "cell_type": "markdown",
   "metadata": {},
   "source": [
    "## Errors in derivative virial / Virial from model (only diagonal)"
   ]
  },
  {
   "cell_type": "markdown",
   "metadata": {},
   "source": [
    "### full model"
   ]
  },
  {
   "cell_type": "code",
   "execution_count": 62,
   "metadata": {},
   "outputs": [
    {
     "name": "stdout",
     "output_type": "stream",
     "text": [
      "d = 0.01\n",
      "[0.01843925 0.01888588 0.01771213]\n",
      "d = 0.001\n",
      "[0.02160422 0.02203191 0.0208612 ]\n",
      "d = 0.0001\n",
      "[0.02163523 0.02206479 0.02089313]\n"
     ]
    }
   ],
   "source": [
    "this_version=\"mbx_pbc\"\n",
    "for tmp_d in [0.01,0.001,0.0001]:#,0.00001, 0.000001, 0.0000001, 0.00000001, 0.000000001]:\n",
    "    print \"d =\",tmp_d\n",
    "    print np.diag((dict_version_d_virial[this_version][tmp_d] -dict_version_model_virial[this_version])/dict_version_model_virial[this_version])"
   ]
  },
  {
   "cell_type": "markdown",
   "metadata": {},
   "source": [
    "### model without PIPs"
   ]
  },
  {
   "cell_type": "code",
   "execution_count": 61,
   "metadata": {},
   "outputs": [
    {
     "name": "stdout",
     "output_type": "stream",
     "text": [
      "d = 0.01\n",
      "[-0.00036129 -0.00033746 -0.00032154]\n",
      "d = 0.001\n",
      "[-3.61318902e-06 -3.37710712e-06 -3.21324275e-06]\n",
      "d = 0.0001\n",
      "[-3.64780990e-08 -3.38677207e-08 -3.20504887e-08]\n"
     ]
    }
   ],
   "source": [
    "this_version=\"mbx_pbc_no_ww_mw_www_mww\"\n",
    "for tmp_d in [0.01,0.001,0.0001]:#,0.00001, 0.000001, 0.0000001, 0.00000001, 0.000000001]:\n",
    "    print \"d =\",tmp_d\n",
    "    print np.diag((dict_version_d_virial[this_version][tmp_d] -dict_version_model_virial[this_version])/dict_version_model_virial[this_version])"
   ]
  },
  {
   "cell_type": "markdown",
   "metadata": {},
   "source": [
    "### model without 2B PIPs"
   ]
  },
  {
   "cell_type": "code",
   "execution_count": 60,
   "metadata": {
    "scrolled": true
   },
   "outputs": [
    {
     "name": "stdout",
     "output_type": "stream",
     "text": [
      "d = 0.01\n",
      "[-0.00034597 -0.00032175 -0.00032353]\n",
      "d = 0.001\n",
      "[-3.24174712e-06 -3.45965736e-06 -3.29529788e-06]\n",
      "d = 0.0001\n",
      "[-3.33780810e-08 -3.53389607e-08 -4.75754578e-08]\n",
      "d = 1e-05\n",
      "[ 1.46731551e-09 -3.07620421e-10 -1.93714635e-09]\n",
      "d = 1e-06\n",
      "[ 8.95475914e-10  1.33834364e-08 -1.52305089e-08]\n"
     ]
    }
   ],
   "source": [
    "this_version=\"mbx_pbc_no_ww_mw\"\n",
    "for tmp_d in [0.01,0.001,0.0001,0.00001, 0.000001]:#, 0.0000001, 0.00000001, 0.000000001]:\n",
    "    print \"d =\",tmp_d\n",
    "    print np.diag((dict_version_d_virial[this_version][tmp_d] -dict_version_model_virial[this_version])/dict_version_model_virial[this_version])"
   ]
  },
  {
   "cell_type": "markdown",
   "metadata": {},
   "source": [
    "### model without 3B PIPs"
   ]
  },
  {
   "cell_type": "code",
   "execution_count": 59,
   "metadata": {
    "scrolled": true
   },
   "outputs": [
    {
     "name": "stdout",
     "output_type": "stream",
     "text": [
      "d = 0.01\n",
      "[0.01622383 0.01666182 0.01578907]\n",
      "d = 0.001\n",
      "[0.01913916 0.01956941 0.01862555]\n",
      "d = 0.0001\n",
      "[0.01916878 0.0195986  0.01865408]\n",
      "d = 1e-05\n",
      "[3.70954921 3.80383185 3.82162832]\n",
      "d = 1e-06\n",
      "[3.7095492  3.80383192 3.82162826]\n"
     ]
    }
   ],
   "source": [
    "this_version=\"mbx_pbc_no_www_mww\"\n",
    "for tmp_d in [0.01,0.001,0.0001,0.00001, 0.000001]:#, 0.0000001, 0.00000001, 0.000000001]:\n",
    "    print \"d =\",tmp_d\n",
    "    print np.diag((dict_version_d_virial[this_version][tmp_d] -dict_version_model_virial[this_version])/dict_version_model_virial[this_version])"
   ]
  },
  {
   "cell_type": "markdown",
   "metadata": {},
   "source": [
    "### model without 2B ww PIPs"
   ]
  },
  {
   "cell_type": "code",
   "execution_count": 85,
   "metadata": {
    "scrolled": true
   },
   "outputs": [
    {
     "name": "stdout",
     "output_type": "stream",
     "text": [
      "d = 0.01\n",
      "[0.00389339 0.00391755 0.00369661]\n",
      "d = 0.001\n",
      "[0.00426649 0.00427242 0.004054  ]\n",
      "d = 0.0001\n",
      "[0.00427009 0.00427627 0.00405769]\n",
      "d = 1e-05\n",
      "[0.00427013 0.00427631 0.00405774]\n",
      "d = 1e-06\n",
      "[0.00427013 0.00427632 0.00405773]\n"
     ]
    }
   ],
   "source": [
    "this_version=\"mbx_pbc_no_ww\"\n",
    "for tmp_d in [0.01,0.001,0.0001,0.00001, 0.000001]:#, 0.0000001, 0.00000001, 0.000000001]:\n",
    "    print \"d =\",tmp_d\n",
    "    print np.diag((dict_version_d_virial[this_version][tmp_d] -dict_version_model_virial[this_version])/dict_version_model_virial[this_version])"
   ]
  },
  {
   "cell_type": "markdown",
   "metadata": {},
   "source": [
    "### model without 2B mw PIPs"
   ]
  },
  {
   "cell_type": "code",
   "execution_count": 86,
   "metadata": {
    "scrolled": true
   },
   "outputs": [
    {
     "name": "stdout",
     "output_type": "stream",
     "text": [
      "d = 0.01\n",
      "[-0.00250363 -0.00245759 -0.00245265]\n",
      "d = 0.001\n",
      "[-2.41412855e-05 -2.55328592e-05 -2.46206613e-05]\n",
      "d = 0.0001\n",
      "[-2.46579086e-07 -2.44570064e-07 -2.92782727e-07]\n",
      "d = 1e-05\n",
      "[ 9.10950493e-09 -8.63098351e-09 -1.35391094e-08]\n",
      "d = 1e-06\n",
      "[-1.19821476e-08  7.66451493e-08 -6.91632703e-08]\n"
     ]
    }
   ],
   "source": [
    "this_version=\"mbx_pbc_no_mw\"\n",
    "for tmp_d in [0.01,0.001,0.0001,0.00001, 0.000001]:#, 0.0000001, 0.00000001, 0.000000001]:\n",
    "    print \"d =\",tmp_d\n",
    "    print np.diag((dict_version_d_virial[this_version][tmp_d] -dict_version_model_virial[this_version])/dict_version_model_virial[this_version])"
   ]
  },
  {
   "cell_type": "code",
   "execution_count": null,
   "metadata": {},
   "outputs": [],
   "source": []
  },
  {
   "cell_type": "code",
   "execution_count": null,
   "metadata": {},
   "outputs": [],
   "source": []
  },
  {
   "cell_type": "code",
   "execution_count": null,
   "metadata": {},
   "outputs": [],
   "source": []
  },
  {
   "cell_type": "code",
   "execution_count": null,
   "metadata": {},
   "outputs": [],
   "source": []
  },
  {
   "cell_type": "code",
   "execution_count": null,
   "metadata": {},
   "outputs": [],
   "source": []
  },
  {
   "cell_type": "code",
   "execution_count": null,
   "metadata": {},
   "outputs": [],
   "source": []
  },
  {
   "cell_type": "code",
   "execution_count": null,
   "metadata": {},
   "outputs": [],
   "source": []
  },
  {
   "cell_type": "markdown",
   "metadata": {},
   "source": [
    "# test full potential with smaller deltas"
   ]
  },
  {
   "cell_type": "markdown",
   "metadata": {},
   "source": [
    "## diagonal_virial=F, full MBX"
   ]
  },
  {
   "cell_type": "code",
   "execution_count": 36,
   "metadata": {},
   "outputs": [
    {
     "name": "stdout",
     "output_type": "stream",
     "text": [
      "mbx_pbc\n"
     ]
    }
   ],
   "source": [
    "this_version=version_list[0]\n",
    "print this_version"
   ]
  },
  {
   "cell_type": "code",
   "execution_count": 37,
   "metadata": {},
   "outputs": [],
   "source": [
    "pot_MBX = quippy.Potential(\"IP MBXPBC diagonal_virial=F n_monomers_types={\"+\n",
    "                           dict_pot[\"n_monomers_types\"]+\"} nmon=\"+str(dict_pot[\"nmon\"])+\n",
    "                           \" json_file=\"+this_version+\".json\",param_str=\"\")"
   ]
  },
  {
   "cell_type": "code",
   "execution_count": 38,
   "metadata": {},
   "outputs": [],
   "source": [
    "at= this_at_tmp.copy()"
   ]
  },
  {
   "cell_type": "code",
   "execution_count": 39,
   "metadata": {},
   "outputs": [
    {
     "name": "stdout",
     "output_type": "stream",
     "text": [
      "[[-2.20669283e+02 -1.73001699e-01 -5.79919607e-01]\n",
      " [-1.73001699e-01 -2.20094017e+02 -2.49964680e-01]\n",
      " [-5.79919607e-01 -2.49964680e-01 -2.19885250e+02]]\n"
     ]
    }
   ],
   "source": [
    "pot_MBX.calc(at,virial=True)\n",
    "dict_version_model_virial[this_version] = np.array( at.params[\"virial\"])\n",
    "print dict_version_model_virial[this_version]"
   ]
  },
  {
   "cell_type": "code",
   "execution_count": null,
   "metadata": {},
   "outputs": [],
   "source": []
  },
  {
   "cell_type": "code",
   "execution_count": 40,
   "metadata": {},
   "outputs": [],
   "source": [
    "d_list=[0.1,0.01,0.001,0.0001,0.00001,0.000001,0.0000001]"
   ]
  },
  {
   "cell_type": "code",
   "execution_count": 41,
   "metadata": {},
   "outputs": [],
   "source": [
    "dict_fullMBX_d_virial=OrderedDict([(d, [[np.NaN, np.NaN, np.NaN], [np.NaN, np.NaN, np.NaN], [np.NaN, np.NaN, np.NaN]])\n",
    "                                                 for d in d_list])\n",
    "                                   "
   ]
  },
  {
   "cell_type": "code",
   "execution_count": null,
   "metadata": {},
   "outputs": [],
   "source": []
  },
  {
   "cell_type": "code",
   "execution_count": 42,
   "metadata": {
    "scrolled": false
   },
   "outputs": [],
   "source": [
    "for tmp_d in [0.1,0.01,0.001,0.0001]:#,0.00001, 0.000001, 0.0000001, 0.00000001, 0.000000001]:\n",
    "    dict_fullMBX_d_virial[tmp_d] = calculate_numerical_virial_diag(pot=pot_MBX,in_atoms=this_at_tmp.copy(),d=tmp_d)\n",
    "    "
   ]
  },
  {
   "cell_type": "code",
   "execution_count": 46,
   "metadata": {},
   "outputs": [
    {
     "name": "stdout",
     "output_type": "stream",
     "text": [
      "[[-0.30704054 -1.         -1.        ]\n",
      " [-1.         -0.29877948 -1.        ]\n",
      " [-1.         -1.         -0.2894381 ]]\n",
      "[[ 0.01843925 -1.         -1.        ]\n",
      " [-1.          0.01888588 -1.        ]\n",
      " [-1.         -1.          0.01771213]]\n",
      "[[ 0.02160422 -1.         -1.        ]\n",
      " [-1.          0.02203191 -1.        ]\n",
      " [-1.         -1.          0.0208612 ]]\n",
      "[[ 0.02163523 -1.         -1.        ]\n",
      " [-1.          0.02206479 -1.        ]\n",
      " [-1.         -1.          0.02089313]]\n"
     ]
    }
   ],
   "source": [
    "for tmp_d in [0.1,0.01,0.001,0.0001]:#,0.00001, 0.000001, 0.0000001, 0.00000001, 0.000000001]:\n",
    "    print (dict_fullMBX_d_virial[tmp_d]-dict_version_model_virial[\"mbx_pbc\"])/dict_version_model_virial[\"mbx_pbc\"]"
   ]
  },
  {
   "cell_type": "code",
   "execution_count": 47,
   "metadata": {},
   "outputs": [],
   "source": [
    "for tmp_d in [0.00001,0.000001,0.0000001]:#,0.00001, 0.000001, 0.0000001, 0.00000001, 0.000000001]:\n",
    "    dict_fullMBX_d_virial[tmp_d] = calculate_numerical_virial_diag(pot=pot_MBX,in_atoms=this_at_tmp.copy(),d=tmp_d)\n",
    "    "
   ]
  },
  {
   "cell_type": "code",
   "execution_count": 54,
   "metadata": {},
   "outputs": [
    {
     "name": "stdout",
     "output_type": "stream",
     "text": [
      "d= 0.1\n",
      "(virial_fd - virial) / virial\n",
      "[[-0.30704054 -1.         -1.        ]\n",
      " [-1.         -0.29877948 -1.        ]\n",
      " [-1.         -1.         -0.2894381 ]]\n",
      "d= 0.01\n",
      "(virial_fd - virial) / virial\n",
      "[[ 0.01843925 -1.         -1.        ]\n",
      " [-1.          0.01888588 -1.        ]\n",
      " [-1.         -1.          0.01771213]]\n",
      "d= 0.001\n",
      "(virial_fd - virial) / virial\n",
      "[[ 0.02160422 -1.         -1.        ]\n",
      " [-1.          0.02203191 -1.        ]\n",
      " [-1.         -1.          0.0208612 ]]\n",
      "d= 0.0001\n",
      "(virial_fd - virial) / virial\n",
      "[[ 0.02163523 -1.         -1.        ]\n",
      " [-1.          0.02206479 -1.        ]\n",
      " [-1.         -1.          0.02089313]]\n",
      "d= 1e-05\n",
      "(virial_fd - virial) / virial\n",
      "[[ 0.02163557 -1.         -1.        ]\n",
      " [-1.          0.0220651  -1.        ]\n",
      " [-1.         -1.          0.0208935 ]]\n",
      "d= 1e-06\n",
      "(virial_fd - virial) / virial\n",
      "[[ 0.02163555 -1.         -1.        ]\n",
      " [-1.          0.02206521 -1.        ]\n",
      " [-1.         -1.          0.02089343]]\n",
      "d= 1e-07\n",
      "(virial_fd - virial) / virial\n",
      "[[ 0.02163646 -1.         -1.        ]\n",
      " [-1.          0.02206335 -1.        ]\n",
      " [-1.         -1.          0.02089377]]\n"
     ]
    }
   ],
   "source": [
    "for tmp_d in [0.1,0.01,0.001,0.0001,0.00001,0.000001,0.0000001]:\n",
    "    print \"d=\", tmp_d\n",
    "    print \"(virial_fd - virial) / virial\"\n",
    "    print (dict_fullMBX_d_virial[tmp_d]-dict_version_model_virial[\"mbx_pbc\"])/dict_version_model_virial[\"mbx_pbc\"]"
   ]
  },
  {
   "cell_type": "code",
   "execution_count": 55,
   "metadata": {},
   "outputs": [
    {
     "name": "stdout",
     "output_type": "stream",
     "text": [
      "d= 0.1\n",
      "virial_fd \n",
      "[[-152.9148664    -0.           -0.        ]\n",
      " [  -0.         -154.3344403    -0.        ]\n",
      " [  -0.           -0.         -156.24208168]]\n",
      "d= 0.01\n",
      "virial_fd \n",
      "[[-224.73826005   -0.           -0.        ]\n",
      " [  -0.         -224.25068605   -0.        ]\n",
      " [  -0.           -0.         -223.77988539]]\n",
      "d= 0.001\n",
      "virial_fd \n",
      "[[-225.4366711    -0.           -0.        ]\n",
      " [  -0.         -224.94310895   -0.        ]\n",
      " [  -0.           -0.         -224.47232048]]\n",
      "d= 0.0001\n",
      "virial_fd \n",
      "[[-225.44351427   -0.           -0.        ]\n",
      " [  -0.         -224.95034554   -0.        ]\n",
      " [  -0.           -0.         -224.47934059]]\n",
      "d= 1e-05\n",
      "virial_fd \n",
      "[[-225.44358832   -0.           -0.        ]\n",
      " [  -0.         -224.95041419   -0.        ]\n",
      " [  -0.           -0.         -224.47942097]]\n",
      "d= 1e-06\n",
      "virial_fd \n",
      "[[-225.44358353   -0.           -0.        ]\n",
      " [  -0.         -224.95043758   -0.        ]\n",
      " [  -0.           -0.         -224.47940603]]\n",
      "d= 1e-07\n",
      "virial_fd \n",
      "[[-225.4437841    -0.           -0.        ]\n",
      " [  -0.         -224.9500271    -0.        ]\n",
      " [  -0.           -0.         -224.47948069]]\n"
     ]
    }
   ],
   "source": [
    "for tmp_d in [0.1,0.01,0.001,0.0001,0.00001,0.000001,0.0000001]:\n",
    "    print \"d=\", tmp_d\n",
    "    print \"virial_fd \"\n",
    "    print (dict_fullMBX_d_virial[tmp_d])"
   ]
  },
  {
   "cell_type": "code",
   "execution_count": null,
   "metadata": {},
   "outputs": [],
   "source": []
  }
 ],
 "metadata": {
  "kernelspec": {
   "display_name": "Python 2",
   "language": "python",
   "name": "python2"
  },
  "language_info": {
   "codemirror_mode": {
    "name": "ipython",
    "version": 2
   },
   "file_extension": ".py",
   "mimetype": "text/x-python",
   "name": "python",
   "nbconvert_exporter": "python",
   "pygments_lexer": "ipython2",
   "version": "2.7.15"
  }
 },
 "nbformat": 4,
 "nbformat_minor": 2
}
